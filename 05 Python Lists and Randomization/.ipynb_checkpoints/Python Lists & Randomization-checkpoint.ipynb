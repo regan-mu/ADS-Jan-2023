{
 "cells": [
  {
   "cell_type": "markdown",
   "metadata": {},
   "source": [
    "# Randomization\n",
    "- This is a concept applied when we want to build programs with a certain degree of unpredictability.\n",
    "- This are mostly games like the **pong game**, **snake**.\n",
    "- In python we can implement randomization with the python's **random module**.\n",
    "- Docs: https://docs.python.org/3/library/random.html"
   ]
  },
  {
   "cell_type": "code",
   "execution_count": 3,
   "metadata": {},
   "outputs": [],
   "source": [
    "import random"
   ]
  },
  {
   "cell_type": "markdown",
   "metadata": {},
   "source": [
    "##### Generate a random integer.\n",
    "- we use the randint() method from the random module"
   ]
  },
  {
   "cell_type": "code",
   "execution_count": 14,
   "metadata": {},
   "outputs": [
    {
     "data": {
      "text/plain": [
       "10"
      ]
     },
     "execution_count": 14,
     "metadata": {},
     "output_type": "execute_result"
    }
   ],
   "source": [
    "rand_int = random.randint(1,10)\n",
    "rand_int"
   ]
  },
  {
   "cell_type": "code",
   "execution_count": 19,
   "metadata": {},
   "outputs": [
    {
     "name": "stdout",
     "output_type": "stream",
     "text": [
      "5\n"
     ]
    }
   ],
   "source": [
    "new_int = random.randrange(1,10)\n",
    "print(new_int)"
   ]
  },
  {
   "cell_type": "markdown",
   "metadata": {},
   "source": [
    "##### Generate a random floating point number\n",
    "- Use the random method from random module.\n",
    "- This random method returns a float between 0.0 and 1.0 but not including 1.0. (basically 0 - 0.9999999...)"
   ]
  },
  {
   "cell_type": "code",
   "execution_count": 27,
   "metadata": {},
   "outputs": [
    {
     "name": "stdout",
     "output_type": "stream",
     "text": [
      "0.07946516535640069\n"
     ]
    }
   ],
   "source": [
    "rand_float = random.random()\n",
    "print(rand_float)"
   ]
  },
  {
   "cell_type": "code",
   "execution_count": 31,
   "metadata": {},
   "outputs": [
    {
     "name": "stdout",
     "output_type": "stream",
     "text": [
      "6.2791910201308205\n"
     ]
    }
   ],
   "source": [
    "#QN: How can we generate a random float between 0 & 10?\n",
    "r_float = random.random() * 10\n",
    "print(r_float)"
   ]
  },
  {
   "cell_type": "markdown",
   "metadata": {},
   "source": [
    "### Exercise 1:\n",
    "- **Coin Toss**"
   ]
  },
  {
   "cell_type": "code",
   "execution_count": 44,
   "metadata": {},
   "outputs": [
    {
     "name": "stdout",
     "output_type": "stream",
     "text": [
      "Heads\n"
     ]
    }
   ],
   "source": [
    "# 1 = Head\n",
    "# 0 = Tail\n",
    "rand = random.randint(0,1)\n",
    "if rand == 0:\n",
    "    print('Tails')\n",
    "elif rand == 1: \n",
    "    print('Heads')"
   ]
  },
  {
   "cell_type": "code",
   "execution_count": 105,
   "metadata": {},
   "outputs": [
    {
     "name": "stdout",
     "output_type": "stream",
     "text": [
      "Tails\n"
     ]
    }
   ],
   "source": [
    "options = ['Heads', 'Tails']\n",
    "toss = random.choice(options)\n",
    "print(toss)"
   ]
  },
  {
   "cell_type": "markdown",
   "metadata": {},
   "source": [
    "# Python Lists\n",
    "- A list is a collection of items in a particular order.\n",
    "- You can put anything you want into a list, and the items in your list don’t have to be related in any particular way.\n",
    "- In Python, square brackets ([ ]) indicate a list, and individual elements in the list are separated by commas.\n",
    "\n",
    "###### Example:"
   ]
  },
  {
   "cell_type": "code",
   "execution_count": 66,
   "metadata": {},
   "outputs": [
    {
     "name": "stdout",
     "output_type": "stream",
     "text": [
      "['Audi', 'BMW', 'Mercedes', 'Nissan', 'Jeep', 'Lexus', 'Volvo', 'Landrover']\n"
     ]
    }
   ],
   "source": [
    "cars = ['Audi', 'BMW', 'Mercedes', 'Nissan', 'Jeep', 'Lexus', 'Volvo', 'Landrover']\n",
    "print(cars)"
   ]
  },
  {
   "cell_type": "markdown",
   "metadata": {},
   "source": [
    "### Accessing ELements of a List"
   ]
  },
  {
   "cell_type": "markdown",
   "metadata": {},
   "source": [
    "- Lists are ordered collections, so you can access any element in a list by telling Python the position, or index, of the item desired. \n",
    "- To access an element in a list, write the name of the list followed by the index of the item enclosed in square brackets.\n",
    "- In python the index value starts from zero (0) so the first element in the list has the index of 0."
   ]
  },
  {
   "cell_type": "code",
   "execution_count": 67,
   "metadata": {},
   "outputs": [
    {
     "data": {
      "text/plain": [
       "'Jeep'"
      ]
     },
     "execution_count": 67,
     "metadata": {},
     "output_type": "execute_result"
    }
   ],
   "source": [
    "cars[4]"
   ]
  },
  {
   "cell_type": "markdown",
   "metadata": {},
   "source": [
    "You can also use the string methods on any element in\n",
    "a list."
   ]
  },
  {
   "cell_type": "code",
   "execution_count": 68,
   "metadata": {},
   "outputs": [
    {
     "data": {
      "text/plain": [
       "'MERCEDES'"
      ]
     },
     "execution_count": 68,
     "metadata": {},
     "output_type": "execute_result"
    }
   ],
   "source": [
    "cars[2].upper()"
   ]
  },
  {
   "cell_type": "markdown",
   "metadata": {},
   "source": [
    "You can also access elements from the end of the list using a negative index."
   ]
  },
  {
   "cell_type": "code",
   "execution_count": 69,
   "metadata": {},
   "outputs": [
    {
     "data": {
      "text/plain": [
       "'Volvo'"
      ]
     },
     "execution_count": 69,
     "metadata": {},
     "output_type": "execute_result"
    }
   ],
   "source": [
    "# Last Element\n",
    "cars[-2]"
   ]
  },
  {
   "cell_type": "markdown",
   "metadata": {},
   "source": [
    "### Slicing a list\n",
    "You can access a section of a list using the slice operator."
   ]
  },
  {
   "cell_type": "code",
   "execution_count": 70,
   "metadata": {},
   "outputs": [
    {
     "data": {
      "text/plain": [
       "['Mercedes', 'Nissan', 'Jeep', 'Lexus']"
      ]
     },
     "execution_count": 70,
     "metadata": {},
     "output_type": "execute_result"
    }
   ],
   "source": [
    "cars[2:6]"
   ]
  },
  {
   "cell_type": "code",
   "execution_count": 71,
   "metadata": {},
   "outputs": [
    {
     "data": {
      "text/plain": [
       "['Audi', 'BMW', 'Mercedes', 'Nissan', 'Jeep']"
      ]
     },
     "execution_count": 71,
     "metadata": {},
     "output_type": "execute_result"
    }
   ],
   "source": [
    "cars[:5]"
   ]
  },
  {
   "cell_type": "code",
   "execution_count": 72,
   "metadata": {},
   "outputs": [
    {
     "data": {
      "text/plain": [
       "['Jeep', 'Lexus', 'Volvo', 'Landrover']"
      ]
     },
     "execution_count": 72,
     "metadata": {},
     "output_type": "execute_result"
    }
   ],
   "source": [
    "cars[4:]"
   ]
  },
  {
   "cell_type": "code",
   "execution_count": 73,
   "metadata": {},
   "outputs": [
    {
     "name": "stdout",
     "output_type": "stream",
     "text": [
      "['Audi', 'BMW', 'Mercedes', 'Nissan', 'Jeep', 'Lexus', 'Volvo', 'Landrover']\n"
     ]
    }
   ],
   "source": [
    "print(cars)"
   ]
  },
  {
   "cell_type": "code",
   "execution_count": 74,
   "metadata": {},
   "outputs": [
    {
     "data": {
      "text/plain": [
       "['Nissan', 'Jeep', 'Lexus', 'Volvo', 'Landrover']"
      ]
     },
     "execution_count": 74,
     "metadata": {},
     "output_type": "execute_result"
    }
   ],
   "source": [
    "# Qn\n",
    "cars[-5:]"
   ]
  },
  {
   "cell_type": "code",
   "execution_count": 75,
   "metadata": {},
   "outputs": [
    {
     "data": {
      "text/plain": [
       "['Audi', 'BMW', 'Mercedes', 'Nissan']"
      ]
     },
     "execution_count": 75,
     "metadata": {},
     "output_type": "execute_result"
    }
   ],
   "source": [
    "# Qn\n",
    "cars[:-4]"
   ]
  },
  {
   "cell_type": "markdown",
   "metadata": {},
   "source": [
    "### List Methods"
   ]
  },
  {
   "cell_type": "markdown",
   "metadata": {},
   "source": [
    "##### append()\n",
    "- Append method is used to add an item at the end of a list."
   ]
  },
  {
   "cell_type": "code",
   "execution_count": 76,
   "metadata": {},
   "outputs": [
    {
     "data": {
      "text/plain": [
       "['Audi', 'BMW', 'Mercedes', 'Nissan', 'Jeep', 'Lexus', 'Volvo', 'Landrover']"
      ]
     },
     "execution_count": 76,
     "metadata": {},
     "output_type": "execute_result"
    }
   ],
   "source": [
    "cars"
   ]
  },
  {
   "cell_type": "code",
   "execution_count": 77,
   "metadata": {},
   "outputs": [
    {
     "name": "stdout",
     "output_type": "stream",
     "text": [
      "['Audi', 'BMW', 'Mercedes', 'Nissan', 'Jeep', 'Lexus', 'Volvo', 'Landrover', 'Volkwagen']\n"
     ]
    }
   ],
   "source": [
    "cars.append('Volkwagen')\n",
    "print(cars)"
   ]
  },
  {
   "cell_type": "markdown",
   "metadata": {},
   "source": [
    "##### insert()\n",
    "- Used to insert an item at a certain position in a list."
   ]
  },
  {
   "cell_type": "code",
   "execution_count": 78,
   "metadata": {},
   "outputs": [
    {
     "name": "stdout",
     "output_type": "stream",
     "text": [
      "['Audi', 'BMW', 'Peugeot', 'Mercedes', 'Nissan', 'Jeep', 'Lexus', 'Volvo', 'Landrover', 'Volkwagen']\n"
     ]
    }
   ],
   "source": [
    "cars.insert(2,'Peugeot')\n",
    "print(cars)"
   ]
  },
  {
   "cell_type": "markdown",
   "metadata": {},
   "source": [
    "##### index()\n",
    "- Used to get the index of an element from a list."
   ]
  },
  {
   "cell_type": "code",
   "execution_count": 79,
   "metadata": {},
   "outputs": [
    {
     "name": "stdout",
     "output_type": "stream",
     "text": [
      "['Audi', 'BMW', 'Peugeot', 'Mercedes', 'Nissan', 'Jeep', 'Lexus', 'Volvo', 'Landrover', 'Volkwagen', 'Mercedes']\n"
     ]
    }
   ],
   "source": [
    "cars.append('Mercedes')\n",
    "print(cars)"
   ]
  },
  {
   "cell_type": "code",
   "execution_count": 80,
   "metadata": {},
   "outputs": [
    {
     "name": "stdout",
     "output_type": "stream",
     "text": [
      "3\n"
     ]
    }
   ],
   "source": [
    "index_pos = cars.index('Mercedes')\n",
    "print(index_pos)"
   ]
  },
  {
   "cell_type": "markdown",
   "metadata": {},
   "source": [
    "##### pop()\n",
    "Returns and removes an item from the list."
   ]
  },
  {
   "cell_type": "code",
   "execution_count": 81,
   "metadata": {},
   "outputs": [
    {
     "name": "stdout",
     "output_type": "stream",
     "text": [
      "Nissan is not European made.\n"
     ]
    }
   ],
   "source": [
    "rm_car = cars.pop(4)\n",
    "print(f'{rm_car} is not European made.')"
   ]
  },
  {
   "cell_type": "code",
   "execution_count": 86,
   "metadata": {},
   "outputs": [
    {
     "data": {
      "text/plain": [
       "'Mercedes'"
      ]
     },
     "execution_count": 86,
     "metadata": {},
     "output_type": "execute_result"
    }
   ],
   "source": [
    "cars.pop()"
   ]
  },
  {
   "cell_type": "code",
   "execution_count": 87,
   "metadata": {},
   "outputs": [
    {
     "name": "stdout",
     "output_type": "stream",
     "text": [
      "['Audi', 'BMW', 'Peugeot', 'Mercedes', 'Jeep', 'Lexus', 'Volvo', 'Landrover', 'Volkwagen']\n"
     ]
    }
   ],
   "source": [
    "print(cars)"
   ]
  },
  {
   "cell_type": "markdown",
   "metadata": {},
   "source": [
    "##### remove()\n",
    "- Used to remove an item from a list without return."
   ]
  },
  {
   "cell_type": "code",
   "execution_count": 88,
   "metadata": {},
   "outputs": [
    {
     "name": "stdout",
     "output_type": "stream",
     "text": [
      "['Audi', 'BMW', 'Peugeot', 'Mercedes', 'Jeep', 'Volvo', 'Landrover', 'Volkwagen']\n"
     ]
    }
   ],
   "source": [
    "cars.remove(\"Lexus\")\n",
    "print(cars)"
   ]
  },
  {
   "cell_type": "markdown",
   "metadata": {},
   "source": [
    "##### del\n",
    "- Removes an item from a list using its index."
   ]
  },
  {
   "cell_type": "code",
   "execution_count": 89,
   "metadata": {},
   "outputs": [
    {
     "name": "stdout",
     "output_type": "stream",
     "text": [
      "['Audi', 'BMW', 'Peugeot', 'Mercedes', 'Jeep', 'Volvo', 'Landrover']\n"
     ]
    }
   ],
   "source": [
    "del cars[-1]\n",
    "print(cars)"
   ]
  },
  {
   "cell_type": "markdown",
   "metadata": {},
   "source": [
    "##### extend()\n",
    "- Adds all elements of a list to another list"
   ]
  },
  {
   "cell_type": "code",
   "execution_count": 90,
   "metadata": {},
   "outputs": [
    {
     "name": "stdout",
     "output_type": "stream",
     "text": [
      "['Audi', 'BMW', 'Peugeot', 'Mercedes', 'Jeep', 'Volvo', 'Landrover']\n",
      "['Toyota', 'Mazda', 'Honda', 'Subaru', 'Nissan']\n",
      "['Audi', 'BMW', 'Peugeot', 'Mercedes', 'Jeep', 'Volvo', 'Landrover', 'Toyota', 'Mazda', 'Honda', 'Subaru', 'Nissan']\n"
     ]
    }
   ],
   "source": [
    "print(cars)\n",
    "japan_cars = ['Toyota', \"Mazda\", \"Honda\", \"Subaru\", \"Nissan\"]\n",
    "print(japan_cars)\n",
    "cars.extend(japan_cars)\n",
    "print(cars)"
   ]
  },
  {
   "cell_type": "code",
   "execution_count": 184,
   "metadata": {},
   "outputs": [
    {
     "name": "stdout",
     "output_type": "stream",
     "text": [
      "['Audi', 'BMW', 'Peugeot', 'Mercedes', 'Jeep', 'Volvo', 'Landrover', 'Toyota', 'Mazda', 'Honda', 'Subaru', 'Nissan']\n"
     ]
    }
   ],
   "source": [
    "all_cars = cars + japan_cars\n",
    "print(all_cars)"
   ]
  },
  {
   "cell_type": "code",
   "execution_count": 91,
   "metadata": {},
   "outputs": [
    {
     "name": "stdout",
     "output_type": "stream",
     "text": [
      "['Nissan', 'Subaru', 'Honda', 'Mazda', 'Toyota', 'Landrover', 'Volvo', 'Jeep', 'Mercedes', 'Peugeot', 'BMW', 'Audi']\n"
     ]
    }
   ],
   "source": [
    "cars.reverse()\n",
    "print(cars)"
   ]
  },
  {
   "cell_type": "code",
   "execution_count": 93,
   "metadata": {},
   "outputs": [
    {
     "name": "stdout",
     "output_type": "stream",
     "text": [
      "['Volvo', 'Toyota', 'Subaru', 'Peugeot', 'Nissan', 'Mercedes', 'Mazda', 'Landrover', 'Jeep', 'Honda', 'BMW', 'Audi']\n"
     ]
    }
   ],
   "source": [
    "cars.sort(reverse=True)\n",
    "print(cars)"
   ]
  },
  {
   "cell_type": "code",
   "execution_count": 94,
   "metadata": {},
   "outputs": [
    {
     "data": {
      "text/plain": [
       "1"
      ]
     },
     "execution_count": 94,
     "metadata": {},
     "output_type": "execute_result"
    }
   ],
   "source": [
    "cars.count('Nissan')"
   ]
  },
  {
   "cell_type": "markdown",
   "metadata": {},
   "source": [
    "### Other Lists methods:\n",
    "- **reverse()** -\treverse the order of items in the list.\n",
    "- **sort()** -\tsort items in a list in ascending order.\n",
    "- **copy()** -\treturns a shallow copy of the list.\n",
    "- **clear()**\tremoves all items from the list\n",
    "- **count()** -\treturns the count of the number of items passed as an argument."
   ]
  },
  {
   "cell_type": "markdown",
   "metadata": {},
   "source": [
    "# Tuples\n",
    "- In python, tuples are almost similar to lists except for how they are declared.\n",
    "- Tuples are declared using parentheses ().\n",
    "- Tuples are also **immutable**, this means that elements of a tuple cannot be changed once they have been assigned. \n",
    "- But, if the element is itself a mutable data type like a list, its nested items can be changed.."
   ]
  },
  {
   "cell_type": "code",
   "execution_count": 95,
   "metadata": {},
   "outputs": [
    {
     "ename": "TypeError",
     "evalue": "'tuple' object does not support item assignment",
     "output_type": "error",
     "traceback": [
      "\u001b[1;31m---------------------------------------------------------------------------\u001b[0m",
      "\u001b[1;31mTypeError\u001b[0m                                 Traceback (most recent call last)",
      "\u001b[1;32m<ipython-input-95-82f76124937d>\u001b[0m in \u001b[0;36m<module>\u001b[1;34m\u001b[0m\n\u001b[0;32m      1\u001b[0m \u001b[0mbikes\u001b[0m \u001b[1;33m=\u001b[0m \u001b[1;33m(\u001b[0m\u001b[1;34m'kawasaki'\u001b[0m\u001b[1;33m,\u001b[0m \u001b[1;34m'honda'\u001b[0m\u001b[1;33m,\u001b[0m \u001b[1;34m'yamaha'\u001b[0m\u001b[1;33m,\u001b[0m \u001b[1;34m'suzuki'\u001b[0m\u001b[1;33m)\u001b[0m\u001b[1;33m\u001b[0m\u001b[1;33m\u001b[0m\u001b[0m\n\u001b[1;32m----> 2\u001b[1;33m \u001b[0mbikes\u001b[0m\u001b[1;33m[\u001b[0m\u001b[1;36m0\u001b[0m\u001b[1;33m]\u001b[0m \u001b[1;33m=\u001b[0m \u001b[1;34m\"Harley-Davidson\"\u001b[0m\u001b[1;33m\u001b[0m\u001b[1;33m\u001b[0m\u001b[0m\n\u001b[0m",
      "\u001b[1;31mTypeError\u001b[0m: 'tuple' object does not support item assignment"
     ]
    }
   ],
   "source": [
    "bikes = ('kawasaki', 'honda', 'yamaha', 'suzuki')\n",
    "bikes[0] = \"Harley-Davidson\""
   ]
  },
  {
   "cell_type": "markdown",
   "metadata": {},
   "source": [
    "## Create a ROCK-PAPER-SCISSORS\n",
    "\n",
    "### "
   ]
  },
  {
   "cell_type": "code",
   "execution_count": null,
   "metadata": {},
   "outputs": [],
   "source": [
    "import random\n",
    "\n",
    "users_inputs = input(\"Enter (rock, paper, scissors): \").lower()\n",
    "expected_outcomes = [\"rock\", \"paper\", \"scissors\"]\n",
    "computer_outcome = random.choice(expected_outcomes)\n",
    "print(f\"Player choice: {users_inputs}\")\n",
    "print(f\"Computer choice: {computer_outcome}\")\n",
    "\n",
    "if users_inputs == computer_outcome:\n",
    "    print(\"It's a draw!\")\n",
    "elif users_inputs == \"rock\":\n",
    "    if computer_outcome == \"scissors\":\n",
    "        print(\"Player wins!\")\n",
    "    else:\n",
    "        print(\"Computer wins\")\n",
    "elif users_inputs == \"paper\":\n",
    "    if computer_outcome == \"rock\":\n",
    "        print(\"player wins!\")\n",
    "    else:\n",
    "        print(\"Computer wins!\")\n",
    "elif users_inputs == \"scissors\":\n",
    "    if computer_outcome == \"paper\":\n",
    "        print(\"Player wins!\")\n",
    "    else:\n",
    "        print(\"Computer wins!\")"
   ]
  }
 ],
 "metadata": {
  "kernelspec": {
   "display_name": "Python 3",
   "language": "python",
   "name": "python3"
  },
  "language_info": {
   "codemirror_mode": {
    "name": "ipython",
    "version": 3
   },
   "file_extension": ".py",
   "mimetype": "text/x-python",
   "name": "python",
   "nbconvert_exporter": "python",
   "pygments_lexer": "ipython3",
   "version": "3.8.8"
  }
 },
 "nbformat": 4,
 "nbformat_minor": 4
}
