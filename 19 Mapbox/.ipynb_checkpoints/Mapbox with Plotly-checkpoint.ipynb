{
 "cells": [
  {
   "cell_type": "markdown",
   "metadata": {},
   "source": [
    "# MAPBOX\n",
    "* Mapbox is a provider of custom online maps for websites and applications"
   ]
  },
  {
   "cell_type": "markdown",
   "metadata": {},
   "source": [
    "- Docs: https://plotly.com/python/reference/scattermapbox/\n",
    "- Docs: https://plotly.com/python/scattermapbox/"
   ]
  },
  {
   "cell_type": "code",
   "execution_count": 1,
   "metadata": {},
   "outputs": [],
   "source": [
    "# import packages\n",
    "import pandas as pd\n",
    "import plotly.express as px\n",
    "import numpy as np"
   ]
  },
  {
   "cell_type": "markdown",
   "metadata": {},
   "source": [
    "## Example 1: Plotly Express\n",
    "- Docs: https://plotly.com/python-api-reference/generated/plotly.express.scatter_mapbox.html"
   ]
  },
  {
   "cell_type": "code",
   "execution_count": 2,
   "metadata": {},
   "outputs": [
    {
     "data": {
      "text/html": [
       "<div>\n",
       "<style scoped>\n",
       "    .dataframe tbody tr th:only-of-type {\n",
       "        vertical-align: middle;\n",
       "    }\n",
       "\n",
       "    .dataframe tbody tr th {\n",
       "        vertical-align: top;\n",
       "    }\n",
       "\n",
       "    .dataframe thead th {\n",
       "        text-align: right;\n",
       "    }\n",
       "</style>\n",
       "<table border=\"1\" class=\"dataframe\">\n",
       "  <thead>\n",
       "    <tr style=\"text-align: right;\">\n",
       "      <th></th>\n",
       "      <th>device_id</th>\n",
       "      <th>gender</th>\n",
       "      <th>age</th>\n",
       "      <th>age_cate</th>\n",
       "      <th>timestamp</th>\n",
       "      <th>longitude</th>\n",
       "      <th>latitude</th>\n",
       "      <th>hour</th>\n",
       "      <th>lon_jitter</th>\n",
       "      <th>lat_jitter</th>\n",
       "      <th>size_for_plot</th>\n",
       "      <th>hour_oct</th>\n",
       "    </tr>\n",
       "  </thead>\n",
       "  <tbody>\n",
       "    <tr>\n",
       "      <th>0</th>\n",
       "      <td>2820430946322886294</td>\n",
       "      <td>M</td>\n",
       "      <td>21</td>\n",
       "      <td>A22-</td>\n",
       "      <td>2016-05-03 12:58:58</td>\n",
       "      <td>108.81</td>\n",
       "      <td>23.07</td>\n",
       "      <td>12</td>\n",
       "      <td>108.809717</td>\n",
       "      <td>23.071873</td>\n",
       "      <td>1</td>\n",
       "      <td>4</td>\n",
       "    </tr>\n",
       "    <tr>\n",
       "      <th>1</th>\n",
       "      <td>4546116091280128285</td>\n",
       "      <td>M</td>\n",
       "      <td>22</td>\n",
       "      <td>A22-</td>\n",
       "      <td>2016-05-05 18:21:11</td>\n",
       "      <td>110.23</td>\n",
       "      <td>20.04</td>\n",
       "      <td>18</td>\n",
       "      <td>110.235122</td>\n",
       "      <td>20.041807</td>\n",
       "      <td>1</td>\n",
       "      <td>6</td>\n",
       "    </tr>\n",
       "    <tr>\n",
       "      <th>2</th>\n",
       "      <td>7849111383031438568</td>\n",
       "      <td>M</td>\n",
       "      <td>34</td>\n",
       "      <td>A32-40</td>\n",
       "      <td>2016-05-03 19:51:30</td>\n",
       "      <td>123.49</td>\n",
       "      <td>41.71</td>\n",
       "      <td>19</td>\n",
       "      <td>123.491060</td>\n",
       "      <td>41.714264</td>\n",
       "      <td>1</td>\n",
       "      <td>6</td>\n",
       "    </tr>\n",
       "    <tr>\n",
       "      <th>3</th>\n",
       "      <td>-1762697191251584400</td>\n",
       "      <td>M</td>\n",
       "      <td>30</td>\n",
       "      <td>A29-31</td>\n",
       "      <td>2016-05-05 14:04:28</td>\n",
       "      <td>114.00</td>\n",
       "      <td>22.67</td>\n",
       "      <td>14</td>\n",
       "      <td>113.999172</td>\n",
       "      <td>22.670077</td>\n",
       "      <td>1</td>\n",
       "      <td>4</td>\n",
       "    </tr>\n",
       "    <tr>\n",
       "      <th>4</th>\n",
       "      <td>4750870437766392528</td>\n",
       "      <td>M</td>\n",
       "      <td>27</td>\n",
       "      <td>A27-28</td>\n",
       "      <td>2016-05-06 00:44:49</td>\n",
       "      <td>106.52</td>\n",
       "      <td>29.51</td>\n",
       "      <td>0</td>\n",
       "      <td>106.520306</td>\n",
       "      <td>29.512754</td>\n",
       "      <td>1</td>\n",
       "      <td>0</td>\n",
       "    </tr>\n",
       "  </tbody>\n",
       "</table>\n",
       "</div>"
      ],
      "text/plain": [
       "             device_id gender  age age_cate            timestamp  longitude  \\\n",
       "0  2820430946322886294      M   21     A22-  2016-05-03 12:58:58     108.81   \n",
       "1  4546116091280128285      M   22     A22-  2016-05-05 18:21:11     110.23   \n",
       "2  7849111383031438568      M   34   A32-40  2016-05-03 19:51:30     123.49   \n",
       "3 -1762697191251584400      M   30   A29-31  2016-05-05 14:04:28     114.00   \n",
       "4  4750870437766392528      M   27   A27-28  2016-05-06 00:44:49     106.52   \n",
       "\n",
       "   latitude  hour  lon_jitter  lat_jitter  size_for_plot  hour_oct  \n",
       "0     23.07    12  108.809717   23.071873              1         4  \n",
       "1     20.04    18  110.235122   20.041807              1         6  \n",
       "2     41.71    19  123.491060   41.714264              1         6  \n",
       "3     22.67    14  113.999172   22.670077              1         4  \n",
       "4     29.51     0  106.520306   29.512754              1         0  "
      ]
     },
     "execution_count": 2,
     "metadata": {},
     "output_type": "execute_result"
    }
   ],
   "source": [
    "# get data\n",
    "url = 'https://raw.githubusercontent.com/kefeimo/DataScienceBlog/master/2.geo_plot/df_mapbox_demo.csv'\n",
    "df= pd.read_csv(url)\n",
    "df.head()"
   ]
  },
  {
   "cell_type": "code",
   "execution_count": null,
   "metadata": {},
   "outputs": [],
   "source": [
    "# two-line code\n",
    "# Docs: https://plotly.github.io/plotly.py-docs/generated/plotly.express.scatter_mapbox.html\n",
    "fig = px.scatter_mapbox(df, lat=\"latitude\", lon=\"longitude\", color=\"gender\", zoom=3, \n",
    "                        mapbox_style='open-street-map', color_discrete_sequence=[\"#FF00F3\", \"#00FFF3\"])\n",
    "fig.show()\n",
    "#fig.show(renderer='browser')"
   ]
  },
  {
   "cell_type": "markdown",
   "metadata": {},
   "source": [
    "## Second example: Using Mapbox API\n",
    "Docs: https://docs.mapbox.com/mapbox-gl-js/api/\n",
    "- Using the API gives the user more customization options.\n",
    "- You can also define your own custom map styles and use them in your visualizations."
   ]
  },
  {
   "cell_type": "markdown",
   "metadata": {},
   "source": [
    "#### To generate a Mapbox API token, \n",
    "\n",
    "* Go to mapbox.com, \n",
    "* Signup for an account. \n",
    "* Once you log in, you can generate a token at https://account.mapbox.com/. \n",
    "* Press +create a token button and it will generate two tokens: public and secret. \n",
    "* Go to mapbox and create a style for your visualization.\n",
    "\n",
    "###### Note down the public token that you will need for use in plotly."
   ]
  },
  {
   "cell_type": "code",
   "execution_count": null,
   "metadata": {},
   "outputs": [],
   "source": []
  },
  {
   "cell_type": "code",
   "execution_count": null,
   "metadata": {},
   "outputs": [],
   "source": [
    "#mapbox_access_token =  'Your token...'\n",
    "import json\n",
    "with open('logins.json') as obj:\n",
    "    data = json.load(obj)\n",
    "mapbox_access_token = data['token']"
   ]
  },
  {
   "cell_type": "code",
   "execution_count": null,
   "metadata": {},
   "outputs": [],
   "source": [
    "# # Start\n",
    "px.set_mapbox_access_token(mapbox_access_token)\n",
    "fig = px.scatter_mapbox(df, lat=\"latitude\", lon=\"longitude\", color=\"gender\", zoom=3, color_discrete_sequence=[\"#FF00F3\", \"#FFFB00\"]\n",
    "                       ,mapbox_style='mapbox://styles/regan254/ckzea7fno005u14l9gdf8gm4z')\n",
    "fig.show()"
   ]
  },
  {
   "cell_type": "code",
   "execution_count": null,
   "metadata": {},
   "outputs": [],
   "source": [
    "df.head()"
   ]
  },
  {
   "cell_type": "markdown",
   "metadata": {},
   "source": [
    "## Third example: "
   ]
  },
  {
   "cell_type": "markdown",
   "metadata": {},
   "source": [
    "* color (similar to hue in seaborn)\n",
    "* size\n",
    "* zoom, center, (control the first view when the plot is rendered)\n",
    "* width, height"
   ]
  },
  {
   "cell_type": "code",
   "execution_count": null,
   "metadata": {},
   "outputs": [],
   "source": [
    "# px.set_mapbox_access_token(mapbox_access_token)\n",
    "fig = px.scatter_mapbox(df, lat=\"latitude\", lon=\"longitude\", \n",
    "                        color=\"gender\", \n",
    "                        size='hour', size_max=6, \n",
    "                        category_orders={'gender':list(df.gender.unique())},\n",
    "                        color_discrete_sequence=['#2b83ba', '#fdae61'],\n",
    "                         #hover_data=1,\n",
    "                        hover_name='hour',\n",
    "                        zoom=2,\n",
    "                        center=dict(lon=105, lat=38),\n",
    "                        width=900, \n",
    "                        height=500,\n",
    "                        mapbox_style='mapbox://styles/regan254/ckzea7fno005u14l9gdf8gm4z',\n",
    "                        #mapbox_style='carto-positron'\n",
    "                       )\n",
    "fig.show()\n",
    "#fig.show(renderer=\"browser\")"
   ]
  },
  {
   "cell_type": "markdown",
   "metadata": {},
   "source": [
    "## Example 4  Mapbox using GPS data\n"
   ]
  },
  {
   "cell_type": "markdown",
   "metadata": {},
   "source": [
    "#### Data "
   ]
  },
  {
   "cell_type": "code",
   "execution_count": null,
   "metadata": {},
   "outputs": [],
   "source": [
    "gps_data = \"https://gist.githubusercontent.com/rahulbhadani/5f00dbc4a7db7cb4624b87ca0aad8a3e/raw/8faffb92790fb633e86f90e875ef0abf7c99a61c/gps.csv\"\n",
    "gps_df = pd.read_csv(gps_data)\n",
    "gps_df"
   ]
  },
  {
   "cell_type": "code",
   "execution_count": null,
   "metadata": {},
   "outputs": [],
   "source": [
    "# enter API key\n",
    "api_token = data['token']\n",
    "px.set_mapbox_access_token(api_token)"
   ]
  },
  {
   "cell_type": "code",
   "execution_count": null,
   "metadata": {},
   "outputs": [],
   "source": [
    "fig = px.scatter_mapbox(gps_df, \n",
    "                        lat=\"Lat\", \n",
    "                        lon=\"Long\", \n",
    "                        color='Time',\n",
    "                        color_continuous_scale='tealgrn', \n",
    "                        size_max=70, \n",
    "                        zoom=20,\n",
    "                        height = 600, \n",
    "                        width = 1000, #center = dict(lat = g.center)\n",
    "                        title='Drive Route with Mapbox',\n",
    "                        mapbox_style='streets' )\n",
    "fig.update_layout(font_size=16,  \n",
    "                  title={'xanchor': 'center','yanchor': 'top', 'y':0.9, 'x':0.5,}, \n",
    "                  title_font_size = 24, \n",
    "                  # mapbox_accesstoken=api_token, \n",
    "                  # mapbox_style = \"mapbox://styles/regan254/ckt48o1ab0u1617qo4q6bzq3l\"\n",
    "                 )\n",
    "fig.show()"
   ]
  },
  {
   "cell_type": "markdown",
   "metadata": {},
   "source": [
    "## Example 5  Counties of Kenya"
   ]
  },
  {
   "cell_type": "code",
   "execution_count": 1,
   "metadata": {},
   "outputs": [
    {
     "ename": "NameError",
     "evalue": "name 'pd' is not defined",
     "output_type": "error",
     "traceback": [
      "\u001b[1;31m---------------------------------------------------------------------------\u001b[0m",
      "\u001b[1;31mNameError\u001b[0m                                 Traceback (most recent call last)",
      "\u001b[1;32m<ipython-input-1-c717c98cfc0e>\u001b[0m in \u001b[0;36m<module>\u001b[1;34m\u001b[0m\n\u001b[1;32m----> 1\u001b[1;33m \u001b[0mdf\u001b[0m \u001b[1;33m=\u001b[0m \u001b[0mpd\u001b[0m\u001b[1;33m.\u001b[0m\u001b[0mread_excel\u001b[0m\u001b[1;33m(\u001b[0m\u001b[1;34m'data/ke.xlsx'\u001b[0m\u001b[1;33m)\u001b[0m\u001b[1;33m\u001b[0m\u001b[1;33m\u001b[0m\u001b[0m\n\u001b[0m\u001b[0;32m      2\u001b[0m \u001b[0mdf\u001b[0m\u001b[1;33m.\u001b[0m\u001b[0mhead\u001b[0m\u001b[1;33m(\u001b[0m\u001b[1;33m)\u001b[0m\u001b[1;33m\u001b[0m\u001b[1;33m\u001b[0m\u001b[0m\n",
      "\u001b[1;31mNameError\u001b[0m: name 'pd' is not defined"
     ]
    }
   ],
   "source": [
    "df = pd.read_excel('data/ke.xlsx')\n",
    "df.head()"
   ]
  },
  {
   "cell_type": "code",
   "execution_count": null,
   "metadata": {},
   "outputs": [],
   "source": [
    "fig = px.scatter_mapbox(df, lat=\"lat\", \n",
    "                        lon=\"lng\", \n",
    "                        hover_name=\"admin\", \n",
    "                        color='population',\n",
    "                        hover_data=[\"city\", \"population\"],\n",
    "                        color_continuous_scale=\"spectral\", \n",
    "                        zoom=5, \n",
    "                        height=500,                \n",
    "                        title='Kenya Counties')\n",
    "fig.update_layout(mapbox_style=\"mapbox://styles/regan254/ckgpstqk8321319pjei16ag2c\",\n",
    "                  margin={\"r\":0,\"t\":0,\"l\":0,\"b\":0})\n",
    "fig.show()"
   ]
  },
  {
   "cell_type": "markdown",
   "metadata": {},
   "source": [
    "## Choropleths"
   ]
  },
  {
   "cell_type": "markdown",
   "metadata": {},
   "source": [
    "- A choropleth map is a map where colored or shaded polygons represent the spatial variation in magnitude of a geographical characteristic. \n",
    "- For example, a map that shows the population density in the year 2007 for Kenya.\n",
    "- Docs: https://plotly.com/python/reference/choroplethmapbox/\n",
    "- Docs: https://plotly.com/python-api-reference/generated/plotly.express.choropleth_mapbox.html"
   ]
  },
  {
   "cell_type": "code",
   "execution_count": null,
   "metadata": {},
   "outputs": [],
   "source": [
    "df = pd.read_csv('WHO-COVID-19-global-data.csv')\n",
    "df.head()"
   ]
  },
  {
   "cell_type": "code",
   "execution_count": null,
   "metadata": {},
   "outputs": [],
   "source": [
    "import pycountry\n",
    "# pip install pycountry"
   ]
  },
  {
   "cell_type": "code",
   "execution_count": null,
   "metadata": {},
   "outputs": [],
   "source": [
    "def get_iso3(iso2):\n",
    "    try:\n",
    "        return pycountry.countries.get(alpha_2=iso2).alpha_3\n",
    "    except AttributeError:\n",
    "        pass\n",
    "    except LookupError:\n",
    "        pass\n",
    "    \n",
    "df['iso_alpha'] = df.Country_code.apply(lambda x: get_iso3(x))"
   ]
  },
  {
   "cell_type": "code",
   "execution_count": null,
   "metadata": {},
   "outputs": [],
   "source": [
    "df.head()"
   ]
  },
  {
   "cell_type": "code",
   "execution_count": null,
   "metadata": {},
   "outputs": [],
   "source": [
    "fig = px.choropleth(\n",
    "    df,\n",
    "    locations='iso_alpha',\n",
    "    color='Cumulative_cases',\n",
    "    hover_name = 'Country',\n",
    "    hover_data = ['Cumulative_deaths', 'New_cases'],\n",
    "    projection='natural earth',\n",
    "    animation_frame='Date_reported',\n",
    "    color_continuous_scale=\"Plasma\",\n",
    "    title='Covid-19 Deaths'\n",
    ")\n",
    "fig.show()"
   ]
  },
  {
   "cell_type": "markdown",
   "metadata": {},
   "source": [
    "### Choropleth_mapbox\n",
    "- Dataset: Montreal mayoral election.\n",
    "- Docs: https://plotly.github.io/plotly.py-docs/generated/plotly.express.choropleth_mapbox.html\n",
    "- Docs: https://plotly.com/python/mapbox-county-choropleth/"
   ]
  },
  {
   "cell_type": "code",
   "execution_count": null,
   "metadata": {},
   "outputs": [],
   "source": [
    "df = px.data.election()"
   ]
  },
  {
   "cell_type": "code",
   "execution_count": null,
   "metadata": {},
   "outputs": [],
   "source": [
    "df.head()"
   ]
  },
  {
   "cell_type": "code",
   "execution_count": 2,
   "metadata": {},
   "outputs": [
    {
     "ename": "NameError",
     "evalue": "name 'px' is not defined",
     "output_type": "error",
     "traceback": [
      "\u001b[1;31m---------------------------------------------------------------------------\u001b[0m",
      "\u001b[1;31mNameError\u001b[0m                                 Traceback (most recent call last)",
      "\u001b[1;32m<ipython-input-2-0551a789264b>\u001b[0m in \u001b[0;36m<module>\u001b[1;34m\u001b[0m\n\u001b[1;32m----> 1\u001b[1;33m \u001b[0mgeo_json\u001b[0m \u001b[1;33m=\u001b[0m \u001b[0mpx\u001b[0m\u001b[1;33m.\u001b[0m\u001b[0mdata\u001b[0m\u001b[1;33m.\u001b[0m\u001b[0melection_geojson\u001b[0m\u001b[1;33m(\u001b[0m\u001b[1;33m)\u001b[0m\u001b[1;33m\u001b[0m\u001b[1;33m\u001b[0m\u001b[0m\n\u001b[0m\u001b[0;32m      2\u001b[0m \u001b[0mgeo_json\u001b[0m\u001b[1;33m\u001b[0m\u001b[1;33m\u001b[0m\u001b[0m\n",
      "\u001b[1;31mNameError\u001b[0m: name 'px' is not defined"
     ]
    }
   ],
   "source": [
    "geo_json = px.data.election_geojson()\n",
    "geo_json"
   ]
  },
  {
   "cell_type": "code",
   "execution_count": null,
   "metadata": {},
   "outputs": [],
   "source": [
    "# Docs: https://plotly.github.io/plotly.py-docs/generated/plotly.express.choropleth_mapbox.html\n",
    "fig = px.choropleth_mapbox(\n",
    "    df, geojson=geo_json, color=\"Joly\",\n",
    "    locations=\"district\", featureidkey=\"properties.district\",\n",
    "    center={\"lat\": 45.5517, \"lon\": -73.7073},\n",
    "    mapbox_style='mapbox://styles/regan254/ckzea7fno005u14l9gdf8gm4z',#'carto-darkmatter',\n",
    "    zoom=9,\n",
    "    color_continuous_scale='blues'\n",
    ")\n",
    "fig.show()"
   ]
  },
  {
   "cell_type": "code",
   "execution_count": null,
   "metadata": {},
   "outputs": [],
   "source": [
    "fig = px.choropleth(\n",
    "    df, geojson=geo_json, color=\"Bergeron\",\n",
    "    locations=\"district\", featureidkey=\"properties.district\",\n",
    "    center={\"lat\": 45.5517, \"lon\": -73.7073},\n",
    "    projection=\"mercator\"\n",
    ")\n",
    "fig.update_geos(fitbounds=\"locations\", visible=False)\n",
    "fig.update_layout(\n",
    "    margin={\"r\":0,\"t\":0,\"l\":0,\"b\":0}\n",
    ")\n",
    "fig.show()"
   ]
  },
  {
   "cell_type": "markdown",
   "metadata": {},
   "source": [
    "# END"
   ]
  }
 ],
 "metadata": {
  "kernelspec": {
   "display_name": "Python 3",
   "language": "python",
   "name": "python3"
  },
  "language_info": {
   "codemirror_mode": {
    "name": "ipython",
    "version": 3
   },
   "file_extension": ".py",
   "mimetype": "text/x-python",
   "name": "python",
   "nbconvert_exporter": "python",
   "pygments_lexer": "ipython3",
   "version": "3.9.13"
  }
 },
 "nbformat": 4,
 "nbformat_minor": 4
}
