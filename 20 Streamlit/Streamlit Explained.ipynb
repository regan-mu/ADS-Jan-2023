{
 "cells": [
  {
   "cell_type": "markdown",
   "metadata": {},
   "source": [
    "# Streamlit\n",
    "https://www.streamlit.io/\n",
    "https://docs.streamlit.io/library/api-reference"
   ]
  },
  {
   "cell_type": "markdown",
   "metadata": {},
   "source": [
    "### Install Streamlit\n",
    "- pip install streamlit"
   ]
  },
  {
   "cell_type": "markdown",
   "metadata": {},
   "source": [
    "### Run Streamlit\n",
    "- streamlit run app_name.py"
   ]
  },
  {
   "cell_type": "markdown",
   "metadata": {},
   "source": [
    "## Development flow\n",
    "* Every time you want to update your app, just save the source file. \n",
    "* When you do that, Streamlit detects if there is a change and asks you whether you want to rerun your app. \n",
    "* Go to the top-right corner of your screen and hit the 'ALWAYS RERUN' button to automatically update your app every time you change its source code."
   ]
  },
  {
   "cell_type": "markdown",
   "metadata": {},
   "source": [
    "## Application flow\n",
    "* Streamlit’s architecture allows you to write apps the same way you write plain Python scripts.\n",
    "* Streamlit just reruns your entire Python script from top to bottom.\n",
    "*  Streamlit does some heavy lifting for you behind the scenes. A big player in this story is the @st.cache decorator, which allows developers to skip certain costly computations when their apps rerun."
   ]
  },
  {
   "cell_type": "markdown",
   "metadata": {},
   "source": [
    "## Adding Content\n",
    "- Documentation: https://docs.streamlit.io/en/stable/api.html"
   ]
  },
  {
   "cell_type": "markdown",
   "metadata": {},
   "source": [
    "### Adding Text and Data\n",
    "- Streamlit has a number of ways to add text to your app.\n",
    "- Docs - https://docs.streamlit.io/en/stable/api.html#display-text"
   ]
  },
  {
   "cell_type": "markdown",
   "metadata": {},
   "source": [
    "#### Add a title\n",
    "- st.title('My Title')\n",
    "\n",
    "#### Add header\n",
    "- st.header('My header')\n",
    "\n",
    "#### Add subheader\n",
    "- st.subheader('My subheader')\n",
    "\n",
    "#### Add text\n",
    "- st.text('My text')\n",
    "\n",
    "#### Using write method\n",
    "- st.write() is Streamlit’s “Swiss Army knife”. You can pass almost anything to st.write(): text, data, Matplotlib figures, Altair charts, and more."
   ]
  },
  {
   "cell_type": "markdown",
   "metadata": {},
   "source": [
    "#### Using Magic\n",
    "- You can also write to your app without calling any Streamlit methods. Streamlit supports “magic commands,” which means you don’t have to use st.write() at all!\n",
    "<br>\n",
    "\n",
    "        df = pd.DataFrame({\n",
    "                'first column': [1, 2, 3, 4],\n",
    "                'second column': [10, 20, 30, 40]\n",
    "        })\n",
    "\n",
    "        df"
   ]
  },
  {
   "cell_type": "markdown",
   "metadata": {},
   "source": [
    "### Accepting User Input\n",
    "- You can accept user input with:\n",
    "    - st.text_input() method.\n",
    "    - st.text_area() method.\n",
    "        \n",
    "            text = st.text_area('Enter Text here', max_chars=2000)\n",
    "            title = st.text_input('Movie title', 'Life of Brian')"
   ]
  },
  {
   "cell_type": "markdown",
   "metadata": {},
   "source": [
    "### Draw Charts and Maps.\n",
    "- Streamlit supports several popular data visualization libraries e.g. Matplotlib"
   ]
  },
  {
   "cell_type": "markdown",
   "metadata": {},
   "source": [
    "#### Draw a Line Chart.\n",
    "- You can add line charts to you app with st.line_chart() method.\n",
    "\n",
    "        chart_data = pd.DataFrame(\n",
    "             np.random.randn(20, 3),\n",
    "             columns=['a', 'b', 'c'])\n",
    "\n",
    "        st.line_chart(chart_data)"
   ]
  },
  {
   "cell_type": "markdown",
   "metadata": {},
   "source": [
    "#### Plot a Map.\n",
    "- You can use st.map() method to display datapoints on a map.\n",
    "\n",
    "        map_data = pd.DataFrame(\n",
    "            np.random.randn(1000, 2) / [50, 50] + [37.76, -122.4],\n",
    "            columns=['lat', 'lon'])\n",
    "\n",
    "        st.map(map_data)"
   ]
  },
  {
   "cell_type": "markdown",
   "metadata": {},
   "source": [
    "### Widgets\n",
    "- Streamlit widgets allow you to add interactivity directly into your apps with <u>checkboxes<u>, <u>buttons </u>, <u>selectboxes</u> <u>sliders</u> etc."
   ]
  },
  {
   "cell_type": "markdown",
   "metadata": {},
   "source": [
    "#### Checkboxes.\n",
    "- Checkboxes can be used to hide or show a specific chart or section of an app.\n",
    "- Using st.checkbox() method.\n",
    "\n",
    "        if st.checkbox('Show dataframe'):\n",
    "            chart_data = pd.DataFrame(\n",
    "               np.random.randn(20, 3),\n",
    "               columns=['a', 'b', 'c'])\n",
    "            chart_data"
   ]
  },
  {
   "cell_type": "markdown",
   "metadata": {},
   "source": [
    "#### Selectboxes\n",
    "- Selectboxes are used to add select options in the app.\n",
    "\n",
    "            option = st.selectbox(\n",
    "                'Which number do you like best?',\n",
    "                 df[10, 20, 30, 40])\n",
    "\n",
    "            'You selected: ', option"
   ]
  },
  {
   "cell_type": "markdown",
   "metadata": {},
   "source": [
    "### App Layout\n",
    "- To achieve a cleaner and more organized look, we can move the widget to the sidebar.\n",
    "- To do the we use st.sidebar() method.\n",
    "\n",
    "        option = st.sidebar.selectbox(\n",
    "            'Which number do you like best?',\n",
    "             df[10, 20, 30, 40])\n",
    "\n",
    "        'You selected:', option\n",
    "       \n",
    "- Most element that we can use in the main app can also be used in the sidebar using the syntax:\n",
    "\n",
    "        st.sidebar[element_name]()\n",
    "        "
   ]
  },
  {
   "cell_type": "markdown",
   "metadata": {},
   "source": [
    "#### st.columns()\n",
    "\n",
    "- We can also use st.columns() method to lay out widgets side by side.\n",
    "\n",
    "        left_column, right_column = st.columns(2)\n",
    "        pressed = left_column.button('Press me?')\n",
    "        if pressed:\n",
    "          right_column.write(\"Woohoo!\")"
   ]
  },
  {
   "cell_type": "markdown",
   "metadata": {},
   "source": [
    "#### st.expander()\n",
    "- st.expander() method is used to conserve space by hiding away large content.\n",
    "\n",
    "        expander = st.expander(\"FAQ\")\n",
    "        expander.write(\"Here you could put in some really, really long explanations...\")"
   ]
  },
  {
   "cell_type": "markdown",
   "metadata": {},
   "source": [
    "### Show progress.\n",
    "\n",
    "- When adding long running computations to an app, you can use st.progress() to display status in real time.\n",
    "\n",
    "        import time\n",
    "        \n",
    "        'Starting a long computation...'\n",
    "        latest_iteration = st.empty()\n",
    "        bar = st.progress(0)\n",
    "\n",
    "        for i in range(100):\n",
    "          latest_iteration.text(f'Iteration {i+1}')\n",
    "          bar.progress(i + 1)\n",
    "          time.sleep(0.1)\n",
    "\n",
    "        '...and now we\\'re done!'"
   ]
  },
  {
   "cell_type": "markdown",
   "metadata": {},
   "source": [
    "### Optimize performance\n",
    "\n",
    "- When you mark a function with Streamlit’s cache annotation, it tells Streamlit that whenever the function is called it should check three things:\n",
    "\n",
    "    - The name of the function\n",
    "\n",
    "    - The actual code that makes up the body of the function\n",
    "\n",
    "    - The input parameters that you called the function with\n",
    "\n",
    "- If this is the first time Streamlit has seen those three items, with those exact values, and in that exact combination, it runs the function and stores the result in a local cache.\n",
    "\n",
    "- Then, next time the function is called, if those three values have not changed Streamlit knows it can skip executing the function altogether. Instead, it just reads the output from the local cache and passes it on to the caller."
   ]
  },
  {
   "cell_type": "markdown",
   "metadata": {},
   "source": [
    "        @st.cache\n",
    "        def fetch_and_clean_data(url):\n",
    "             # Fetch data from URL here, and then clean it up.\n",
    "             return data\n",
    "        \n",
    "        d1 = fetch_and_clean_data(DATA_URL_1)\n",
    "        # Actually executes the function, since this is the first time it was\n",
    "        # encountered.\n",
    "        \n",
    "        d2 = fetch_and_clean_data(DATA_URL_1)\n",
    "        # Does not execute the function. Instead, returns its previously computed\n",
    "        # value. This means that now the data in d1 is the same as in d2.\n",
    "        \n",
    "        d3 = fetch_and_clean_data(DATA_URL_2)\n",
    "        # This is a different URL, so the function executes.\n",
    "\n",
    "The Streamlit cache allows your app to execute quickly even when loading data from the web, manipulating large datasets, or performing expensive computations"
   ]
  },
  {
   "cell_type": "markdown",
   "metadata": {},
   "source": [
    "### Share your app on streamlit Cloud\n",
    "Instructions: https://docs.streamlit.io/en/stable/getting_started.html#share-your-app"
   ]
  },
  {
   "cell_type": "markdown",
   "metadata": {},
   "source": [
    "## More Streamlit methods:"
   ]
  },
  {
   "cell_type": "markdown",
   "metadata": {},
   "source": [
    "* st.latex() - Display mathematical expressions formatted as LaTeX.\n",
    "* st.table() - Display a static table.\n",
    "* st.json() - Display object or string as a pretty-printed JSON string.\n",
    "* st.metric() - Display a metric in big bold font, with an optional indicator of how the metric changed.\n",
    "\n",
    "#### Check out more methods that are applicable to you app from the documentation."
   ]
  },
  {
   "cell_type": "markdown",
   "metadata": {},
   "source": [
    "## Recording part 2\n",
    "https://vimeo.com/775853145/6143ef5ade"
   ]
  },
  {
   "cell_type": "code",
   "execution_count": null,
   "metadata": {},
   "outputs": [],
   "source": [
    "## Recording Part "
   ]
  }
 ],
 "metadata": {
  "kernelspec": {
   "display_name": "Python 3",
   "language": "python",
   "name": "python3"
  },
  "language_info": {
   "codemirror_mode": {
    "name": "ipython",
    "version": 3
   },
   "file_extension": ".py",
   "mimetype": "text/x-python",
   "name": "python",
   "nbconvert_exporter": "python",
   "pygments_lexer": "ipython3",
   "version": "3.8.8"
  }
 },
 "nbformat": 4,
 "nbformat_minor": 4
}
