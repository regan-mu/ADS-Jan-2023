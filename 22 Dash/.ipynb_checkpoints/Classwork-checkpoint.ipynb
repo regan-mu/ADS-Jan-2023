{
 "cells": [
  {
   "cell_type": "code",
   "execution_count": 1,
   "metadata": {},
   "outputs": [],
   "source": [
    "from dash import dcc, html, Dash"
   ]
  },
  {
   "cell_type": "code",
   "execution_count": 2,
   "metadata": {},
   "outputs": [],
   "source": [
    "app = Dash(__name__)"
   ]
  },
  {
   "cell_type": "code",
   "execution_count": 3,
   "metadata": {},
   "outputs": [],
   "source": [
    "colors = {\n",
    "    'background': '#111111',\n",
    "    'text': '#7FDBFF'\n",
    "}"
   ]
  },
  {
   "cell_type": "code",
   "execution_count": 8,
   "metadata": {},
   "outputs": [],
   "source": [
    "app.layout = html.Div(style={\"backgroundColor\": colors[\"background\"]}, children=[\n",
    "    html.H1(\n",
    "        children=\"Hello Dash\",\n",
    "        style={\"textAlign\": \"center\", \"color\": colors[\"text\"]}\n",
    "    ),\n",
    "    html.Div(\n",
    "        children=\"Dash: A web application framework for Python.\", style={\n",
    "            \"textAlign\": \"center\",\n",
    "            \"color\": colors[\"text\"]\n",
    "        }\n",
    "    ),\n",
    "    dcc.Dropdown(\n",
    "        id=\"drop\",\n",
    "        options=[\n",
    "            {'label': 'New York City', 'value': 'NYC'},\n",
    "            {'label': 'Montreal', 'value': 'MTL'},\n",
    "            {'label': 'San Francisco', 'value': 'SF'},\n",
    "        ],\n",
    "        placeholder=\"Select a city\"\n",
    "    ),\n",
    "    dcc.RadioItems(\n",
    "            id=\"radio\",\n",
    "            options=[\n",
    "                {'label': 'New York City', 'value': 'NYC'},\n",
    "                {'label': 'Montréal', 'value': 'MTL'},\n",
    "                {'label': 'San Francisco', 'value': 'SF'}\n",
    "            ],\n",
    "            value='MTL',\n",
    "            style={'color': 'white'}\n",
    "        ),\n",
    "        html.Label('Text Box', style={\"color\": \"red\"}),\n",
    "        dcc.Input(id=\"inputs\", value='MTL', type='text'),\n",
    "    dcc.Graph(\n",
    "        id='Graph1',\n",
    "        figure={\n",
    "            'data': [\n",
    "                {'x': [1, 2, 3], 'y': [4, 1, 2], 'type': 'bar', 'name': 'SF'},\n",
    "                {'x': [1, 2, 3], 'y': [2, 4, 5], 'type': 'bar', 'name': 'Montréal'},\n",
    "            ],\n",
    "            'layout': {\n",
    "                'plot_bgcolor': colors['background'],\n",
    "                'paper_bgcolor': colors['background'],\n",
    "                'font': {\n",
    "                    'color': colors['text']\n",
    "                }\n",
    "            }\n",
    "            \n",
    "        }\n",
    "    )\n",
    "])"
   ]
  },
  {
   "cell_type": "code",
   "execution_count": null,
   "metadata": {},
   "outputs": [
    {
     "name": "stdout",
     "output_type": "stream",
     "text": [
      "Dash is running on http://127.0.0.1:8050/\n",
      "\n",
      " * Serving Flask app \"__main__\" (lazy loading)\n",
      " * Environment: production\n",
      "\u001b[31m   WARNING: This is a development server. Do not use it in a production deployment.\u001b[0m\n",
      "\u001b[2m   Use a production WSGI server instead.\u001b[0m\n",
      " * Debug mode: off\n"
     ]
    },
    {
     "name": "stderr",
     "output_type": "stream",
     "text": [
      " * Running on http://127.0.0.1:8050/ (Press CTRL+C to quit)\n",
      "127.0.0.1 - - [07/Mar/2023 18:35:19] \"GET / HTTP/1.1\" 200 -\n",
      "127.0.0.1 - - [07/Mar/2023 18:35:20] \"GET /_dash-component-suites/dash/deps/polyfill@7.v2_8_1m1678201474.12.1.min.js HTTP/1.1\" 200 -\n",
      "127.0.0.1 - - [07/Mar/2023 18:35:20] \"GET /_dash-component-suites/dash/deps/react@16.v2_8_1m1678201474.14.0.min.js HTTP/1.1\" 200 -\n",
      "127.0.0.1 - - [07/Mar/2023 18:35:20] \"GET /_dash-component-suites/dash/deps/react-dom@16.v2_8_1m1678201474.14.0.min.js HTTP/1.1\" 200 -\n",
      "127.0.0.1 - - [07/Mar/2023 18:35:20] \"GET /_dash-component-suites/dash/dash-renderer/build/dash_renderer.v2_8_1m1678201474.min.js HTTP/1.1\" 200 -\n",
      "127.0.0.1 - - [07/Mar/2023 18:35:20] \"GET /_dash-component-suites/dash/deps/prop-types@15.v2_8_1m1678201474.8.1.min.js HTTP/1.1\" 200 -\n",
      "127.0.0.1 - - [07/Mar/2023 18:35:20] \"GET /_dash-component-suites/dash/dcc/dash_core_components.v2_8_0m1678201474.js HTTP/1.1\" 200 -\n",
      "127.0.0.1 - - [07/Mar/2023 18:35:20] \"GET /_dash-component-suites/dash/dcc/dash_core_components-shared.v2_8_0m1678201474.js HTTP/1.1\" 200 -\n",
      "127.0.0.1 - - [07/Mar/2023 18:35:20] \"GET /_dash-component-suites/dash/html/dash_html_components.v2_0_8m1678201475.min.js HTTP/1.1\" 200 -\n",
      "127.0.0.1 - - [07/Mar/2023 18:35:20] \"GET /_dash-component-suites/dash/dash_table/bundle.v5_2_2m1678201474.js HTTP/1.1\" 200 -\n",
      "127.0.0.1 - - [07/Mar/2023 18:35:21] \"GET /_dash-layout HTTP/1.1\" 200 -\n",
      "127.0.0.1 - - [07/Mar/2023 18:35:21] \"GET /_dash-dependencies HTTP/1.1\" 200 -\n",
      "127.0.0.1 - - [07/Mar/2023 18:35:21] \"GET /_dash-component-suites/dash/dcc/async-dropdown.js HTTP/1.1\" 200 -\n",
      "127.0.0.1 - - [07/Mar/2023 18:35:21] \"GET /_dash-component-suites/dash/dcc/async-graph.js HTTP/1.1\" 200 -\n",
      "127.0.0.1 - - [07/Mar/2023 18:35:21] \"GET /_dash-component-suites/dash/dcc/async-plotlyjs.js HTTP/1.1\" 200 -\n",
      "127.0.0.1 - - [07/Mar/2023 18:35:21] \"GET /_favicon.ico?v=2.8.1 HTTP/1.1\" 200 -\n"
     ]
    }
   ],
   "source": [
    "if __name__ == \"__main__\":\n",
    "    app.run_server()"
   ]
  },
  {
   "cell_type": "code",
   "execution_count": null,
   "metadata": {},
   "outputs": [],
   "source": []
  }
 ],
 "metadata": {
  "kernelspec": {
   "display_name": "Python 3",
   "language": "python",
   "name": "python3"
  },
  "language_info": {
   "codemirror_mode": {
    "name": "ipython",
    "version": 3
   },
   "file_extension": ".py",
   "mimetype": "text/x-python",
   "name": "python",
   "nbconvert_exporter": "python",
   "pygments_lexer": "ipython3",
   "version": "3.9.13"
  }
 },
 "nbformat": 4,
 "nbformat_minor": 4
}
