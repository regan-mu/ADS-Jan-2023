{
 "cells": [
  {
   "cell_type": "code",
   "execution_count": 3,
   "metadata": {},
   "outputs": [],
   "source": [
    "from dash import dcc, html, Dash"
   ]
  },
  {
   "cell_type": "code",
   "execution_count": 4,
   "metadata": {},
   "outputs": [],
   "source": [
    "app = Dash(__name__)"
   ]
  },
  {
   "cell_type": "code",
   "execution_count": 5,
   "metadata": {},
   "outputs": [],
   "source": [
    "colors = {\n",
    "    'background': '#111111',\n",
    "    'text': '#7FDBFF'\n",
    "}"
   ]
  },
  {
   "cell_type": "code",
   "execution_count": 6,
   "metadata": {},
   "outputs": [],
   "source": [
    "app.layout = html.Div(style={\"backgroundColor\": colors[\"background\"]}, children=[\n",
    "    html.H1(\n",
    "        children=\"Hello Dash\",\n",
    "        style={\"textAlign\": \"center\", \"color\": colors[\"text\"]}\n",
    "    ),\n",
    "    html.Div(\n",
    "        children=\"Dash: A web application framework for Python.\", style={\n",
    "            \"textAlign\": \"center\",\n",
    "            \"color\": colors[\"text\"]\n",
    "        }\n",
    "    ),\n",
    "    dcc.Dropdown(\n",
    "        id=\"drop\",\n",
    "        options=[\n",
    "            {'label': 'New York City', 'value': 'NYC'},\n",
    "            {'label': 'Montreal', 'value': 'MTL'},\n",
    "            {'label': 'San Francisco', 'value': 'SF'},\n",
    "        ],\n",
    "        placeholder=\"Select a city\"\n",
    "    ),\n",
    "    dcc.RadioItems(\n",
    "            id=\"radio\",\n",
    "            options=[\n",
    "                {'label': 'New York City', 'value': 'NYC'},\n",
    "                {'label': 'Montréal', 'value': 'MTL'},\n",
    "                {'label': 'San Francisco', 'value': 'SF'}\n",
    "            ],\n",
    "            value='MTL',\n",
    "            style={'color': 'white'}\n",
    "        ),\n",
    "        html.Label('Text Box', style={\"color\": \"red\"}),\n",
    "        dcc.Input(id=\"inputs\", value='MTL', type='text'),\n",
    "    dcc.Graph(\n",
    "        id='Graph1',\n",
    "        figure={\n",
    "            'data': [\n",
    "                {'x': [1, 2, 3], 'y': [4, 1, 2], 'type': 'bar', 'name': 'SF'},\n",
    "                {'x': [1, 2, 3], 'y': [2, 4, 5], 'type': 'bar', 'name': 'Montréal'},\n",
    "            ],\n",
    "            'layout': {\n",
    "                'plot_bgcolor': colors['background'],\n",
    "                'paper_bgcolor': colors['background'],\n",
    "                'font': {\n",
    "                    'color': colors['text']\n",
    "                }\n",
    "            }\n",
    "            \n",
    "        }\n",
    "    )\n",
    "])"
   ]
  },
  {
   "cell_type": "code",
   "execution_count": 17,
   "metadata": {},
   "outputs": [
    {
     "name": "stdout",
     "output_type": "stream",
     "text": [
      "Dash is running on http://127.0.0.1:8050/\n",
      "\n",
      " * Serving Flask app \"__main__\" (lazy loading)\n",
      " * Environment: production\n",
      "\u001b[31m   WARNING: This is a development server. Do not use it in a production deployment.\u001b[0m\n",
      "\u001b[2m   Use a production WSGI server instead.\u001b[0m\n",
      " * Debug mode: off\n"
     ]
    }
   ],
   "source": [
    "if __name__ == \"__main__\":\n",
    "    app.run_server()"
   ]
  },
  {
   "cell_type": "code",
   "execution_count": null,
   "metadata": {},
   "outputs": [],
   "source": []
  },
  {
   "cell_type": "code",
   "execution_count": 7,
   "metadata": {},
   "outputs": [],
   "source": [
    "import dash_auth as auth\n",
    "VALID_USERNAME_PASSWORD_PAIRS = [\n",
    "    ['Regan', 'password']\n",
    "]"
   ]
  },
  {
   "cell_type": "code",
   "execution_count": 8,
   "metadata": {},
   "outputs": [],
   "source": [
    "from dash.dependencies import Input, Output\n",
    "\n",
    "app = Dash(\"auth\")\n",
    "auth = auth.BasicAuth(\n",
    "   app,\n",
    "   VALID_USERNAME_PASSWORD_PAIRS\n",
    ")\n",
    "\n",
    "app.layout = html.Div([\n",
    "    html.H2(\"Some Math\"),\n",
    "    dcc.Dropdown(\n",
    "        id='num-1',\n",
    "        options=[\n",
    "            {'label': '10', 'value': 10},\n",
    "            {'label': '15', 'value': 15},\n",
    "            {'label': '22', 'value': 22}\n",
    "        ],\n",
    "        placeholder='First Number'\n",
    "    ),\n",
    "    dcc.Dropdown(\n",
    "        id='num-2',\n",
    "        options=[\n",
    "            {'label': '20', 'value': 20},\n",
    "            {'label': '12', 'value': 12},\n",
    "            {'label': '32', 'value': 32}\n",
    "        ],\n",
    "        placeholder='Second Number'\n",
    "    ),\n",
    "    html.Div(id='divide', style={'color': 'Blue'}),\n",
    "    html.Div(id='multiply', style={'color': 'Red'})\n",
    "])\n",
    "\n",
    "@app.callback(\n",
    "    [Output(component_id=\"divide\", component_property=\"children\"),\n",
    "        Output(component_id=\"multiply\", component_property=\"children\")\n",
    "    ],\n",
    "    [Input(component_id=\"num-1\", component_property=\"value\"),\n",
    "        Input(component_id=\"num-2\", component_property=\"value\")  \n",
    "    ])\n",
    "def update_output(num1, num2):\n",
    "    division = num1/num2\n",
    "    multiplication = num1 * num2\n",
    "    return division, multiplication"
   ]
  },
  {
   "cell_type": "code",
   "execution_count": 9,
   "metadata": {},
   "outputs": [
    {
     "name": "stdout",
     "output_type": "stream",
     "text": [
      "Dash is running on http://127.0.0.1:8050/\n",
      "\n",
      " * Serving Flask app \"auth\" (lazy loading)\n",
      " * Environment: production\n",
      "\u001b[31m   WARNING: This is a development server. Do not use it in a production deployment.\u001b[0m\n",
      "\u001b[2m   Use a production WSGI server instead.\u001b[0m\n",
      " * Debug mode: off\n"
     ]
    },
    {
     "name": "stderr",
     "output_type": "stream",
     "text": [
      " * Running on http://127.0.0.1:8050/ (Press CTRL+C to quit)\n",
      "127.0.0.1 - - [07/Mar/2023 19:06:22] \"GET / HTTP/1.1\" 401 -\n",
      "127.0.0.1 - - [07/Mar/2023 19:06:34] \"GET / HTTP/1.1\" 401 -\n",
      "127.0.0.1 - - [07/Mar/2023 19:06:51] \"GET / HTTP/1.1\" 200 -\n",
      "127.0.0.1 - - [07/Mar/2023 19:06:53] \"GET /_dash-layout HTTP/1.1\" 200 -\n",
      "127.0.0.1 - - [07/Mar/2023 19:06:53] \"GET /_dash-dependencies HTTP/1.1\" 200 -\n",
      "127.0.0.1 - - [07/Mar/2023 19:06:53] \"GET /_dash-component-suites/dash/dcc/async-dropdown.js HTTP/1.1\" 200 -\n"
     ]
    },
    {
     "name": "stdout",
     "output_type": "stream",
     "text": [
      "Exception on /_dash-update-component [POST]\n",
      "Traceback (most recent call last):\n",
      "  File \"C:\\Users\\user\\anaconda3\\lib\\site-packages\\flask\\app.py\", line 2447, in wsgi_app\n",
      "    response = self.full_dispatch_request()\n",
      "  File \"C:\\Users\\user\\anaconda3\\lib\\site-packages\\flask\\app.py\", line 1952, in full_dispatch_request\n",
      "    rv = self.handle_user_exception(e)\n",
      "  File \"C:\\Users\\user\\anaconda3\\lib\\site-packages\\flask\\app.py\", line 1821, in handle_user_exception\n",
      "    reraise(exc_type, exc_value, tb)\n",
      "  File \"C:\\Users\\user\\anaconda3\\lib\\site-packages\\flask\\_compat.py\", line 39, in reraise\n",
      "    raise value\n",
      "  File \"C:\\Users\\user\\anaconda3\\lib\\site-packages\\flask\\app.py\", line 1950, in full_dispatch_request\n",
      "    rv = self.dispatch_request()\n",
      "  File \"C:\\Users\\user\\anaconda3\\lib\\site-packages\\flask\\app.py\", line 1936, in dispatch_request\n",
      "    return self.view_functions[rule.endpoint](**req.view_args)\n",
      "  File \"C:\\Users\\user\\anaconda3\\lib\\site-packages\\dash_auth\\basic_auth.py\", line 33, in wrap\n",
      "    response = f(*args, **kwargs)\n",
      "  File \"C:\\Users\\user\\anaconda3\\lib\\site-packages\\dash\\dash.py\", line 1273, in dispatch\n",
      "    ctx.run(\n",
      "  File \"C:\\Users\\user\\anaconda3\\lib\\site-packages\\dash\\_callback.py\", line 440, in add_context\n",
      "    output_value = func(*func_args, **func_kwargs)  # %% callback invoked %%\n",
      "  File \"C:\\Users\\user\\AppData\\Local\\Temp\\ipykernel_10996\\3009776459.py\", line 41, in update_output\n",
      "    division = num1/num2\n",
      "TypeError: unsupported operand type(s) for /: 'NoneType' and 'NoneType'\n"
     ]
    },
    {
     "name": "stderr",
     "output_type": "stream",
     "text": [
      "127.0.0.1 - - [07/Mar/2023 19:06:53] \"POST /_dash-update-component HTTP/1.1\" 500 -\n",
      "127.0.0.1 - - [07/Mar/2023 19:06:53] \"GET /_favicon.ico?v=2.8.1 HTTP/1.1\" 200 -\n"
     ]
    }
   ],
   "source": [
    "if __name__ == \"__main__\":\n",
    "    app.run_server()"
   ]
  },
  {
   "cell_type": "code",
   "execution_count": null,
   "metadata": {},
   "outputs": [],
   "source": []
  }
 ],
 "metadata": {
  "kernelspec": {
   "display_name": "Python 3",
   "language": "python",
   "name": "python3"
  },
  "language_info": {
   "codemirror_mode": {
    "name": "ipython",
    "version": 3
   },
   "file_extension": ".py",
   "mimetype": "text/x-python",
   "name": "python",
   "nbconvert_exporter": "python",
   "pygments_lexer": "ipython3",
   "version": "3.9.13"
  }
 },
 "nbformat": 4,
 "nbformat_minor": 4
}
