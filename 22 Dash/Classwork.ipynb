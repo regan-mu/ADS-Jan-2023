{
 "cells": [
  {
   "cell_type": "code",
   "execution_count": 1,
   "metadata": {},
   "outputs": [],
   "source": [
    "from dash import dcc, html, Dash"
   ]
  },
  {
   "cell_type": "code",
   "execution_count": 2,
   "metadata": {},
   "outputs": [],
   "source": [
    "colors = {\n",
    "    'background': '#111111',\n",
    "    'text': '#7FDBFF'\n",
    "}"
   ]
  },
  {
   "cell_type": "code",
   "execution_count": 3,
   "metadata": {},
   "outputs": [],
   "source": [
    "app = Dash(__name__)\n",
    "app.layout = html.Div(style={\"backgroundColor\": colors[\"background\"]}, children=[\n",
    "    html.H1(\n",
    "        children=\"Hello Dash\",\n",
    "        style={\n",
    "            'textAlign': 'center',\n",
    "            'color': colors['text']\n",
    "        }\n",
    "    ),\n",
    "    html.Div(\n",
    "        children=\"Dash: A web application framework for Python\",\n",
    "        style={\n",
    "            'textAlign': 'center',\n",
    "            'color': colors['text']\n",
    "        }\n",
    "    ),\n",
    "    dcc.Dropdown(\n",
    "        options = [\n",
    "            {'label': 'New York City', 'value': 'NYC'},\n",
    "            {'label': 'Montréal', 'value': 'MTL'},\n",
    "            {'label': 'San Francisco', 'value': 'SF'}\n",
    "        ],\n",
    "        value=\"SF\"\n",
    "    ),\n",
    "    dcc.RadioItems(\n",
    "       options = [\n",
    "            {'label': 'New York City', 'value': 'NYC'},\n",
    "            {'label': 'Montréal', 'value': 'MTL'},\n",
    "            {'label': 'San Francisco', 'value': 'SF'}\n",
    "        ], \n",
    "        value=\"NYC\",\n",
    "        style={\"color\": \"white\"}\n",
    "    ),\n",
    "    html.Label(\"Text Box\"),\n",
    "    dcc.Input(value=\"MTL\", type=\"text\"),\n",
    "    dcc.Graph(\n",
    "        id=\"graph\",\n",
    "        figure={\n",
    "            'data': [\n",
    "                {'x': [1, 2, 3], 'y': [4, 1, 2], 'type': 'bar', 'name': 'SF'},\n",
    "                {'x': [1, 2, 3], 'y': [2, 4, 5], 'type': 'bar', 'name': 'Montréal'},\n",
    "            ],\n",
    "            'layout': {\n",
    "                'plot_bgcolor': colors['background'],\n",
    "                'paper_bgcolor': colors['background'],\n",
    "                'font': {\n",
    "                    'color': colors['text']\n",
    "                }\n",
    "            }\n",
    "            \n",
    "        }\n",
    "    )\n",
    "])"
   ]
  },
  {
   "cell_type": "code",
   "execution_count": 9,
   "metadata": {},
   "outputs": [
    {
     "name": "stdout",
     "output_type": "stream",
     "text": [
      "Dash is running on http://127.0.0.1:8050/\n",
      "\n",
      " * Serving Flask app \"__main__\" (lazy loading)\n",
      " * Environment: production\n",
      "   WARNING: This is a development server. Do not use it in a production deployment.\n",
      "   Use a production WSGI server instead.\n",
      " * Debug mode: off\n"
     ]
    },
    {
     "name": "stderr",
     "output_type": "stream",
     "text": [
      " * Running on http://127.0.0.1:8050/ (Press CTRL+C to quit)\n",
      "127.0.0.1 - - [30/Nov/2022 18:24:09] \"\u001b[37mGET / HTTP/1.1\u001b[0m\" 200 -\n",
      "127.0.0.1 - - [30/Nov/2022 18:24:09] \"\u001b[37mGET /_dash-component-suites/dash/deps/react@16.v2_0_0m1637679241.14.0.min.js HTTP/1.1\u001b[0m\" 200 -\n",
      "127.0.0.1 - - [30/Nov/2022 18:24:10] \"\u001b[37mGET /_dash-component-suites/dash/deps/polyfill@7.v2_0_0m1637679241.12.1.min.js HTTP/1.1\u001b[0m\" 200 -\n",
      "127.0.0.1 - - [30/Nov/2022 18:24:11] \"\u001b[37mGET /_dash-component-suites/dash/deps/react-dom@16.v2_0_0m1637679241.14.0.min.js HTTP/1.1\u001b[0m\" 200 -\n",
      "127.0.0.1 - - [30/Nov/2022 18:24:11] \"\u001b[37mGET /_dash-component-suites/dash/deps/prop-types@15.v2_0_0m1637679241.7.2.min.js HTTP/1.1\u001b[0m\" 200 -\n",
      "127.0.0.1 - - [30/Nov/2022 18:24:11] \"\u001b[37mGET /_dash-component-suites/dash/dcc/dash_core_components-shared.v2_0_0m1637679241.js HTTP/1.1\u001b[0m\" 200 -\n",
      "127.0.0.1 - - [30/Nov/2022 18:24:11] \"\u001b[37mGET /_dash-component-suites/dash/dash-renderer/build/dash_renderer.v2_0_0m1637679241.min.js HTTP/1.1\u001b[0m\" 200 -\n",
      "127.0.0.1 - - [30/Nov/2022 18:24:11] \"\u001b[37mGET /_dash-component-suites/dash/dcc/dash_core_components.v2_0_0m1637679241.js HTTP/1.1\u001b[0m\" 200 -\n",
      "127.0.0.1 - - [30/Nov/2022 18:24:12] \"\u001b[37mGET /_dash-component-suites/dash/html/dash_html_components.v2_0_0m1637679241.min.js HTTP/1.1\u001b[0m\" 200 -\n",
      "127.0.0.1 - - [30/Nov/2022 18:24:12] \"\u001b[37mGET /_dash-component-suites/dash/dash_table/bundle.v5_0_0m1637679241.js HTTP/1.1\u001b[0m\" 200 -\n",
      "127.0.0.1 - - [30/Nov/2022 18:24:12] \"\u001b[37mGET /_dash-layout HTTP/1.1\u001b[0m\" 200 -\n",
      "127.0.0.1 - - [30/Nov/2022 18:24:12] \"\u001b[37mGET /_dash-dependencies HTTP/1.1\u001b[0m\" 200 -\n",
      "127.0.0.1 - - [30/Nov/2022 18:24:13] \"\u001b[37mGET /_dash-component-suites/dash/dcc/async-dropdown.js HTTP/1.1\u001b[0m\" 200 -\n",
      "127.0.0.1 - - [30/Nov/2022 18:24:13] \"\u001b[37mGET /_dash-component-suites/dash/dcc/async-graph.js HTTP/1.1\u001b[0m\" 200 -\n",
      "127.0.0.1 - - [30/Nov/2022 18:24:13] \"\u001b[37mGET /_favicon.ico?v=2.0.0 HTTP/1.1\u001b[0m\" 200 -\n",
      "127.0.0.1 - - [30/Nov/2022 18:24:13] \"\u001b[37mGET /_dash-component-suites/dash/dcc/async-plotlyjs.js HTTP/1.1\u001b[0m\" 200 -\n"
     ]
    }
   ],
   "source": [
    "if __name__ == \"__main__\":\n",
    "    app.run_server()"
   ]
  },
  {
   "cell_type": "code",
   "execution_count": 11,
   "metadata": {},
   "outputs": [],
   "source": [
    "from dash.dependencies import Input, Output"
   ]
  },
  {
   "cell_type": "code",
   "execution_count": 15,
   "metadata": {},
   "outputs": [],
   "source": [
    "import dash_auth as auth\n",
    "VALID_USERNAME_PASSWORD_PAIRS = [\n",
    "    ['Regan', 'password']\n",
    "]"
   ]
  },
  {
   "cell_type": "code",
   "execution_count": null,
   "metadata": {},
   "outputs": [],
   "source": [
    "app = Dash(\"auth\")\n",
    "auth = auth.BasicAuth(app, VALID_USERNAME_PASSWORD_PAIRS)\n",
    "app.layout = html.Div([\n",
    "    html.H2(\"Some Math\"),\n",
    "    html.Label(\"First Number\"),\n",
    "    dcc.Dropdown(\n",
    "        id=\"num-1\",\n",
    "        options=[\n",
    "            {'label': '10', 'value': 10},\n",
    "            {'label': '15', 'value': 15},\n",
    "            {'label': '22', 'value': 22}\n",
    "        ],\n",
    "        placeholder=\"num 1\"\n",
    "    ),\n",
    "    html.Label(\"Second Number\"),\n",
    "    dcc.Dropdown(\n",
    "        id=\"num-2\",\n",
    "        options=[\n",
    "            {'label': '20', 'value': 20},\n",
    "            {'label': '12', 'value': 12},\n",
    "            {'label': '32', 'value': 32}\n",
    "        ],\n",
    "        placeholder=\"num 2\"\n",
    "    ),\n",
    "    html.Div(id=\"divide\", style={\"color\": \"Green\"}),\n",
    "    html.Div(id=\"multiply\", style={\"color\": \"Purple\"})\n",
    "])\n",
    "\n",
    "@app.callback(\n",
    "    [\n",
    "        Output(component_id=\"divide\", component_property=\"children\"),\n",
    "        Output(component_id=\"multiply\", component_property=\"children\")\n",
    "    ],\n",
    "    [\n",
    "        Input(component_id=\"num-1\", component_property=\"value\"),\n",
    "        Input(component_id=\"num-2\", component_property=\"value\")\n",
    "    ]\n",
    ")\n",
    "def update_output(num1, num2):\n",
    "    divide = num1 / num2\n",
    "    multiply = num1 * num2\n",
    "    return f\"Division: {divide}\", f\"Multiplication: {multiply}\"\n",
    "\n",
    "if __name__ == \"__main__\":\n",
    "    app.run_server()"
   ]
  },
  {
   "cell_type": "code",
   "execution_count": null,
   "metadata": {},
   "outputs": [],
   "source": []
  }
 ],
 "metadata": {
  "kernelspec": {
   "display_name": "Python 3",
   "language": "python",
   "name": "python3"
  },
  "language_info": {
   "codemirror_mode": {
    "name": "ipython",
    "version": 3
   },
   "file_extension": ".py",
   "mimetype": "text/x-python",
   "name": "python",
   "nbconvert_exporter": "python",
   "pygments_lexer": "ipython3",
   "version": "3.8.8"
  }
 },
 "nbformat": 4,
 "nbformat_minor": 4
}
