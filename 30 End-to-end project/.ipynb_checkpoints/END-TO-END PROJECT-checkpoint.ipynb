{
 "cells": [
  {
   "cell_type": "markdown",
   "metadata": {},
   "source": [
    "# Regression"
   ]
  },
  {
   "cell_type": "markdown",
   "metadata": {},
   "source": [
    "## End to End Machine Learning Project\n",
    "#### We are going to follow these steps to build an end to end house price prediction model.\n",
    "    - Data Discovery\n",
    "    - Exploratory Data Analysis (EDA)\n",
    "    - Data Pre-processing\n",
    "    - Feature Selection/Extraction\n",
    "    - Predictive Modelling\n",
    "    - Project Outcomes & Conclusion\n",
    "\n",
    "- Here's the [**Data set:** ](https://www.kaggle.com/datasets/yasserh/housing-prices-dataset)"
   ]
  },
  {
   "cell_type": "code",
   "execution_count": 35,
   "metadata": {},
   "outputs": [],
   "source": [
    "import pandas as pd\n",
    "import numpy as np\n",
    "import seaborn as sns\n",
    "import matplotlib.pyplot as plt\n",
    "\n",
    "from sklearn.feature_selection import RFE\n",
    "from sklearn.preprocessing import StandardScaler, OneHotEncoder\n",
    "from sklearn.model_selection import train_test_split\n",
    "from sklearn.impute import SimpleImputer\n",
    "from statsmodels.stats.outliers_influence import variance_inflation_factor\n",
    "\n",
    "from sklearn.decomposition import PCA\n",
    "from sklearn.linear_model import Ridge\n",
    "from sklearn.linear_model import Lasso\n",
    "from sklearn.linear_model import ElasticNet\n",
    "from sklearn.linear_model import LinearRegression\n",
    "from sklearn.ensemble import RandomForestClassifier\n",
    "from sklearn.preprocessing import PolynomialFeatures\n",
    "from sklearn.metrics import r2_score, mean_absolute_error, mean_squared_error"
   ]
  },
  {
   "cell_type": "markdown",
   "metadata": {},
   "source": [
    "### 1. Data Discovery"
   ]
  },
  {
   "cell_type": "code",
   "execution_count": 36,
   "metadata": {},
   "outputs": [
    {
     "name": "stdout",
     "output_type": "stream",
     "text": [
      "\n",
      "\u001b[1mFindings:\u001b[0m The dataset consists of 545 rows and 13 columns\n"
     ]
    },
    {
     "data": {
      "text/html": [
       "<div>\n",
       "<style scoped>\n",
       "    .dataframe tbody tr th:only-of-type {\n",
       "        vertical-align: middle;\n",
       "    }\n",
       "\n",
       "    .dataframe tbody tr th {\n",
       "        vertical-align: top;\n",
       "    }\n",
       "\n",
       "    .dataframe thead th {\n",
       "        text-align: right;\n",
       "    }\n",
       "</style>\n",
       "<table border=\"1\" class=\"dataframe\">\n",
       "  <thead>\n",
       "    <tr style=\"text-align: right;\">\n",
       "      <th></th>\n",
       "      <th>price</th>\n",
       "      <th>area</th>\n",
       "      <th>bedrooms</th>\n",
       "      <th>bathrooms</th>\n",
       "      <th>stories</th>\n",
       "      <th>mainroad</th>\n",
       "      <th>guestroom</th>\n",
       "      <th>basement</th>\n",
       "      <th>hotwaterheating</th>\n",
       "      <th>airconditioning</th>\n",
       "      <th>parking</th>\n",
       "      <th>prefarea</th>\n",
       "      <th>furnishingstatus</th>\n",
       "    </tr>\n",
       "  </thead>\n",
       "  <tbody>\n",
       "    <tr>\n",
       "      <th>0</th>\n",
       "      <td>13300000</td>\n",
       "      <td>7420.0</td>\n",
       "      <td>4.0</td>\n",
       "      <td>2</td>\n",
       "      <td>3</td>\n",
       "      <td>yes</td>\n",
       "      <td>no</td>\n",
       "      <td>no</td>\n",
       "      <td>no</td>\n",
       "      <td>yes</td>\n",
       "      <td>2</td>\n",
       "      <td>yes</td>\n",
       "      <td>furnished</td>\n",
       "    </tr>\n",
       "    <tr>\n",
       "      <th>1</th>\n",
       "      <td>12250000</td>\n",
       "      <td>8960.0</td>\n",
       "      <td>4.0</td>\n",
       "      <td>4</td>\n",
       "      <td>4</td>\n",
       "      <td>yes</td>\n",
       "      <td>no</td>\n",
       "      <td>no</td>\n",
       "      <td>no</td>\n",
       "      <td>yes</td>\n",
       "      <td>3</td>\n",
       "      <td>no</td>\n",
       "      <td>furnished</td>\n",
       "    </tr>\n",
       "    <tr>\n",
       "      <th>2</th>\n",
       "      <td>12250000</td>\n",
       "      <td>9960.0</td>\n",
       "      <td>3.0</td>\n",
       "      <td>2</td>\n",
       "      <td>2</td>\n",
       "      <td>yes</td>\n",
       "      <td>no</td>\n",
       "      <td>yes</td>\n",
       "      <td>no</td>\n",
       "      <td>no</td>\n",
       "      <td>2</td>\n",
       "      <td>yes</td>\n",
       "      <td>semi-furnished</td>\n",
       "    </tr>\n",
       "    <tr>\n",
       "      <th>3</th>\n",
       "      <td>12215000</td>\n",
       "      <td>7500.0</td>\n",
       "      <td>4.0</td>\n",
       "      <td>2</td>\n",
       "      <td>2</td>\n",
       "      <td>yes</td>\n",
       "      <td>no</td>\n",
       "      <td>yes</td>\n",
       "      <td>no</td>\n",
       "      <td>yes</td>\n",
       "      <td>3</td>\n",
       "      <td>yes</td>\n",
       "      <td>furnished</td>\n",
       "    </tr>\n",
       "    <tr>\n",
       "      <th>4</th>\n",
       "      <td>11410000</td>\n",
       "      <td>7420.0</td>\n",
       "      <td>4.0</td>\n",
       "      <td>1</td>\n",
       "      <td>2</td>\n",
       "      <td>yes</td>\n",
       "      <td>yes</td>\n",
       "      <td>yes</td>\n",
       "      <td>no</td>\n",
       "      <td>yes</td>\n",
       "      <td>2</td>\n",
       "      <td>no</td>\n",
       "      <td>furnished</td>\n",
       "    </tr>\n",
       "  </tbody>\n",
       "</table>\n",
       "</div>"
      ],
      "text/plain": [
       "      price    area  bedrooms  bathrooms  stories mainroad guestroom basement  \\\n",
       "0  13300000  7420.0       4.0          2        3      yes        no       no   \n",
       "1  12250000  8960.0       4.0          4        4      yes        no       no   \n",
       "2  12250000  9960.0       3.0          2        2      yes        no      yes   \n",
       "3  12215000  7500.0       4.0          2        2      yes        no      yes   \n",
       "4  11410000  7420.0       4.0          1        2      yes       yes      yes   \n",
       "\n",
       "  hotwaterheating airconditioning  parking prefarea furnishingstatus  \n",
       "0              no             yes        2      yes        furnished  \n",
       "1              no             yes        3       no        furnished  \n",
       "2              no              no        2      yes   semi-furnished  \n",
       "3              no             yes        3      yes        furnished  \n",
       "4              no             yes        2       no        furnished  "
      ]
     },
     "execution_count": 36,
     "metadata": {},
     "output_type": "execute_result"
    }
   ],
   "source": [
    "# Load the dataset\n",
    "df = pd.read_csv(\"Housing.csv\")\n",
    "features = df.drop([\"price\"], axis=1)\n",
    "target = df.drop(features.columns, axis=1)\n",
    "\n",
    "print(f\"\\n\\033[1mFindings:\\033[0m The dataset consists of {df.shape[0]} rows and {df.shape[1]} columns\")\n",
    "df.head()"
   ]
  },
  {
   "cell_type": "code",
   "execution_count": 37,
   "metadata": {},
   "outputs": [
    {
     "name": "stdout",
     "output_type": "stream",
     "text": [
      "<class 'pandas.core.frame.DataFrame'>\n",
      "RangeIndex: 545 entries, 0 to 544\n",
      "Data columns (total 12 columns):\n",
      " #   Column            Non-Null Count  Dtype  \n",
      "---  ------            --------------  -----  \n",
      " 0   area              541 non-null    float64\n",
      " 1   bedrooms          542 non-null    float64\n",
      " 2   bathrooms         545 non-null    int64  \n",
      " 3   stories           545 non-null    int64  \n",
      " 4   mainroad          543 non-null    object \n",
      " 5   guestroom         545 non-null    object \n",
      " 6   basement          543 non-null    object \n",
      " 7   hotwaterheating   545 non-null    object \n",
      " 8   airconditioning   545 non-null    object \n",
      " 9   parking           545 non-null    int64  \n",
      " 10  prefarea          545 non-null    object \n",
      " 11  furnishingstatus  545 non-null    object \n",
      "dtypes: float64(2), int64(3), object(7)\n",
      "memory usage: 51.2+ KB\n"
     ]
    }
   ],
   "source": [
    "# Check data summary\n",
    "features.info()"
   ]
  },
  {
   "cell_type": "code",
   "execution_count": 38,
   "metadata": {},
   "outputs": [
    {
     "name": "stdout",
     "output_type": "stream",
     "text": [
      "\n",
      "\u001b[1mFindings:\u001b[0m There are 1 numerical variables and 11 categorical variables.\n"
     ]
    }
   ],
   "source": [
    "\n",
    "no_num_features = 0\n",
    "no_cat_features = 0\n",
    "num_features = []\n",
    "cat_features = []\n",
    "\n",
    "for col in features.columns:\n",
    "    if features[col].nunique() > 16:\n",
    "        no_num_features += 1\n",
    "        num_features.append(col)\n",
    "    elif features[col].nunique() <= 16:\n",
    "        no_cat_features += 1\n",
    "        cat_features.append(col)\n",
    "print(f\"\\n\\033[1mFindings:\\033[0m There are {no_num_features} numerical variables and {no_cat_features} categorical variables.\")"
   ]
  },
  {
   "cell_type": "code",
   "execution_count": null,
   "metadata": {},
   "outputs": [],
   "source": []
  },
  {
   "cell_type": "markdown",
   "metadata": {},
   "source": [
    "### 2. Exploratory Data Analysis"
   ]
  },
  {
   "cell_type": "code",
   "execution_count": 39,
   "metadata": {},
   "outputs": [
    {
     "data": {
      "image/png": "[encoded data removed]",
      "text/plain": [
       "<Figure size 1000x600 with 1 Axes>"
      ]
     },
     "metadata": {},
     "output_type": "display_data"
    }
   ],
   "source": [
    "# Let's look at the target variable first\n",
    "plt.rcParams['figure.figsize'] = [10,6]\n",
    "sns.kdeplot(x=target[\"price\"]/1000000, shade=True)\n",
    "plt.title(\"Housing price (in millions)\")\n",
    "plt.show()"
   ]
  },
  {
   "cell_type": "code",
   "execution_count": 40,
   "metadata": {},
   "outputs": [
    {
     "name": "stdout",
     "output_type": "stream",
     "text": [
      "\n",
      "\u001b[1mFindings:\u001b[0m The target variable is almost normally distributed.\n"
     ]
    }
   ],
   "source": [
    "print(f\"\\n\\033[1mFindings:\\033[0m The target variable is almost normally distributed.\")"
   ]
  },
  {
   "cell_type": "code",
   "execution_count": null,
   "metadata": {},
   "outputs": [],
   "source": []
  },
  {
   "cell_type": "code",
   "execution_count": 41,
   "metadata": {},
   "outputs": [
    {
     "data": {
      "image/png": "[encoded data removed]",
      "text/plain": [
       "<Figure size 1600x2000 with 10 Axes>"
      ]
     },
     "metadata": {},
     "output_type": "display_data"
    }
   ],
   "source": [
    "# Visualizing categorical features\n",
    "plt.figure(figsize = (16, 20))\n",
    "plotnumber = 1\n",
    "\n",
    "for i in range(1, len(cat_features)):\n",
    "    if plotnumber <= 10:\n",
    "        ax = plt.subplot(6, 2, plotnumber)\n",
    "        sns.countplot(x = cat_features[i], data = features, ax = ax)\n",
    "        plt.title(f\"\\n{cat_features[i]} \\n\", fontsize = 20)\n",
    "        \n",
    "    plotnumber += 1\n",
    "\n",
    "plt.tight_layout()\n",
    "plt.show()"
   ]
  },
  {
   "cell_type": "code",
   "execution_count": 42,
   "metadata": {},
   "outputs": [
    {
     "data": {
      "text/plain": [
       "['area']"
      ]
     },
     "execution_count": 42,
     "metadata": {},
     "output_type": "execute_result"
    }
   ],
   "source": [
    "num_features"
   ]
  },
  {
   "cell_type": "code",
   "execution_count": 43,
   "metadata": {},
   "outputs": [
    {
     "data": {
      "image/png": "[encoded data removed]",
      "text/plain": [
       "<Figure size 1000x600 with 1 Axes>"
      ]
     },
     "metadata": {},
     "output_type": "display_data"
    }
   ],
   "source": [
    "# Visualizing Numerical Variables\n",
    "sns.kdeplot(x=features[num_features[0]], shade=True)\n",
    "plt.show()"
   ]
  },
  {
   "cell_type": "code",
   "execution_count": 44,
   "metadata": {},
   "outputs": [
    {
     "data": {
      "image/png": "[encoded data removed]",
      "text/plain": [
       "<Figure size 1000x600 with 1 Axes>"
      ]
     },
     "metadata": {},
     "output_type": "display_data"
    }
   ],
   "source": [
    "sns.boxplot(x=features[num_features[0]])\n",
    "plt.show()"
   ]
  },
  {
   "cell_type": "markdown",
   "metadata": {},
   "source": [
    "**Findings** The area variable has outlier, we're going to deal with them later."
   ]
  },
  {
   "cell_type": "code",
   "execution_count": 45,
   "metadata": {},
   "outputs": [
    {
     "name": "stdout",
     "output_type": "stream",
     "text": [
      "The number of duplicates in our data is 0\n",
      "\n",
      "\u001b[1mFindings:\u001b[0m We do not have any duplicate values in our data\n"
     ]
    }
   ],
   "source": [
    "# Check with duplicates\n",
    "duplicates = df.duplicated().sum()\n",
    "print(f\"The number of duplicates in our data is {duplicates}\")\n",
    "print(f\"\\n\\033[1mFindings:\\033[0m We do not have any duplicate values in our data\")"
   ]
  },
  {
   "cell_type": "code",
   "execution_count": null,
   "metadata": {},
   "outputs": [],
   "source": []
  },
  {
   "cell_type": "code",
   "execution_count": 46,
   "metadata": {},
   "outputs": [
    {
     "name": "stdout",
     "output_type": "stream",
     "text": [
      "  column_name  missing_vals column_type\n",
      "0        area             4     Numeric\n",
      "1    bedrooms             3    Category\n",
      "2    mainroad             2    Category\n",
      "3    basement             2    Category\n",
      "\n",
      "\u001b[1mFindings:\u001b[0m We 4 columns with missing values in our data.\n",
      "One is numeric, rest are categorical.\n",
      "We'll take care of them in the preprocessing step.\n"
     ]
    }
   ],
   "source": [
    "# Check for missing values\n",
    "missing=df.isnull().sum().reset_index()\n",
    "missing.columns = [\"column_name\", \"missing_vals\"]\n",
    "missing[\"column_type\"] = missing[\"column_name\"].apply(lambda x: 'Category' if x in cat_features else \"Numeric\")\n",
    "missing_columns = missing[missing[\"missing_vals\"] > 0].reset_index(drop=True)\n",
    "print(missing_columns)\n",
    "print(f\"\\n\\033[1mFindings:\\033[0m We 4 columns with missing values in our data.\\\n",
    "\\nOne is numeric, rest are categorical.\\\n",
    "\\nWe'll take care of them in the preprocessing step.\")"
   ]
  },
  {
   "cell_type": "code",
   "execution_count": 47,
   "metadata": {},
   "outputs": [
    {
     "name": "stdout",
     "output_type": "stream",
     "text": [
      "price has 0 negative value\n",
      "area has 0 negative value\n",
      "bedrooms has 0 negative value\n",
      "bathrooms has 0 negative value\n",
      "stories has 0 negative value\n",
      "parking has 0 negative value\n"
     ]
    }
   ],
   "source": [
    "# Find variables with negative values\n",
    "for col in df.columns:\n",
    "    if df[col].dtype != \"object\":\n",
    "        total_neg = (df[col]<0)\n",
    "        print(f\"{col} has {total_neg.sum()} negative value\")"
   ]
  },
  {
   "cell_type": "markdown",
   "metadata": {},
   "source": [
    "### 3. Data Preprocessing"
   ]
  },
  {
   "cell_type": "code",
   "execution_count": null,
   "metadata": {},
   "outputs": [],
   "source": []
  },
  {
   "cell_type": "markdown",
   "metadata": {},
   "source": [
    "#### 1. Remove Outliers from the \"area\" variable\n",
    "* We will remove all data values that extend beyond 1.5 times the IQR from Q1 and Q3"
   ]
  },
  {
   "cell_type": "code",
   "execution_count": 48,
   "metadata": {},
   "outputs": [],
   "source": [
    "for ft in num_features:\n",
    "    q1 = df[ft].quantile(.25)\n",
    "    q3 = df[ft].quantile(.75)\n",
    "    iqr = q3-q1\n",
    "    factor = iqr*1.5\n",
    "    lower_limit = q1 - factor\n",
    "    upper_limit = q3 + factor\n",
    "    df = df[(df[ft] > lower_limit) & (df[ft] < upper_limit)]"
   ]
  },
  {
   "cell_type": "code",
   "execution_count": 49,
   "metadata": {},
   "outputs": [
    {
     "data": {
      "text/plain": [
       "(529, 13)"
      ]
     },
     "execution_count": 49,
     "metadata": {},
     "output_type": "execute_result"
    }
   ],
   "source": [
    "df.shape"
   ]
  },
  {
   "cell_type": "code",
   "execution_count": 66,
   "metadata": {},
   "outputs": [
    {
     "data": {
      "image/png": "[encoded data removed]",
      "text/plain": [
       "<Figure size 1000x600 with 1 Axes>"
      ]
     },
     "metadata": {},
     "output_type": "display_data"
    }
   ],
   "source": [
    "sns.boxplot(x=df[num_features[0]])\n",
    "plt.show()"
   ]
  },
  {
   "cell_type": "markdown",
   "metadata": {},
   "source": [
    "**Before removing outliers, we had 545 rows, now we are left with 529**\n",
    "* From the boxplot, the number of outliers has be significantly reduced compared to what we had before."
   ]
  },
  {
   "cell_type": "markdown",
   "metadata": {},
   "source": [
    "#### 2. Train Split\n",
    "* Let split our training data and our test before we do any sort of preprocessing to avoid train-test contamination."
   ]
  },
  {
   "cell_type": "code",
   "execution_count": 50,
   "metadata": {},
   "outputs": [],
   "source": [
    "X_train, X_test, y_train, y_test = train_test_split(df[features.columns], df[target.columns], test_size=0.2, random_state=100)"
   ]
  },
  {
   "cell_type": "code",
   "execution_count": 51,
   "metadata": {},
   "outputs": [
    {
     "name": "stdout",
     "output_type": "stream",
     "text": [
      "Train | X->(423, 12), y->(423, 1)\n",
      "Test | X->(106, 12), y->(106, 1)\n"
     ]
    }
   ],
   "source": [
    "print(f\"Train | X->{X_train.shape}, y->{y_train.shape}\")\n",
    "print(f\"Test | X->{X_test.shape}, y->{y_test.shape}\")"
   ]
  },
  {
   "cell_type": "markdown",
   "metadata": {},
   "source": [
    "#### 3. Impute Missing Values.\n",
    "* From our previous step, we know that we have 1 numerical(area) and 3 categorical(bedrooms, mainroad, basement) variables with missing values.\n",
    "* We need to encode them separately.\n",
    "* The numerical variable has some outliers and and the distribution is not normal, so a mean would not a good representation of the variable.\n",
    "* Therefore, we are going to use the median for imputation for the numeric variable.\n",
    "* For the 3 categorical variables, let's use the most frequent value for imputation."
   ]
  },
  {
   "cell_type": "code",
   "execution_count": 52,
   "metadata": {},
   "outputs": [],
   "source": [
    "num_imputer = SimpleImputer(strategy=\"median\")\n",
    "cat_imputer = SimpleImputer(strategy=\"most_frequent\")\n",
    "num_col_with_na = missing_columns[missing_columns[\"column_type\"] == \"Numeric\"].loc[0,\"column_name\"]\n",
    "cat_cols_with_na = missing_columns[missing_columns[\"column_type\"] == \"Category\"].loc[:,\"column_name\"].values"
   ]
  },
  {
   "cell_type": "code",
   "execution_count": 53,
   "metadata": {},
   "outputs": [
    {
     "data": {
      "text/plain": [
       "price               0\n",
       "area                0\n",
       "bedrooms            1\n",
       "bathrooms           0\n",
       "stories             0\n",
       "mainroad            2\n",
       "guestroom           0\n",
       "basement            1\n",
       "hotwaterheating     0\n",
       "airconditioning     0\n",
       "parking             0\n",
       "prefarea            0\n",
       "furnishingstatus    0\n",
       "dtype: int64"
      ]
     },
     "execution_count": 53,
     "metadata": {},
     "output_type": "execute_result"
    }
   ],
   "source": [
    "df.isnull().sum()"
   ]
  },
  {
   "cell_type": "code",
   "execution_count": 54,
   "metadata": {},
   "outputs": [],
   "source": [
    "# Numeric variable imputation\n",
    "def num_impute(data):\n",
    "    data = data.reset_index(drop=True)\n",
    "    num_missing = pd.DataFrame(data.loc[:,num_col_with_na], columns=[\"area\"])\n",
    "    num_imputed = num_imputer.fit_transform(num_missing)\n",
    "    data[\"area\"] = num_imputed\n",
    "    return data\n",
    "X_train = num_impute(X_train)\n",
    "X_test = num_impute(X_test)"
   ]
  },
  {
   "cell_type": "code",
   "execution_count": 55,
   "metadata": {},
   "outputs": [],
   "source": [
    "# Categorical Imputation\n",
    "def cat_impute(data):\n",
    "    data = data.reset_index(drop=True)\n",
    "    cat_missing = data[cat_cols_with_na]\n",
    "    cat_imputed = pd.DataFrame(cat_imputer.fit_transform(cat_missing))\n",
    "    cat_imputed.columns = cat_cols_with_na\n",
    "    data.drop(cat_cols_with_na, axis=1, inplace=True)\n",
    "    data[cat_cols_with_na] = cat_imputed\n",
    "    data[\"bedrooms\"] = pd.to_numeric(data[\"bedrooms\"])\n",
    "    return data\n",
    "X_train_imputed = cat_impute(X_train)\n",
    "X_test_imputed = cat_impute(X_test)"
   ]
  },
  {
   "cell_type": "code",
   "execution_count": 56,
   "metadata": {},
   "outputs": [
    {
     "data": {
      "text/plain": [
       "area                0\n",
       "bathrooms           0\n",
       "stories             0\n",
       "guestroom           0\n",
       "hotwaterheating     0\n",
       "airconditioning     0\n",
       "parking             0\n",
       "prefarea            0\n",
       "furnishingstatus    0\n",
       "bedrooms            0\n",
       "mainroad            0\n",
       "basement            0\n",
       "dtype: int64"
      ]
     },
     "execution_count": 56,
     "metadata": {},
     "output_type": "execute_result"
    }
   ],
   "source": [
    "X_train_imputed.isnull().sum()"
   ]
  },
  {
   "cell_type": "code",
   "execution_count": 57,
   "metadata": {},
   "outputs": [
    {
     "data": {
      "text/plain": [
       "area                0\n",
       "bathrooms           0\n",
       "stories             0\n",
       "guestroom           0\n",
       "hotwaterheating     0\n",
       "airconditioning     0\n",
       "parking             0\n",
       "prefarea            0\n",
       "furnishingstatus    0\n",
       "bedrooms            0\n",
       "mainroad            0\n",
       "basement            0\n",
       "dtype: int64"
      ]
     },
     "execution_count": 57,
     "metadata": {},
     "output_type": "execute_result"
    }
   ],
   "source": [
    "X_test_imputed.isnull().sum()"
   ]
  },
  {
   "cell_type": "code",
   "execution_count": 58,
   "metadata": {},
   "outputs": [
    {
     "data": {
      "text/html": [
       "<div>\n",
       "<style scoped>\n",
       "    .dataframe tbody tr th:only-of-type {\n",
       "        vertical-align: middle;\n",
       "    }\n",
       "\n",
       "    .dataframe tbody tr th {\n",
       "        vertical-align: top;\n",
       "    }\n",
       "\n",
       "    .dataframe thead th {\n",
       "        text-align: right;\n",
       "    }\n",
       "</style>\n",
       "<table border=\"1\" class=\"dataframe\">\n",
       "  <thead>\n",
       "    <tr style=\"text-align: right;\">\n",
       "      <th></th>\n",
       "      <th>area</th>\n",
       "      <th>bathrooms</th>\n",
       "      <th>stories</th>\n",
       "      <th>guestroom</th>\n",
       "      <th>hotwaterheating</th>\n",
       "      <th>airconditioning</th>\n",
       "      <th>parking</th>\n",
       "      <th>prefarea</th>\n",
       "      <th>furnishingstatus</th>\n",
       "      <th>bedrooms</th>\n",
       "      <th>mainroad</th>\n",
       "      <th>basement</th>\n",
       "    </tr>\n",
       "  </thead>\n",
       "  <tbody>\n",
       "    <tr>\n",
       "      <th>0</th>\n",
       "      <td>3060.0</td>\n",
       "      <td>1</td>\n",
       "      <td>1</td>\n",
       "      <td>no</td>\n",
       "      <td>no</td>\n",
       "      <td>no</td>\n",
       "      <td>0</td>\n",
       "      <td>no</td>\n",
       "      <td>unfurnished</td>\n",
       "      <td>3.0</td>\n",
       "      <td>yes</td>\n",
       "      <td>no</td>\n",
       "    </tr>\n",
       "    <tr>\n",
       "      <th>1</th>\n",
       "      <td>5200.0</td>\n",
       "      <td>1</td>\n",
       "      <td>3</td>\n",
       "      <td>no</td>\n",
       "      <td>no</td>\n",
       "      <td>no</td>\n",
       "      <td>0</td>\n",
       "      <td>no</td>\n",
       "      <td>unfurnished</td>\n",
       "      <td>4.0</td>\n",
       "      <td>yes</td>\n",
       "      <td>no</td>\n",
       "    </tr>\n",
       "    <tr>\n",
       "      <th>2</th>\n",
       "      <td>5880.0</td>\n",
       "      <td>1</td>\n",
       "      <td>1</td>\n",
       "      <td>no</td>\n",
       "      <td>no</td>\n",
       "      <td>no</td>\n",
       "      <td>1</td>\n",
       "      <td>no</td>\n",
       "      <td>unfurnished</td>\n",
       "      <td>3.0</td>\n",
       "      <td>yes</td>\n",
       "      <td>no</td>\n",
       "    </tr>\n",
       "    <tr>\n",
       "      <th>3</th>\n",
       "      <td>5400.0</td>\n",
       "      <td>1</td>\n",
       "      <td>1</td>\n",
       "      <td>no</td>\n",
       "      <td>no</td>\n",
       "      <td>no</td>\n",
       "      <td>3</td>\n",
       "      <td>no</td>\n",
       "      <td>semi-furnished</td>\n",
       "      <td>3.0</td>\n",
       "      <td>yes</td>\n",
       "      <td>no</td>\n",
       "    </tr>\n",
       "    <tr>\n",
       "      <th>4</th>\n",
       "      <td>4992.0</td>\n",
       "      <td>2</td>\n",
       "      <td>2</td>\n",
       "      <td>no</td>\n",
       "      <td>no</td>\n",
       "      <td>no</td>\n",
       "      <td>2</td>\n",
       "      <td>no</td>\n",
       "      <td>unfurnished</td>\n",
       "      <td>3.0</td>\n",
       "      <td>yes</td>\n",
       "      <td>no</td>\n",
       "    </tr>\n",
       "  </tbody>\n",
       "</table>\n",
       "</div>"
      ],
      "text/plain": [
       "     area  bathrooms  stories guestroom hotwaterheating airconditioning  \\\n",
       "0  3060.0          1        1        no              no              no   \n",
       "1  5200.0          1        3        no              no              no   \n",
       "2  5880.0          1        1        no              no              no   \n",
       "3  5400.0          1        1        no              no              no   \n",
       "4  4992.0          2        2        no              no              no   \n",
       "\n",
       "   parking prefarea furnishingstatus  bedrooms mainroad basement  \n",
       "0        0       no      unfurnished       3.0      yes       no  \n",
       "1        0       no      unfurnished       4.0      yes       no  \n",
       "2        1       no      unfurnished       3.0      yes       no  \n",
       "3        3       no   semi-furnished       3.0      yes       no  \n",
       "4        2       no      unfurnished       3.0      yes       no  "
      ]
     },
     "execution_count": 58,
     "metadata": {},
     "output_type": "execute_result"
    }
   ],
   "source": [
    "X_test_imputed.head()"
   ]
  },
  {
   "cell_type": "code",
   "execution_count": 59,
   "metadata": {},
   "outputs": [
    {
     "data": {
      "text/html": [
       "<div>\n",
       "<style scoped>\n",
       "    .dataframe tbody tr th:only-of-type {\n",
       "        vertical-align: middle;\n",
       "    }\n",
       "\n",
       "    .dataframe tbody tr th {\n",
       "        vertical-align: top;\n",
       "    }\n",
       "\n",
       "    .dataframe thead th {\n",
       "        text-align: right;\n",
       "    }\n",
       "</style>\n",
       "<table border=\"1\" class=\"dataframe\">\n",
       "  <thead>\n",
       "    <tr style=\"text-align: right;\">\n",
       "      <th></th>\n",
       "      <th>area</th>\n",
       "      <th>bathrooms</th>\n",
       "      <th>stories</th>\n",
       "      <th>guestroom</th>\n",
       "      <th>hotwaterheating</th>\n",
       "      <th>airconditioning</th>\n",
       "      <th>parking</th>\n",
       "      <th>prefarea</th>\n",
       "      <th>furnishingstatus</th>\n",
       "      <th>bedrooms</th>\n",
       "      <th>mainroad</th>\n",
       "      <th>basement</th>\n",
       "    </tr>\n",
       "  </thead>\n",
       "  <tbody>\n",
       "    <tr>\n",
       "      <th>0</th>\n",
       "      <td>3600.0</td>\n",
       "      <td>1</td>\n",
       "      <td>2</td>\n",
       "      <td>no</td>\n",
       "      <td>no</td>\n",
       "      <td>no</td>\n",
       "      <td>1</td>\n",
       "      <td>no</td>\n",
       "      <td>unfurnished</td>\n",
       "      <td>6.0</td>\n",
       "      <td>yes</td>\n",
       "      <td>no</td>\n",
       "    </tr>\n",
       "    <tr>\n",
       "      <th>1</th>\n",
       "      <td>4075.0</td>\n",
       "      <td>1</td>\n",
       "      <td>1</td>\n",
       "      <td>yes</td>\n",
       "      <td>no</td>\n",
       "      <td>no</td>\n",
       "      <td>2</td>\n",
       "      <td>no</td>\n",
       "      <td>semi-furnished</td>\n",
       "      <td>3.0</td>\n",
       "      <td>yes</td>\n",
       "      <td>yes</td>\n",
       "    </tr>\n",
       "    <tr>\n",
       "      <th>2</th>\n",
       "      <td>2787.0</td>\n",
       "      <td>1</td>\n",
       "      <td>1</td>\n",
       "      <td>no</td>\n",
       "      <td>no</td>\n",
       "      <td>no</td>\n",
       "      <td>0</td>\n",
       "      <td>yes</td>\n",
       "      <td>furnished</td>\n",
       "      <td>3.0</td>\n",
       "      <td>yes</td>\n",
       "      <td>yes</td>\n",
       "    </tr>\n",
       "    <tr>\n",
       "      <th>3</th>\n",
       "      <td>8960.0</td>\n",
       "      <td>4</td>\n",
       "      <td>4</td>\n",
       "      <td>no</td>\n",
       "      <td>no</td>\n",
       "      <td>yes</td>\n",
       "      <td>3</td>\n",
       "      <td>no</td>\n",
       "      <td>furnished</td>\n",
       "      <td>4.0</td>\n",
       "      <td>yes</td>\n",
       "      <td>no</td>\n",
       "    </tr>\n",
       "    <tr>\n",
       "      <th>4</th>\n",
       "      <td>6000.0</td>\n",
       "      <td>2</td>\n",
       "      <td>4</td>\n",
       "      <td>no</td>\n",
       "      <td>no</td>\n",
       "      <td>yes</td>\n",
       "      <td>0</td>\n",
       "      <td>no</td>\n",
       "      <td>unfurnished</td>\n",
       "      <td>4.0</td>\n",
       "      <td>yes</td>\n",
       "      <td>no</td>\n",
       "    </tr>\n",
       "  </tbody>\n",
       "</table>\n",
       "</div>"
      ],
      "text/plain": [
       "     area  bathrooms  stories guestroom hotwaterheating airconditioning  \\\n",
       "0  3600.0          1        2        no              no              no   \n",
       "1  4075.0          1        1       yes              no              no   \n",
       "2  2787.0          1        1        no              no              no   \n",
       "3  8960.0          4        4        no              no             yes   \n",
       "4  6000.0          2        4        no              no             yes   \n",
       "\n",
       "   parking prefarea furnishingstatus  bedrooms mainroad basement  \n",
       "0        1       no      unfurnished       6.0      yes       no  \n",
       "1        2       no   semi-furnished       3.0      yes      yes  \n",
       "2        0      yes        furnished       3.0      yes      yes  \n",
       "3        3       no        furnished       4.0      yes       no  \n",
       "4        0       no      unfurnished       4.0      yes       no  "
      ]
     },
     "execution_count": 59,
     "metadata": {},
     "output_type": "execute_result"
    }
   ],
   "source": [
    "X_train_imputed.head()"
   ]
  },
  {
   "cell_type": "markdown",
   "metadata": {},
   "source": [
    "**As you can see, we don't have missing values any more**\n",
    "* Now let move to encoding categorical variables."
   ]
  },
  {
   "cell_type": "markdown",
   "metadata": {},
   "source": [
    "#### 4. Categorical Encoding\n",
    "* For categorical encoding, we are going to use the onehot encoder since the number of classes in all categorical variables are relatively few.\n",
    "* However, some categories are already encoded like bedroom, bathroom, stories and parking. Were are not going to encode them since they are all ordinal variables, retaining the natural hierarchy is important."
   ]
  },
  {
   "cell_type": "code",
   "execution_count": 61,
   "metadata": {},
   "outputs": [],
   "source": [
    "pre_encoded_cats = [col for col in df.columns if df[col].dtype == \"object\"]\n",
    "ohe=OneHotEncoder(drop='first',sparse=False)"
   ]
  },
  {
   "cell_type": "code",
   "execution_count": 62,
   "metadata": {},
   "outputs": [],
   "source": [
    "def cat_encoding(data):\n",
    "    cat_to_encode = data[pre_encoded_cats]\n",
    "    encoded = ohe.fit_transform(cat_to_encode)\n",
    "    encoded_df = pd.DataFrame(index=data.index, data=encoded, columns=ohe.get_feature_names_out(pre_encoded_cats))\n",
    "    data.drop(pre_encoded_cats, axis=1, inplace=True)\n",
    "    data = pd.concat([data, encoded_df], axis=1)\n",
    "    return data"
   ]
  },
  {
   "cell_type": "code",
   "execution_count": 63,
   "metadata": {},
   "outputs": [],
   "source": [
    "X_train_encoded = cat_encoding(X_train_imputed)\n",
    "X_test_encoded = cat_encoding(X_test_imputed)"
   ]
  },
  {
   "cell_type": "code",
   "execution_count": 64,
   "metadata": {},
   "outputs": [
    {
     "data": {
      "text/html": [
       "<div>\n",
       "<style scoped>\n",
       "    .dataframe tbody tr th:only-of-type {\n",
       "        vertical-align: middle;\n",
       "    }\n",
       "\n",
       "    .dataframe tbody tr th {\n",
       "        vertical-align: top;\n",
       "    }\n",
       "\n",
       "    .dataframe thead th {\n",
       "        text-align: right;\n",
       "    }\n",
       "</style>\n",
       "<table border=\"1\" class=\"dataframe\">\n",
       "  <thead>\n",
       "    <tr style=\"text-align: right;\">\n",
       "      <th></th>\n",
       "      <th>area</th>\n",
       "      <th>bathrooms</th>\n",
       "      <th>stories</th>\n",
       "      <th>parking</th>\n",
       "      <th>bedrooms</th>\n",
       "      <th>mainroad_yes</th>\n",
       "      <th>guestroom_yes</th>\n",
       "      <th>basement_yes</th>\n",
       "      <th>hotwaterheating_yes</th>\n",
       "      <th>airconditioning_yes</th>\n",
       "      <th>prefarea_yes</th>\n",
       "      <th>furnishingstatus_semi-furnished</th>\n",
       "      <th>furnishingstatus_unfurnished</th>\n",
       "    </tr>\n",
       "  </thead>\n",
       "  <tbody>\n",
       "    <tr>\n",
       "      <th>0</th>\n",
       "      <td>3600.0</td>\n",
       "      <td>1</td>\n",
       "      <td>2</td>\n",
       "      <td>1</td>\n",
       "      <td>6.0</td>\n",
       "      <td>1.0</td>\n",
       "      <td>0.0</td>\n",
       "      <td>0.0</td>\n",
       "      <td>0.0</td>\n",
       "      <td>0.0</td>\n",
       "      <td>0.0</td>\n",
       "      <td>0.0</td>\n",
       "      <td>1.0</td>\n",
       "    </tr>\n",
       "    <tr>\n",
       "      <th>1</th>\n",
       "      <td>4075.0</td>\n",
       "      <td>1</td>\n",
       "      <td>1</td>\n",
       "      <td>2</td>\n",
       "      <td>3.0</td>\n",
       "      <td>1.0</td>\n",
       "      <td>1.0</td>\n",
       "      <td>1.0</td>\n",
       "      <td>0.0</td>\n",
       "      <td>0.0</td>\n",
       "      <td>0.0</td>\n",
       "      <td>1.0</td>\n",
       "      <td>0.0</td>\n",
       "    </tr>\n",
       "    <tr>\n",
       "      <th>2</th>\n",
       "      <td>2787.0</td>\n",
       "      <td>1</td>\n",
       "      <td>1</td>\n",
       "      <td>0</td>\n",
       "      <td>3.0</td>\n",
       "      <td>1.0</td>\n",
       "      <td>0.0</td>\n",
       "      <td>1.0</td>\n",
       "      <td>0.0</td>\n",
       "      <td>0.0</td>\n",
       "      <td>1.0</td>\n",
       "      <td>0.0</td>\n",
       "      <td>0.0</td>\n",
       "    </tr>\n",
       "    <tr>\n",
       "      <th>3</th>\n",
       "      <td>8960.0</td>\n",
       "      <td>4</td>\n",
       "      <td>4</td>\n",
       "      <td>3</td>\n",
       "      <td>4.0</td>\n",
       "      <td>1.0</td>\n",
       "      <td>0.0</td>\n",
       "      <td>0.0</td>\n",
       "      <td>0.0</td>\n",
       "      <td>1.0</td>\n",
       "      <td>0.0</td>\n",
       "      <td>0.0</td>\n",
       "      <td>0.0</td>\n",
       "    </tr>\n",
       "    <tr>\n",
       "      <th>4</th>\n",
       "      <td>6000.0</td>\n",
       "      <td>2</td>\n",
       "      <td>4</td>\n",
       "      <td>0</td>\n",
       "      <td>4.0</td>\n",
       "      <td>1.0</td>\n",
       "      <td>0.0</td>\n",
       "      <td>0.0</td>\n",
       "      <td>0.0</td>\n",
       "      <td>1.0</td>\n",
       "      <td>0.0</td>\n",
       "      <td>0.0</td>\n",
       "      <td>1.0</td>\n",
       "    </tr>\n",
       "  </tbody>\n",
       "</table>\n",
       "</div>"
      ],
      "text/plain": [
       "     area  bathrooms  stories  parking  bedrooms  mainroad_yes  guestroom_yes  \\\n",
       "0  3600.0          1        2        1       6.0           1.0            0.0   \n",
       "1  4075.0          1        1        2       3.0           1.0            1.0   \n",
       "2  2787.0          1        1        0       3.0           1.0            0.0   \n",
       "3  8960.0          4        4        3       4.0           1.0            0.0   \n",
       "4  6000.0          2        4        0       4.0           1.0            0.0   \n",
       "\n",
       "   basement_yes  hotwaterheating_yes  airconditioning_yes  prefarea_yes  \\\n",
       "0           0.0                  0.0                  0.0           0.0   \n",
       "1           1.0                  0.0                  0.0           0.0   \n",
       "2           1.0                  0.0                  0.0           1.0   \n",
       "3           0.0                  0.0                  1.0           0.0   \n",
       "4           0.0                  0.0                  1.0           0.0   \n",
       "\n",
       "   furnishingstatus_semi-furnished  furnishingstatus_unfurnished  \n",
       "0                              0.0                           1.0  \n",
       "1                              1.0                           0.0  \n",
       "2                              0.0                           0.0  \n",
       "3                              0.0                           0.0  \n",
       "4                              0.0                           1.0  "
      ]
     },
     "execution_count": 64,
     "metadata": {},
     "output_type": "execute_result"
    }
   ],
   "source": [
    "X_train_encoded.head()"
   ]
  },
  {
   "cell_type": "code",
   "execution_count": 65,
   "metadata": {},
   "outputs": [
    {
     "data": {
      "text/html": [
       "<div>\n",
       "<style scoped>\n",
       "    .dataframe tbody tr th:only-of-type {\n",
       "        vertical-align: middle;\n",
       "    }\n",
       "\n",
       "    .dataframe tbody tr th {\n",
       "        vertical-align: top;\n",
       "    }\n",
       "\n",
       "    .dataframe thead th {\n",
       "        text-align: right;\n",
       "    }\n",
       "</style>\n",
       "<table border=\"1\" class=\"dataframe\">\n",
       "  <thead>\n",
       "    <tr style=\"text-align: right;\">\n",
       "      <th></th>\n",
       "      <th>area</th>\n",
       "      <th>bathrooms</th>\n",
       "      <th>stories</th>\n",
       "      <th>parking</th>\n",
       "      <th>bedrooms</th>\n",
       "      <th>mainroad_yes</th>\n",
       "      <th>guestroom_yes</th>\n",
       "      <th>basement_yes</th>\n",
       "      <th>hotwaterheating_yes</th>\n",
       "      <th>airconditioning_yes</th>\n",
       "      <th>prefarea_yes</th>\n",
       "      <th>furnishingstatus_semi-furnished</th>\n",
       "      <th>furnishingstatus_unfurnished</th>\n",
       "    </tr>\n",
       "  </thead>\n",
       "  <tbody>\n",
       "    <tr>\n",
       "      <th>0</th>\n",
       "      <td>3060.0</td>\n",
       "      <td>1</td>\n",
       "      <td>1</td>\n",
       "      <td>0</td>\n",
       "      <td>3.0</td>\n",
       "      <td>1.0</td>\n",
       "      <td>0.0</td>\n",
       "      <td>0.0</td>\n",
       "      <td>0.0</td>\n",
       "      <td>0.0</td>\n",
       "      <td>0.0</td>\n",
       "      <td>0.0</td>\n",
       "      <td>1.0</td>\n",
       "    </tr>\n",
       "    <tr>\n",
       "      <th>1</th>\n",
       "      <td>5200.0</td>\n",
       "      <td>1</td>\n",
       "      <td>3</td>\n",
       "      <td>0</td>\n",
       "      <td>4.0</td>\n",
       "      <td>1.0</td>\n",
       "      <td>0.0</td>\n",
       "      <td>0.0</td>\n",
       "      <td>0.0</td>\n",
       "      <td>0.0</td>\n",
       "      <td>0.0</td>\n",
       "      <td>0.0</td>\n",
       "      <td>1.0</td>\n",
       "    </tr>\n",
       "    <tr>\n",
       "      <th>2</th>\n",
       "      <td>5880.0</td>\n",
       "      <td>1</td>\n",
       "      <td>1</td>\n",
       "      <td>1</td>\n",
       "      <td>3.0</td>\n",
       "      <td>1.0</td>\n",
       "      <td>0.0</td>\n",
       "      <td>0.0</td>\n",
       "      <td>0.0</td>\n",
       "      <td>0.0</td>\n",
       "      <td>0.0</td>\n",
       "      <td>0.0</td>\n",
       "      <td>1.0</td>\n",
       "    </tr>\n",
       "    <tr>\n",
       "      <th>3</th>\n",
       "      <td>5400.0</td>\n",
       "      <td>1</td>\n",
       "      <td>1</td>\n",
       "      <td>3</td>\n",
       "      <td>3.0</td>\n",
       "      <td>1.0</td>\n",
       "      <td>0.0</td>\n",
       "      <td>0.0</td>\n",
       "      <td>0.0</td>\n",
       "      <td>0.0</td>\n",
       "      <td>0.0</td>\n",
       "      <td>1.0</td>\n",
       "      <td>0.0</td>\n",
       "    </tr>\n",
       "    <tr>\n",
       "      <th>4</th>\n",
       "      <td>4992.0</td>\n",
       "      <td>2</td>\n",
       "      <td>2</td>\n",
       "      <td>2</td>\n",
       "      <td>3.0</td>\n",
       "      <td>1.0</td>\n",
       "      <td>0.0</td>\n",
       "      <td>0.0</td>\n",
       "      <td>0.0</td>\n",
       "      <td>0.0</td>\n",
       "      <td>0.0</td>\n",
       "      <td>0.0</td>\n",
       "      <td>1.0</td>\n",
       "    </tr>\n",
       "  </tbody>\n",
       "</table>\n",
       "</div>"
      ],
      "text/plain": [
       "     area  bathrooms  stories  parking  bedrooms  mainroad_yes  guestroom_yes  \\\n",
       "0  3060.0          1        1        0       3.0           1.0            0.0   \n",
       "1  5200.0          1        3        0       4.0           1.0            0.0   \n",
       "2  5880.0          1        1        1       3.0           1.0            0.0   \n",
       "3  5400.0          1        1        3       3.0           1.0            0.0   \n",
       "4  4992.0          2        2        2       3.0           1.0            0.0   \n",
       "\n",
       "   basement_yes  hotwaterheating_yes  airconditioning_yes  prefarea_yes  \\\n",
       "0           0.0                  0.0                  0.0           0.0   \n",
       "1           0.0                  0.0                  0.0           0.0   \n",
       "2           0.0                  0.0                  0.0           0.0   \n",
       "3           0.0                  0.0                  0.0           0.0   \n",
       "4           0.0                  0.0                  0.0           0.0   \n",
       "\n",
       "   furnishingstatus_semi-furnished  furnishingstatus_unfurnished  \n",
       "0                              0.0                           1.0  \n",
       "1                              0.0                           1.0  \n",
       "2                              0.0                           1.0  \n",
       "3                              1.0                           0.0  \n",
       "4                              0.0                           1.0  "
      ]
     },
     "execution_count": 65,
     "metadata": {},
     "output_type": "execute_result"
    }
   ],
   "source": [
    "X_test_encoded.head()"
   ]
  },
  {
   "cell_type": "markdown",
   "metadata": {},
   "source": []
  },
  {
   "cell_type": "markdown",
   "metadata": {},
   "source": [
    "#### 5. Scaling\n",
    "* Let's scale all our variables to a common scale to prevent the variables with bigger scale e.g area from dominating over those with smaller scales."
   ]
  },
  {
   "cell_type": "code",
   "execution_count": 70,
   "metadata": {},
   "outputs": [],
   "source": [
    "scaler = StandardScaler()"
   ]
  },
  {
   "cell_type": "code",
   "execution_count": 74,
   "metadata": {},
   "outputs": [],
   "source": [
    "def scale_data(data):\n",
    "    scaled = scaler.fit_transform(data)\n",
    "    scaled = pd.DataFrame(scaled)\n",
    "    scaled.columns = data.columns\n",
    "    return scaled\n",
    "X_train_scaled = scale_data(X_train_encoded)\n",
    "X_test_scaled = scale_data(X_test_encoded)"
   ]
  },
  {
   "cell_type": "code",
   "execution_count": 75,
   "metadata": {},
   "outputs": [
    {
     "data": {
      "text/html": [
       "<div>\n",
       "<style scoped>\n",
       "    .dataframe tbody tr th:only-of-type {\n",
       "        vertical-align: middle;\n",
       "    }\n",
       "\n",
       "    .dataframe tbody tr th {\n",
       "        vertical-align: top;\n",
       "    }\n",
       "\n",
       "    .dataframe thead th {\n",
       "        text-align: right;\n",
       "    }\n",
       "</style>\n",
       "<table border=\"1\" class=\"dataframe\">\n",
       "  <thead>\n",
       "    <tr style=\"text-align: right;\">\n",
       "      <th></th>\n",
       "      <th>area</th>\n",
       "      <th>bathrooms</th>\n",
       "      <th>stories</th>\n",
       "      <th>parking</th>\n",
       "      <th>bedrooms</th>\n",
       "      <th>mainroad_yes</th>\n",
       "      <th>guestroom_yes</th>\n",
       "      <th>basement_yes</th>\n",
       "      <th>hotwaterheating_yes</th>\n",
       "      <th>airconditioning_yes</th>\n",
       "      <th>prefarea_yes</th>\n",
       "      <th>furnishingstatus_semi-furnished</th>\n",
       "      <th>furnishingstatus_unfurnished</th>\n",
       "    </tr>\n",
       "  </thead>\n",
       "  <tbody>\n",
       "    <tr>\n",
       "      <th>0</th>\n",
       "      <td>-0.744761</td>\n",
       "      <td>-0.591806</td>\n",
       "      <td>0.256656</td>\n",
       "      <td>0.390637</td>\n",
       "      <td>4.161548</td>\n",
       "      <td>0.41833</td>\n",
       "      <td>-0.460472</td>\n",
       "      <td>-0.745082</td>\n",
       "      <td>-0.234228</td>\n",
       "      <td>-0.684653</td>\n",
       "      <td>-0.505166</td>\n",
       "      <td>-0.869015</td>\n",
       "      <td>1.437086</td>\n",
       "    </tr>\n",
       "    <tr>\n",
       "      <th>1</th>\n",
       "      <td>-0.489091</td>\n",
       "      <td>-0.591806</td>\n",
       "      <td>-0.898297</td>\n",
       "      <td>1.562549</td>\n",
       "      <td>0.086699</td>\n",
       "      <td>0.41833</td>\n",
       "      <td>2.171685</td>\n",
       "      <td>1.342134</td>\n",
       "      <td>-0.234228</td>\n",
       "      <td>-0.684653</td>\n",
       "      <td>-0.505166</td>\n",
       "      <td>1.150728</td>\n",
       "      <td>-0.695852</td>\n",
       "    </tr>\n",
       "    <tr>\n",
       "      <th>2</th>\n",
       "      <td>-1.182361</td>\n",
       "      <td>-0.591806</td>\n",
       "      <td>-0.898297</td>\n",
       "      <td>-0.781274</td>\n",
       "      <td>0.086699</td>\n",
       "      <td>0.41833</td>\n",
       "      <td>-0.460472</td>\n",
       "      <td>1.342134</td>\n",
       "      <td>-0.234228</td>\n",
       "      <td>-0.684653</td>\n",
       "      <td>1.979547</td>\n",
       "      <td>-0.869015</td>\n",
       "      <td>-0.695852</td>\n",
       "    </tr>\n",
       "    <tr>\n",
       "      <th>3</th>\n",
       "      <td>2.140274</td>\n",
       "      <td>5.321595</td>\n",
       "      <td>2.566563</td>\n",
       "      <td>2.734460</td>\n",
       "      <td>1.444982</td>\n",
       "      <td>0.41833</td>\n",
       "      <td>-0.460472</td>\n",
       "      <td>-0.745082</td>\n",
       "      <td>-0.234228</td>\n",
       "      <td>1.460593</td>\n",
       "      <td>-0.505166</td>\n",
       "      <td>-0.869015</td>\n",
       "      <td>-0.695852</td>\n",
       "    </tr>\n",
       "    <tr>\n",
       "      <th>4</th>\n",
       "      <td>0.547046</td>\n",
       "      <td>1.379328</td>\n",
       "      <td>2.566563</td>\n",
       "      <td>-0.781274</td>\n",
       "      <td>1.444982</td>\n",
       "      <td>0.41833</td>\n",
       "      <td>-0.460472</td>\n",
       "      <td>-0.745082</td>\n",
       "      <td>-0.234228</td>\n",
       "      <td>1.460593</td>\n",
       "      <td>-0.505166</td>\n",
       "      <td>-0.869015</td>\n",
       "      <td>1.437086</td>\n",
       "    </tr>\n",
       "  </tbody>\n",
       "</table>\n",
       "</div>"
      ],
      "text/plain": [
       "       area  bathrooms   stories   parking  bedrooms  mainroad_yes  \\\n",
       "0 -0.744761  -0.591806  0.256656  0.390637  4.161548       0.41833   \n",
       "1 -0.489091  -0.591806 -0.898297  1.562549  0.086699       0.41833   \n",
       "2 -1.182361  -0.591806 -0.898297 -0.781274  0.086699       0.41833   \n",
       "3  2.140274   5.321595  2.566563  2.734460  1.444982       0.41833   \n",
       "4  0.547046   1.379328  2.566563 -0.781274  1.444982       0.41833   \n",
       "\n",
       "   guestroom_yes  basement_yes  hotwaterheating_yes  airconditioning_yes  \\\n",
       "0      -0.460472     -0.745082            -0.234228            -0.684653   \n",
       "1       2.171685      1.342134            -0.234228            -0.684653   \n",
       "2      -0.460472      1.342134            -0.234228            -0.684653   \n",
       "3      -0.460472     -0.745082            -0.234228             1.460593   \n",
       "4      -0.460472     -0.745082            -0.234228             1.460593   \n",
       "\n",
       "   prefarea_yes  furnishingstatus_semi-furnished  furnishingstatus_unfurnished  \n",
       "0     -0.505166                        -0.869015                      1.437086  \n",
       "1     -0.505166                         1.150728                     -0.695852  \n",
       "2      1.979547                        -0.869015                     -0.695852  \n",
       "3     -0.505166                        -0.869015                     -0.695852  \n",
       "4     -0.505166                        -0.869015                      1.437086  "
      ]
     },
     "execution_count": 75,
     "metadata": {},
     "output_type": "execute_result"
    }
   ],
   "source": [
    "X_train_scaled.head()"
   ]
  },
  {
   "cell_type": "code",
   "execution_count": 76,
   "metadata": {},
   "outputs": [
    {
     "data": {
      "text/html": [
       "<div>\n",
       "<style scoped>\n",
       "    .dataframe tbody tr th:only-of-type {\n",
       "        vertical-align: middle;\n",
       "    }\n",
       "\n",
       "    .dataframe tbody tr th {\n",
       "        vertical-align: top;\n",
       "    }\n",
       "\n",
       "    .dataframe thead th {\n",
       "        text-align: right;\n",
       "    }\n",
       "</style>\n",
       "<table border=\"1\" class=\"dataframe\">\n",
       "  <thead>\n",
       "    <tr style=\"text-align: right;\">\n",
       "      <th></th>\n",
       "      <th>area</th>\n",
       "      <th>bathrooms</th>\n",
       "      <th>stories</th>\n",
       "      <th>parking</th>\n",
       "      <th>bedrooms</th>\n",
       "      <th>mainroad_yes</th>\n",
       "      <th>guestroom_yes</th>\n",
       "      <th>basement_yes</th>\n",
       "      <th>hotwaterheating_yes</th>\n",
       "      <th>airconditioning_yes</th>\n",
       "      <th>prefarea_yes</th>\n",
       "      <th>furnishingstatus_semi-furnished</th>\n",
       "      <th>furnishingstatus_unfurnished</th>\n",
       "    </tr>\n",
       "  </thead>\n",
       "  <tbody>\n",
       "    <tr>\n",
       "      <th>0</th>\n",
       "      <td>-1.005938</td>\n",
       "      <td>-0.505179</td>\n",
       "      <td>-1.048695</td>\n",
       "      <td>-0.843848</td>\n",
       "      <td>-0.064458</td>\n",
       "      <td>0.390095</td>\n",
       "      <td>-0.49705</td>\n",
       "      <td>-0.657596</td>\n",
       "      <td>-0.138675</td>\n",
       "      <td>-0.64291</td>\n",
       "      <td>-0.702109</td>\n",
       "      <td>-0.762948</td>\n",
       "      <td>1.365601</td>\n",
       "    </tr>\n",
       "    <tr>\n",
       "      <th>1</th>\n",
       "      <td>0.145062</td>\n",
       "      <td>-0.505179</td>\n",
       "      <td>1.267173</td>\n",
       "      <td>-0.843848</td>\n",
       "      <td>1.302061</td>\n",
       "      <td>0.390095</td>\n",
       "      <td>-0.49705</td>\n",
       "      <td>-0.657596</td>\n",
       "      <td>-0.138675</td>\n",
       "      <td>-0.64291</td>\n",
       "      <td>-0.702109</td>\n",
       "      <td>-0.762948</td>\n",
       "      <td>1.365601</td>\n",
       "    </tr>\n",
       "    <tr>\n",
       "      <th>2</th>\n",
       "      <td>0.510801</td>\n",
       "      <td>-0.505179</td>\n",
       "      <td>-1.048695</td>\n",
       "      <td>0.302920</td>\n",
       "      <td>-0.064458</td>\n",
       "      <td>0.390095</td>\n",
       "      <td>-0.49705</td>\n",
       "      <td>-0.657596</td>\n",
       "      <td>-0.138675</td>\n",
       "      <td>-0.64291</td>\n",
       "      <td>-0.702109</td>\n",
       "      <td>-0.762948</td>\n",
       "      <td>1.365601</td>\n",
       "    </tr>\n",
       "    <tr>\n",
       "      <th>3</th>\n",
       "      <td>0.252633</td>\n",
       "      <td>-0.505179</td>\n",
       "      <td>-1.048695</td>\n",
       "      <td>2.596454</td>\n",
       "      <td>-0.064458</td>\n",
       "      <td>0.390095</td>\n",
       "      <td>-0.49705</td>\n",
       "      <td>-0.657596</td>\n",
       "      <td>-0.138675</td>\n",
       "      <td>-0.64291</td>\n",
       "      <td>-0.702109</td>\n",
       "      <td>1.310705</td>\n",
       "      <td>-0.732279</td>\n",
       "    </tr>\n",
       "    <tr>\n",
       "      <th>4</th>\n",
       "      <td>0.033189</td>\n",
       "      <td>1.636781</td>\n",
       "      <td>0.109239</td>\n",
       "      <td>1.449687</td>\n",
       "      <td>-0.064458</td>\n",
       "      <td>0.390095</td>\n",
       "      <td>-0.49705</td>\n",
       "      <td>-0.657596</td>\n",
       "      <td>-0.138675</td>\n",
       "      <td>-0.64291</td>\n",
       "      <td>-0.702109</td>\n",
       "      <td>-0.762948</td>\n",
       "      <td>1.365601</td>\n",
       "    </tr>\n",
       "  </tbody>\n",
       "</table>\n",
       "</div>"
      ],
      "text/plain": [
       "       area  bathrooms   stories   parking  bedrooms  mainroad_yes  \\\n",
       "0 -1.005938  -0.505179 -1.048695 -0.843848 -0.064458      0.390095   \n",
       "1  0.145062  -0.505179  1.267173 -0.843848  1.302061      0.390095   \n",
       "2  0.510801  -0.505179 -1.048695  0.302920 -0.064458      0.390095   \n",
       "3  0.252633  -0.505179 -1.048695  2.596454 -0.064458      0.390095   \n",
       "4  0.033189   1.636781  0.109239  1.449687 -0.064458      0.390095   \n",
       "\n",
       "   guestroom_yes  basement_yes  hotwaterheating_yes  airconditioning_yes  \\\n",
       "0       -0.49705     -0.657596            -0.138675             -0.64291   \n",
       "1       -0.49705     -0.657596            -0.138675             -0.64291   \n",
       "2       -0.49705     -0.657596            -0.138675             -0.64291   \n",
       "3       -0.49705     -0.657596            -0.138675             -0.64291   \n",
       "4       -0.49705     -0.657596            -0.138675             -0.64291   \n",
       "\n",
       "   prefarea_yes  furnishingstatus_semi-furnished  furnishingstatus_unfurnished  \n",
       "0     -0.702109                        -0.762948                      1.365601  \n",
       "1     -0.702109                        -0.762948                      1.365601  \n",
       "2     -0.702109                        -0.762948                      1.365601  \n",
       "3     -0.702109                         1.310705                     -0.732279  \n",
       "4     -0.702109                        -0.762948                      1.365601  "
      ]
     },
     "execution_count": 76,
     "metadata": {},
     "output_type": "execute_result"
    }
   ],
   "source": [
    "X_test_scaled.head()"
   ]
  },
  {
   "cell_type": "code",
   "execution_count": null,
   "metadata": {},
   "outputs": [],
   "source": []
  },
  {
   "cell_type": "code",
   "execution_count": null,
   "metadata": {},
   "outputs": [],
   "source": []
  }
 ],
 "metadata": {
  "kernelspec": {
   "display_name": "Python 3",
   "language": "python",
   "name": "python3"
  },
  "language_info": {
   "codemirror_mode": {
    "name": "ipython",
    "version": 3
   },
   "file_extension": ".py",
   "mimetype": "text/x-python",
   "name": "python",
   "nbconvert_exporter": "python",
   "pygments_lexer": "ipython3",
   "version": "3.9.13"
  }
 },
 "nbformat": 4,
 "nbformat_minor": 4
}
