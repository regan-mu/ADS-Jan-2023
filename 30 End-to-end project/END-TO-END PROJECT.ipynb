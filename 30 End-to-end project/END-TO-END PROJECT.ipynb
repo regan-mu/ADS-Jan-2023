{
 "cells": [
  {
   "cell_type": "markdown",
   "metadata": {},
   "source": [
    "# Regression"
   ]
  },
  {
   "cell_type": "markdown",
   "metadata": {},
   "source": [
    "## End to End Machine Learning Project\n",
    "#### We are going to follow these steps to build an end to end house price prediction model.\n",
    "    - Data Discovery\n",
    "    - Exploratory Data Analysis (EDA)\n",
    "    - Data Pre-processing\n",
    "    - Feature Selection\n",
    "    - Modelling and Hyperparameter tuning.\n",
    "    - Conclusion\n",
    "\n",
    "- Here's the [**Data set:** ](https://www.kaggle.com/datasets/yasserh/housing-prices-dataset)"
   ]
  },
  {
   "cell_type": "code",
   "execution_count": 78,
   "metadata": {},
   "outputs": [],
   "source": [
    "import pandas as pd\n",
    "import numpy as np\n",
    "import seaborn as sns\n",
    "import matplotlib.pyplot as plt\n",
    "\n",
    "from sklearn.feature_selection import RFE\n",
    "from sklearn.preprocessing import StandardScaler, OneHotEncoder\n",
    "from sklearn.model_selection import train_test_split\n",
    "from sklearn.impute import SimpleImputer\n",
    "from statsmodels.stats.outliers_influence import variance_inflation_factor\n",
    "from sklearn.linear_model import LinearRegression,Ridge,Lasso\n",
    "from sklearn.metrics import r2_score, mean_absolute_error, mean_squared_error\n",
    "from sklearn.ensemble import RandomForestRegressor"
   ]
  },
  {
   "cell_type": "markdown",
   "metadata": {},
   "source": [
    "### 1. Data Discovery"
   ]
  },
  {
   "cell_type": "code",
   "execution_count": 2,
   "metadata": {},
   "outputs": [
    {
     "name": "stdout",
     "output_type": "stream",
     "text": [
      "\n",
      "\u001b[1mFindings:\u001b[0m The dataset consists of 545 rows and 13 columns\n"
     ]
    },
    {
     "data": {
      "text/html": [
       "<div>\n",
       "<style scoped>\n",
       "    .dataframe tbody tr th:only-of-type {\n",
       "        vertical-align: middle;\n",
       "    }\n",
       "\n",
       "    .dataframe tbody tr th {\n",
       "        vertical-align: top;\n",
       "    }\n",
       "\n",
       "    .dataframe thead th {\n",
       "        text-align: right;\n",
       "    }\n",
       "</style>\n",
       "<table border=\"1\" class=\"dataframe\">\n",
       "  <thead>\n",
       "    <tr style=\"text-align: right;\">\n",
       "      <th></th>\n",
       "      <th>price</th>\n",
       "      <th>area</th>\n",
       "      <th>bedrooms</th>\n",
       "      <th>bathrooms</th>\n",
       "      <th>stories</th>\n",
       "      <th>mainroad</th>\n",
       "      <th>guestroom</th>\n",
       "      <th>basement</th>\n",
       "      <th>hotwaterheating</th>\n",
       "      <th>airconditioning</th>\n",
       "      <th>parking</th>\n",
       "      <th>prefarea</th>\n",
       "      <th>furnishingstatus</th>\n",
       "    </tr>\n",
       "  </thead>\n",
       "  <tbody>\n",
       "    <tr>\n",
       "      <th>0</th>\n",
       "      <td>13300000</td>\n",
       "      <td>7420.0</td>\n",
       "      <td>4.0</td>\n",
       "      <td>2</td>\n",
       "      <td>3</td>\n",
       "      <td>yes</td>\n",
       "      <td>no</td>\n",
       "      <td>no</td>\n",
       "      <td>no</td>\n",
       "      <td>yes</td>\n",
       "      <td>2</td>\n",
       "      <td>yes</td>\n",
       "      <td>furnished</td>\n",
       "    </tr>\n",
       "    <tr>\n",
       "      <th>1</th>\n",
       "      <td>12250000</td>\n",
       "      <td>8960.0</td>\n",
       "      <td>4.0</td>\n",
       "      <td>4</td>\n",
       "      <td>4</td>\n",
       "      <td>yes</td>\n",
       "      <td>no</td>\n",
       "      <td>no</td>\n",
       "      <td>no</td>\n",
       "      <td>yes</td>\n",
       "      <td>3</td>\n",
       "      <td>no</td>\n",
       "      <td>furnished</td>\n",
       "    </tr>\n",
       "    <tr>\n",
       "      <th>2</th>\n",
       "      <td>12250000</td>\n",
       "      <td>9960.0</td>\n",
       "      <td>3.0</td>\n",
       "      <td>2</td>\n",
       "      <td>2</td>\n",
       "      <td>yes</td>\n",
       "      <td>no</td>\n",
       "      <td>yes</td>\n",
       "      <td>no</td>\n",
       "      <td>no</td>\n",
       "      <td>2</td>\n",
       "      <td>yes</td>\n",
       "      <td>semi-furnished</td>\n",
       "    </tr>\n",
       "    <tr>\n",
       "      <th>3</th>\n",
       "      <td>12215000</td>\n",
       "      <td>7500.0</td>\n",
       "      <td>4.0</td>\n",
       "      <td>2</td>\n",
       "      <td>2</td>\n",
       "      <td>yes</td>\n",
       "      <td>no</td>\n",
       "      <td>yes</td>\n",
       "      <td>no</td>\n",
       "      <td>yes</td>\n",
       "      <td>3</td>\n",
       "      <td>yes</td>\n",
       "      <td>furnished</td>\n",
       "    </tr>\n",
       "    <tr>\n",
       "      <th>4</th>\n",
       "      <td>11410000</td>\n",
       "      <td>7420.0</td>\n",
       "      <td>4.0</td>\n",
       "      <td>1</td>\n",
       "      <td>2</td>\n",
       "      <td>yes</td>\n",
       "      <td>yes</td>\n",
       "      <td>yes</td>\n",
       "      <td>no</td>\n",
       "      <td>yes</td>\n",
       "      <td>2</td>\n",
       "      <td>no</td>\n",
       "      <td>furnished</td>\n",
       "    </tr>\n",
       "  </tbody>\n",
       "</table>\n",
       "</div>"
      ],
      "text/plain": [
       "      price    area  bedrooms  bathrooms  stories mainroad guestroom basement  \\\n",
       "0  13300000  7420.0       4.0          2        3      yes        no       no   \n",
       "1  12250000  8960.0       4.0          4        4      yes        no       no   \n",
       "2  12250000  9960.0       3.0          2        2      yes        no      yes   \n",
       "3  12215000  7500.0       4.0          2        2      yes        no      yes   \n",
       "4  11410000  7420.0       4.0          1        2      yes       yes      yes   \n",
       "\n",
       "  hotwaterheating airconditioning  parking prefarea furnishingstatus  \n",
       "0              no             yes        2      yes        furnished  \n",
       "1              no             yes        3       no        furnished  \n",
       "2              no              no        2      yes   semi-furnished  \n",
       "3              no             yes        3      yes        furnished  \n",
       "4              no             yes        2       no        furnished  "
      ]
     },
     "execution_count": 2,
     "metadata": {},
     "output_type": "execute_result"
    }
   ],
   "source": [
    "# Load the dataset\n",
    "df = pd.read_csv(\"Housing.csv\")\n",
    "features = df.drop([\"price\"], axis=1)\n",
    "target = df.drop(features.columns, axis=1)\n",
    "\n",
    "print(f\"\\n\\033[1mFindings:\\033[0m The dataset consists of {df.shape[0]} rows and {df.shape[1]} columns\")\n",
    "df.head()"
   ]
  },
  {
   "cell_type": "code",
   "execution_count": 3,
   "metadata": {},
   "outputs": [
    {
     "name": "stdout",
     "output_type": "stream",
     "text": [
      "<class 'pandas.core.frame.DataFrame'>\n",
      "RangeIndex: 545 entries, 0 to 544\n",
      "Data columns (total 12 columns):\n",
      " #   Column            Non-Null Count  Dtype  \n",
      "---  ------            --------------  -----  \n",
      " 0   area              541 non-null    float64\n",
      " 1   bedrooms          542 non-null    float64\n",
      " 2   bathrooms         545 non-null    int64  \n",
      " 3   stories           545 non-null    int64  \n",
      " 4   mainroad          543 non-null    object \n",
      " 5   guestroom         545 non-null    object \n",
      " 6   basement          543 non-null    object \n",
      " 7   hotwaterheating   545 non-null    object \n",
      " 8   airconditioning   545 non-null    object \n",
      " 9   parking           545 non-null    int64  \n",
      " 10  prefarea          545 non-null    object \n",
      " 11  furnishingstatus  545 non-null    object \n",
      "dtypes: float64(2), int64(3), object(7)\n",
      "memory usage: 51.2+ KB\n"
     ]
    }
   ],
   "source": [
    "# Check data summary\n",
    "features.info()"
   ]
  },
  {
   "cell_type": "code",
   "execution_count": 4,
   "metadata": {},
   "outputs": [
    {
     "name": "stdout",
     "output_type": "stream",
     "text": [
      "\n",
      "\u001b[1mFindings:\u001b[0m There are 1 numerical variables and 11 categorical variables.\n"
     ]
    }
   ],
   "source": [
    "no_num_features = 0\n",
    "no_cat_features = 0\n",
    "num_features = []\n",
    "cat_features = []\n",
    "\n",
    "for col in features.columns:\n",
    "    if features[col].nunique() > 16:\n",
    "        no_num_features += 1\n",
    "        num_features.append(col)\n",
    "    elif features[col].nunique() <= 16:\n",
    "        no_cat_features += 1\n",
    "        cat_features.append(col)\n",
    "print(f\"\\n\\033[1mFindings:\\033[0m There are {no_num_features} numerical variables and {no_cat_features} categorical variables.\")"
   ]
  },
  {
   "cell_type": "code",
   "execution_count": null,
   "metadata": {},
   "outputs": [],
   "source": []
  },
  {
   "cell_type": "markdown",
   "metadata": {},
   "source": [
    "### 2. Exploratory Data Analysis"
   ]
  },
  {
   "cell_type": "code",
   "execution_count": 5,
   "metadata": {},
   "outputs": [
    {
     "data": {
      "image/png": "[encoded data removed]",
      "text/plain": [
       "<Figure size 1000x600 with 1 Axes>"
      ]
     },
     "metadata": {},
     "output_type": "display_data"
    }
   ],
   "source": [
    "# Let's look at the target variable first\n",
    "plt.rcParams['figure.figsize'] = [10,6]\n",
    "sns.kdeplot(x=target[\"price\"]/1000000, shade=True)\n",
    "plt.title(\"Housing price (in millions)\")\n",
    "plt.show()"
   ]
  },
  {
   "cell_type": "code",
   "execution_count": 6,
   "metadata": {},
   "outputs": [
    {
     "name": "stdout",
     "output_type": "stream",
     "text": [
      "\n",
      "\u001b[1mFindings:\u001b[0m The target variable is almost normally distributed.\n"
     ]
    }
   ],
   "source": [
    "print(f\"\\n\\033[1mFindings:\\033[0m The target variable is almost normally distributed.\")"
   ]
  },
  {
   "cell_type": "code",
   "execution_count": null,
   "metadata": {},
   "outputs": [],
   "source": []
  },
  {
   "cell_type": "code",
   "execution_count": 1,
   "metadata": {},
   "outputs": [
    {
     "ename": "NameError",
     "evalue": "name 'plt' is not defined",
     "output_type": "error",
     "traceback": [
      "\u001b[1;31m---------------------------------------------------------------------------\u001b[0m",
      "\u001b[1;31mNameError\u001b[0m                                 Traceback (most recent call last)",
      "\u001b[1;32m~\\AppData\\Local\\Temp\\ipykernel_108\\2703454940.py\u001b[0m in \u001b[0;36m<module>\u001b[1;34m\u001b[0m\n\u001b[0;32m      1\u001b[0m \u001b[1;31m# Visualizing categorical features\u001b[0m\u001b[1;33m\u001b[0m\u001b[1;33m\u001b[0m\u001b[0m\n\u001b[1;32m----> 2\u001b[1;33m \u001b[0mplt\u001b[0m\u001b[1;33m.\u001b[0m\u001b[0mfigure\u001b[0m\u001b[1;33m(\u001b[0m\u001b[0mfigsize\u001b[0m \u001b[1;33m=\u001b[0m \u001b[1;33m(\u001b[0m\u001b[1;36m16\u001b[0m\u001b[1;33m,\u001b[0m \u001b[1;36m20\u001b[0m\u001b[1;33m)\u001b[0m\u001b[1;33m)\u001b[0m\u001b[1;33m\u001b[0m\u001b[1;33m\u001b[0m\u001b[0m\n\u001b[0m\u001b[0;32m      3\u001b[0m \u001b[0mplotnumber\u001b[0m \u001b[1;33m=\u001b[0m \u001b[1;36m1\u001b[0m\u001b[1;33m\u001b[0m\u001b[1;33m\u001b[0m\u001b[0m\n\u001b[0;32m      4\u001b[0m \u001b[1;33m\u001b[0m\u001b[0m\n\u001b[0;32m      5\u001b[0m \u001b[1;32mfor\u001b[0m \u001b[0mi\u001b[0m \u001b[1;32min\u001b[0m \u001b[0mrange\u001b[0m\u001b[1;33m(\u001b[0m\u001b[1;36m1\u001b[0m\u001b[1;33m,\u001b[0m \u001b[0mlen\u001b[0m\u001b[1;33m(\u001b[0m\u001b[0mcat_features\u001b[0m\u001b[1;33m)\u001b[0m\u001b[1;33m)\u001b[0m\u001b[1;33m:\u001b[0m\u001b[1;33m\u001b[0m\u001b[1;33m\u001b[0m\u001b[0m\n",
      "\u001b[1;31mNameError\u001b[0m: name 'plt' is not defined"
     ]
    }
   ],
   "source": [
    "# Visualizing categorical features\n",
    "plt.figure(figsize = (16, 20))\n",
    "plotnumber = 1\n",
    "\n",
    "for i in range(1, len(cat_features)):\n",
    "    if plotnumber <= 10:\n",
    "        ax = plt.subplot(6, 2, plotnumber)\n",
    "        sns.countplot(x = cat_features[i], data = features, ax = ax)\n",
    "        plt.title(f\"\\n{cat_features[i]} \\n\", fontsize = 20)\n",
    "        \n",
    "    plotnumber += 1\n",
    "\n",
    "plt.tight_layout()\n",
    "plt.show()"
   ]
  },
  {
   "cell_type": "code",
   "execution_count": 8,
   "metadata": {},
   "outputs": [
    {
     "data": {
      "text/plain": [
       "['area']"
      ]
     },
     "execution_count": 8,
     "metadata": {},
     "output_type": "execute_result"
    }
   ],
   "source": [
    "num_features"
   ]
  },
  {
   "cell_type": "code",
   "execution_count": 9,
   "metadata": {},
   "outputs": [
    {
     "data": {
      "image/png": "[encoded data removed]",
      "text/plain": [
       "<Figure size 1000x600 with 1 Axes>"
      ]
     },
     "metadata": {},
     "output_type": "display_data"
    }
   ],
   "source": [
    "# Visualizing Numerical Variables\n",
    "sns.kdeplot(x=features[num_features[0]], shade=True)\n",
    "plt.show()"
   ]
  },
  {
   "cell_type": "code",
   "execution_count": 10,
   "metadata": {},
   "outputs": [
    {
     "data": {
      "image/png": "[encoded data removed]",
      "text/plain": [
       "<Figure size 1000x600 with 1 Axes>"
      ]
     },
     "metadata": {},
     "output_type": "display_data"
    }
   ],
   "source": [
    "sns.boxplot(x=features[num_features[0]])\n",
    "plt.show()"
   ]
  },
  {
   "cell_type": "markdown",
   "metadata": {},
   "source": [
    "**Findings** The area variable has outlier, we're going to deal with them later."
   ]
  },
  {
   "cell_type": "code",
   "execution_count": 11,
   "metadata": {},
   "outputs": [
    {
     "name": "stdout",
     "output_type": "stream",
     "text": [
      "The number of duplicates in our data is 0\n",
      "\n",
      "\u001b[1mFindings:\u001b[0m We do not have any duplicate values in our data\n"
     ]
    }
   ],
   "source": [
    "# Check with duplicates\n",
    "duplicates = df.duplicated().sum()\n",
    "print(f\"The number of duplicates in our data is {duplicates}\")\n",
    "print(f\"\\n\\033[1mFindings:\\033[0m We do not have any duplicate values in our data\")"
   ]
  },
  {
   "cell_type": "code",
   "execution_count": null,
   "metadata": {},
   "outputs": [],
   "source": []
  },
  {
   "cell_type": "code",
   "execution_count": 12,
   "metadata": {},
   "outputs": [
    {
     "name": "stdout",
     "output_type": "stream",
     "text": [
      "  column_name  missing_vals column_type\n",
      "0        area             4     Numeric\n",
      "1    bedrooms             3    Category\n",
      "2    mainroad             2    Category\n",
      "3    basement             2    Category\n",
      "\n",
      "\u001b[1mFindings:\u001b[0m We 4 columns with missing values in our data.\n",
      "One is numeric, rest are categorical.\n",
      "We'll take care of them in the preprocessing step.\n"
     ]
    }
   ],
   "source": [
    "# Check for missing values\n",
    "missing=df.isnull().sum().reset_index()\n",
    "missing.columns = [\"column_name\", \"missing_vals\"]\n",
    "missing[\"column_type\"] = missing[\"column_name\"].apply(lambda x: 'Category' if x in cat_features else \"Numeric\")\n",
    "missing_columns = missing[missing[\"missing_vals\"] > 0].reset_index(drop=True)\n",
    "print(missing_columns)\n",
    "print(f\"\\n\\033[1mFindings:\\033[0m We 4 columns with missing values in our data.\\\n",
    "\\nOne is numeric, rest are categorical.\\\n",
    "\\nWe'll take care of them in the preprocessing step.\")"
   ]
  },
  {
   "cell_type": "code",
   "execution_count": 13,
   "metadata": {},
   "outputs": [
    {
     "name": "stdout",
     "output_type": "stream",
     "text": [
      "price has 0 negative value\n",
      "area has 0 negative value\n",
      "bedrooms has 0 negative value\n",
      "bathrooms has 0 negative value\n",
      "stories has 0 negative value\n",
      "parking has 0 negative value\n"
     ]
    }
   ],
   "source": [
    "# Find variables with negative values\n",
    "for col in df.columns:\n",
    "    if df[col].dtype != \"object\":\n",
    "        total_neg = (df[col]<0)\n",
    "        print(f\"{col} has {total_neg.sum()} negative value\")"
   ]
  },
  {
   "cell_type": "markdown",
   "metadata": {},
   "source": [
    "### 3. Data Preprocessing"
   ]
  },
  {
   "cell_type": "code",
   "execution_count": null,
   "metadata": {},
   "outputs": [],
   "source": []
  },
  {
   "cell_type": "markdown",
   "metadata": {},
   "source": [
    "#### 1. Remove Outliers from the \"area\" variable\n",
    "* We will remove all data values that extend beyond 1.5 times the IQR from Q1 and Q3"
   ]
  },
  {
   "cell_type": "code",
   "execution_count": 14,
   "metadata": {},
   "outputs": [],
   "source": [
    "for ft in num_features:\n",
    "    q1 = df[ft].quantile(.25)\n",
    "    q3 = df[ft].quantile(.75)\n",
    "    iqr = q3-q1\n",
    "    factor = iqr*1.5\n",
    "    lower_limit = q1 - factor\n",
    "    upper_limit = q3 + factor\n",
    "    df = df[(df[ft] > lower_limit) & (df[ft] < upper_limit)]"
   ]
  },
  {
   "cell_type": "code",
   "execution_count": 15,
   "metadata": {},
   "outputs": [
    {
     "data": {
      "text/plain": [
       "(529, 13)"
      ]
     },
     "execution_count": 15,
     "metadata": {},
     "output_type": "execute_result"
    }
   ],
   "source": [
    "df.shape"
   ]
  },
  {
   "cell_type": "code",
   "execution_count": 16,
   "metadata": {},
   "outputs": [
    {
     "data": {
      "image/png": "[encoded data removed]",
      "text/plain": [
       "<Figure size 1000x600 with 1 Axes>"
      ]
     },
     "metadata": {},
     "output_type": "display_data"
    }
   ],
   "source": [
    "sns.boxplot(x=df[num_features[0]])\n",
    "plt.show()"
   ]
  },
  {
   "cell_type": "markdown",
   "metadata": {},
   "source": [
    "**Before removing outliers, we had 545 rows, now we are left with 529**\n",
    "* From the boxplot, the number of outliers has be significantly reduced compared to what we had before."
   ]
  },
  {
   "cell_type": "markdown",
   "metadata": {},
   "source": [
    "#### 2. Train Split\n",
    "* Let split our training data and our test before imputation of missing values to avoid train-test contamination."
   ]
  },
  {
   "cell_type": "code",
   "execution_count": 2,
   "metadata": {},
   "outputs": [
    {
     "ename": "NameError",
     "evalue": "name 'train_test_split' is not defined",
     "output_type": "error",
     "traceback": [
      "\u001b[1;31m---------------------------------------------------------------------------\u001b[0m",
      "\u001b[1;31mNameError\u001b[0m                                 Traceback (most recent call last)",
      "\u001b[1;32m~\\AppData\\Local\\Temp\\ipykernel_108\\1020948069.py\u001b[0m in \u001b[0;36m<module>\u001b[1;34m\u001b[0m\n\u001b[1;32m----> 1\u001b[1;33m \u001b[0mX_train\u001b[0m\u001b[1;33m,\u001b[0m \u001b[0mX_test\u001b[0m\u001b[1;33m,\u001b[0m \u001b[0my_train\u001b[0m\u001b[1;33m,\u001b[0m \u001b[0my_test\u001b[0m \u001b[1;33m=\u001b[0m \u001b[0mtrain_test_split\u001b[0m\u001b[1;33m(\u001b[0m\u001b[0mdf\u001b[0m\u001b[1;33m[\u001b[0m\u001b[0mfeatures\u001b[0m\u001b[1;33m.\u001b[0m\u001b[0mcolumns\u001b[0m\u001b[1;33m]\u001b[0m\u001b[1;33m,\u001b[0m \u001b[0mdf\u001b[0m\u001b[1;33m[\u001b[0m\u001b[0mtarget\u001b[0m\u001b[1;33m.\u001b[0m\u001b[0mcolumns\u001b[0m\u001b[1;33m]\u001b[0m\u001b[1;33m,\u001b[0m \u001b[0mtest_size\u001b[0m\u001b[1;33m=\u001b[0m\u001b[1;36m0.2\u001b[0m\u001b[1;33m,\u001b[0m \u001b[0mrandom_state\u001b[0m\u001b[1;33m=\u001b[0m\u001b[1;36m100\u001b[0m\u001b[1;33m)\u001b[0m\u001b[1;33m\u001b[0m\u001b[1;33m\u001b[0m\u001b[0m\n\u001b[0m",
      "\u001b[1;31mNameError\u001b[0m: name 'train_test_split' is not defined"
     ]
    }
   ],
   "source": [
    "X_train, X_test, y_train, y_test = train_test_split(df[features.columns], df[target.columns], test_size=0.2, random_state=100)"
   ]
  },
  {
   "cell_type": "code",
   "execution_count": 43,
   "metadata": {},
   "outputs": [
    {
     "name": "stdout",
     "output_type": "stream",
     "text": [
      "Train | X->(423, 12), y->(423, 1)\n",
      "Test | X->(106, 12), y->(106, 1)\n"
     ]
    }
   ],
   "source": [
    "y_train = y_train.reset_index(drop=True)\n",
    "y_test = y_test.reset_index(drop=True)\n",
    "print(f\"Train | X->{X_train.shape}, y->{y_train.shape}\")\n",
    "print(f\"Test | X->{X_test.shape}, y->{y_test.shape}\")"
   ]
  },
  {
   "cell_type": "markdown",
   "metadata": {},
   "source": [
    "#### 3. Impute Missing Values.\n",
    "* From our previous step, we know that we have 1 numerical(area) and 3 categorical(bedrooms, mainroad, basement) variables with missing values.\n",
    "* We need to encode them separately.\n",
    "* The numerical variable has some outliers and and the distribution is not normal, so a mean would not a good representation of the variable.\n",
    "* Therefore, we are going to use the median for imputation for the numeric variable.\n",
    "* For the 3 categorical variables, let's use the most frequent value for imputation."
   ]
  },
  {
   "cell_type": "code",
   "execution_count": 19,
   "metadata": {},
   "outputs": [],
   "source": [
    "num_imputer = SimpleImputer(strategy=\"median\")\n",
    "cat_imputer = SimpleImputer(strategy=\"most_frequent\")\n",
    "num_col_with_na = missing_columns[missing_columns[\"column_type\"] == \"Numeric\"].loc[0,\"column_name\"]\n",
    "cat_cols_with_na = missing_columns[missing_columns[\"column_type\"] == \"Category\"].loc[:,\"column_name\"].values"
   ]
  },
  {
   "cell_type": "code",
   "execution_count": 20,
   "metadata": {},
   "outputs": [
    {
     "data": {
      "text/plain": [
       "price               0\n",
       "area                0\n",
       "bedrooms            1\n",
       "bathrooms           0\n",
       "stories             0\n",
       "mainroad            2\n",
       "guestroom           0\n",
       "basement            1\n",
       "hotwaterheating     0\n",
       "airconditioning     0\n",
       "parking             0\n",
       "prefarea            0\n",
       "furnishingstatus    0\n",
       "dtype: int64"
      ]
     },
     "execution_count": 20,
     "metadata": {},
     "output_type": "execute_result"
    }
   ],
   "source": [
    "df.isnull().sum()"
   ]
  },
  {
   "cell_type": "code",
   "execution_count": 21,
   "metadata": {},
   "outputs": [],
   "source": [
    "# Numeric variable imputation\n",
    "def num_impute(data):\n",
    "    data = data.reset_index(drop=True)\n",
    "    num_missing = pd.DataFrame(data.loc[:,num_col_with_na], columns=[\"area\"])\n",
    "    num_imputed = num_imputer.fit_transform(num_missing)\n",
    "    data[\"area\"] = num_imputed\n",
    "    return data\n",
    "X_train = num_impute(X_train)\n",
    "X_test = num_impute(X_test)"
   ]
  },
  {
   "cell_type": "code",
   "execution_count": 22,
   "metadata": {},
   "outputs": [],
   "source": [
    "# Categorical Imputation\n",
    "def cat_impute(data):\n",
    "    data = data.reset_index(drop=True)\n",
    "    cat_missing = data[cat_cols_with_na]\n",
    "    cat_imputed = pd.DataFrame(cat_imputer.fit_transform(cat_missing))\n",
    "    cat_imputed.columns = cat_cols_with_na\n",
    "    data.drop(cat_cols_with_na, axis=1, inplace=True)\n",
    "    data[cat_cols_with_na] = cat_imputed\n",
    "    data[\"bedrooms\"] = pd.to_numeric(data[\"bedrooms\"])\n",
    "    return data\n",
    "X_train_imputed = cat_impute(X_train)\n",
    "X_test_imputed = cat_impute(X_test)"
   ]
  },
  {
   "cell_type": "code",
   "execution_count": 23,
   "metadata": {},
   "outputs": [
    {
     "data": {
      "text/plain": [
       "area                0\n",
       "bathrooms           0\n",
       "stories             0\n",
       "guestroom           0\n",
       "hotwaterheating     0\n",
       "airconditioning     0\n",
       "parking             0\n",
       "prefarea            0\n",
       "furnishingstatus    0\n",
       "bedrooms            0\n",
       "mainroad            0\n",
       "basement            0\n",
       "dtype: int64"
      ]
     },
     "execution_count": 23,
     "metadata": {},
     "output_type": "execute_result"
    }
   ],
   "source": [
    "X_train_imputed.isnull().sum()"
   ]
  },
  {
   "cell_type": "code",
   "execution_count": 24,
   "metadata": {},
   "outputs": [
    {
     "data": {
      "text/plain": [
       "area                0\n",
       "bathrooms           0\n",
       "stories             0\n",
       "guestroom           0\n",
       "hotwaterheating     0\n",
       "airconditioning     0\n",
       "parking             0\n",
       "prefarea            0\n",
       "furnishingstatus    0\n",
       "bedrooms            0\n",
       "mainroad            0\n",
       "basement            0\n",
       "dtype: int64"
      ]
     },
     "execution_count": 24,
     "metadata": {},
     "output_type": "execute_result"
    }
   ],
   "source": [
    "X_test_imputed.isnull().sum()"
   ]
  },
  {
   "cell_type": "code",
   "execution_count": 25,
   "metadata": {},
   "outputs": [
    {
     "data": {
      "text/html": [
       "<div>\n",
       "<style scoped>\n",
       "    .dataframe tbody tr th:only-of-type {\n",
       "        vertical-align: middle;\n",
       "    }\n",
       "\n",
       "    .dataframe tbody tr th {\n",
       "        vertical-align: top;\n",
       "    }\n",
       "\n",
       "    .dataframe thead th {\n",
       "        text-align: right;\n",
       "    }\n",
       "</style>\n",
       "<table border=\"1\" class=\"dataframe\">\n",
       "  <thead>\n",
       "    <tr style=\"text-align: right;\">\n",
       "      <th></th>\n",
       "      <th>area</th>\n",
       "      <th>bathrooms</th>\n",
       "      <th>stories</th>\n",
       "      <th>guestroom</th>\n",
       "      <th>hotwaterheating</th>\n",
       "      <th>airconditioning</th>\n",
       "      <th>parking</th>\n",
       "      <th>prefarea</th>\n",
       "      <th>furnishingstatus</th>\n",
       "      <th>bedrooms</th>\n",
       "      <th>mainroad</th>\n",
       "      <th>basement</th>\n",
       "    </tr>\n",
       "  </thead>\n",
       "  <tbody>\n",
       "    <tr>\n",
       "      <th>0</th>\n",
       "      <td>3060.0</td>\n",
       "      <td>1</td>\n",
       "      <td>1</td>\n",
       "      <td>no</td>\n",
       "      <td>no</td>\n",
       "      <td>no</td>\n",
       "      <td>0</td>\n",
       "      <td>no</td>\n",
       "      <td>unfurnished</td>\n",
       "      <td>3.0</td>\n",
       "      <td>yes</td>\n",
       "      <td>no</td>\n",
       "    </tr>\n",
       "    <tr>\n",
       "      <th>1</th>\n",
       "      <td>5200.0</td>\n",
       "      <td>1</td>\n",
       "      <td>3</td>\n",
       "      <td>no</td>\n",
       "      <td>no</td>\n",
       "      <td>no</td>\n",
       "      <td>0</td>\n",
       "      <td>no</td>\n",
       "      <td>unfurnished</td>\n",
       "      <td>4.0</td>\n",
       "      <td>yes</td>\n",
       "      <td>no</td>\n",
       "    </tr>\n",
       "    <tr>\n",
       "      <th>2</th>\n",
       "      <td>5880.0</td>\n",
       "      <td>1</td>\n",
       "      <td>1</td>\n",
       "      <td>no</td>\n",
       "      <td>no</td>\n",
       "      <td>no</td>\n",
       "      <td>1</td>\n",
       "      <td>no</td>\n",
       "      <td>unfurnished</td>\n",
       "      <td>3.0</td>\n",
       "      <td>yes</td>\n",
       "      <td>no</td>\n",
       "    </tr>\n",
       "    <tr>\n",
       "      <th>3</th>\n",
       "      <td>5400.0</td>\n",
       "      <td>1</td>\n",
       "      <td>1</td>\n",
       "      <td>no</td>\n",
       "      <td>no</td>\n",
       "      <td>no</td>\n",
       "      <td>3</td>\n",
       "      <td>no</td>\n",
       "      <td>semi-furnished</td>\n",
       "      <td>3.0</td>\n",
       "      <td>yes</td>\n",
       "      <td>no</td>\n",
       "    </tr>\n",
       "    <tr>\n",
       "      <th>4</th>\n",
       "      <td>4992.0</td>\n",
       "      <td>2</td>\n",
       "      <td>2</td>\n",
       "      <td>no</td>\n",
       "      <td>no</td>\n",
       "      <td>no</td>\n",
       "      <td>2</td>\n",
       "      <td>no</td>\n",
       "      <td>unfurnished</td>\n",
       "      <td>3.0</td>\n",
       "      <td>yes</td>\n",
       "      <td>no</td>\n",
       "    </tr>\n",
       "  </tbody>\n",
       "</table>\n",
       "</div>"
      ],
      "text/plain": [
       "     area  bathrooms  stories guestroom hotwaterheating airconditioning  \\\n",
       "0  3060.0          1        1        no              no              no   \n",
       "1  5200.0          1        3        no              no              no   \n",
       "2  5880.0          1        1        no              no              no   \n",
       "3  5400.0          1        1        no              no              no   \n",
       "4  4992.0          2        2        no              no              no   \n",
       "\n",
       "   parking prefarea furnishingstatus  bedrooms mainroad basement  \n",
       "0        0       no      unfurnished       3.0      yes       no  \n",
       "1        0       no      unfurnished       4.0      yes       no  \n",
       "2        1       no      unfurnished       3.0      yes       no  \n",
       "3        3       no   semi-furnished       3.0      yes       no  \n",
       "4        2       no      unfurnished       3.0      yes       no  "
      ]
     },
     "execution_count": 25,
     "metadata": {},
     "output_type": "execute_result"
    }
   ],
   "source": [
    "X_test_imputed.head()"
   ]
  },
  {
   "cell_type": "code",
   "execution_count": 26,
   "metadata": {},
   "outputs": [
    {
     "data": {
      "text/html": [
       "<div>\n",
       "<style scoped>\n",
       "    .dataframe tbody tr th:only-of-type {\n",
       "        vertical-align: middle;\n",
       "    }\n",
       "\n",
       "    .dataframe tbody tr th {\n",
       "        vertical-align: top;\n",
       "    }\n",
       "\n",
       "    .dataframe thead th {\n",
       "        text-align: right;\n",
       "    }\n",
       "</style>\n",
       "<table border=\"1\" class=\"dataframe\">\n",
       "  <thead>\n",
       "    <tr style=\"text-align: right;\">\n",
       "      <th></th>\n",
       "      <th>area</th>\n",
       "      <th>bathrooms</th>\n",
       "      <th>stories</th>\n",
       "      <th>guestroom</th>\n",
       "      <th>hotwaterheating</th>\n",
       "      <th>airconditioning</th>\n",
       "      <th>parking</th>\n",
       "      <th>prefarea</th>\n",
       "      <th>furnishingstatus</th>\n",
       "      <th>bedrooms</th>\n",
       "      <th>mainroad</th>\n",
       "      <th>basement</th>\n",
       "    </tr>\n",
       "  </thead>\n",
       "  <tbody>\n",
       "    <tr>\n",
       "      <th>0</th>\n",
       "      <td>3600.0</td>\n",
       "      <td>1</td>\n",
       "      <td>2</td>\n",
       "      <td>no</td>\n",
       "      <td>no</td>\n",
       "      <td>no</td>\n",
       "      <td>1</td>\n",
       "      <td>no</td>\n",
       "      <td>unfurnished</td>\n",
       "      <td>6.0</td>\n",
       "      <td>yes</td>\n",
       "      <td>no</td>\n",
       "    </tr>\n",
       "    <tr>\n",
       "      <th>1</th>\n",
       "      <td>4075.0</td>\n",
       "      <td>1</td>\n",
       "      <td>1</td>\n",
       "      <td>yes</td>\n",
       "      <td>no</td>\n",
       "      <td>no</td>\n",
       "      <td>2</td>\n",
       "      <td>no</td>\n",
       "      <td>semi-furnished</td>\n",
       "      <td>3.0</td>\n",
       "      <td>yes</td>\n",
       "      <td>yes</td>\n",
       "    </tr>\n",
       "    <tr>\n",
       "      <th>2</th>\n",
       "      <td>2787.0</td>\n",
       "      <td>1</td>\n",
       "      <td>1</td>\n",
       "      <td>no</td>\n",
       "      <td>no</td>\n",
       "      <td>no</td>\n",
       "      <td>0</td>\n",
       "      <td>yes</td>\n",
       "      <td>furnished</td>\n",
       "      <td>3.0</td>\n",
       "      <td>yes</td>\n",
       "      <td>yes</td>\n",
       "    </tr>\n",
       "    <tr>\n",
       "      <th>3</th>\n",
       "      <td>8960.0</td>\n",
       "      <td>4</td>\n",
       "      <td>4</td>\n",
       "      <td>no</td>\n",
       "      <td>no</td>\n",
       "      <td>yes</td>\n",
       "      <td>3</td>\n",
       "      <td>no</td>\n",
       "      <td>furnished</td>\n",
       "      <td>4.0</td>\n",
       "      <td>yes</td>\n",
       "      <td>no</td>\n",
       "    </tr>\n",
       "    <tr>\n",
       "      <th>4</th>\n",
       "      <td>6000.0</td>\n",
       "      <td>2</td>\n",
       "      <td>4</td>\n",
       "      <td>no</td>\n",
       "      <td>no</td>\n",
       "      <td>yes</td>\n",
       "      <td>0</td>\n",
       "      <td>no</td>\n",
       "      <td>unfurnished</td>\n",
       "      <td>4.0</td>\n",
       "      <td>yes</td>\n",
       "      <td>no</td>\n",
       "    </tr>\n",
       "  </tbody>\n",
       "</table>\n",
       "</div>"
      ],
      "text/plain": [
       "     area  bathrooms  stories guestroom hotwaterheating airconditioning  \\\n",
       "0  3600.0          1        2        no              no              no   \n",
       "1  4075.0          1        1       yes              no              no   \n",
       "2  2787.0          1        1        no              no              no   \n",
       "3  8960.0          4        4        no              no             yes   \n",
       "4  6000.0          2        4        no              no             yes   \n",
       "\n",
       "   parking prefarea furnishingstatus  bedrooms mainroad basement  \n",
       "0        1       no      unfurnished       6.0      yes       no  \n",
       "1        2       no   semi-furnished       3.0      yes      yes  \n",
       "2        0      yes        furnished       3.0      yes      yes  \n",
       "3        3       no        furnished       4.0      yes       no  \n",
       "4        0       no      unfurnished       4.0      yes       no  "
      ]
     },
     "execution_count": 26,
     "metadata": {},
     "output_type": "execute_result"
    }
   ],
   "source": [
    "X_train_imputed.head()"
   ]
  },
  {
   "cell_type": "markdown",
   "metadata": {},
   "source": [
    "**As you can see, we don't have missing values any more**\n",
    "* Now let move to encoding categorical variables."
   ]
  },
  {
   "cell_type": "markdown",
   "metadata": {},
   "source": [
    "#### 4. Categorical Encoding\n",
    "* For categorical encoding, we are going to use the onehot encoder since the number of classes in all categorical variables are relatively few.\n",
    "* However, some categories are already encoded like bedroom, bathroom, stories and parking. Were are not going to encode them since they are all ordinal variables, retaining the natural hierarchy is important."
   ]
  },
  {
   "cell_type": "code",
   "execution_count": 27,
   "metadata": {},
   "outputs": [],
   "source": [
    "pre_encoded_cats = [col for col in df.columns if df[col].dtype == \"object\"]\n",
    "ohe=OneHotEncoder(drop='first',sparse=False)"
   ]
  },
  {
   "cell_type": "code",
   "execution_count": 28,
   "metadata": {},
   "outputs": [],
   "source": [
    "def cat_encoding(data):\n",
    "    cat_to_encode = data[pre_encoded_cats]\n",
    "    encoded = ohe.fit_transform(cat_to_encode)\n",
    "    encoded_df = pd.DataFrame(index=data.index, data=encoded, columns=ohe.get_feature_names_out(pre_encoded_cats))\n",
    "    data.drop(pre_encoded_cats, axis=1, inplace=True)\n",
    "    data = pd.concat([data, encoded_df], axis=1)\n",
    "    return data"
   ]
  },
  {
   "cell_type": "code",
   "execution_count": 29,
   "metadata": {},
   "outputs": [],
   "source": [
    "X_train_encoded = cat_encoding(X_train_imputed)\n",
    "X_test_encoded = cat_encoding(X_test_imputed)"
   ]
  },
  {
   "cell_type": "code",
   "execution_count": 30,
   "metadata": {},
   "outputs": [
    {
     "data": {
      "text/html": [
       "<div>\n",
       "<style scoped>\n",
       "    .dataframe tbody tr th:only-of-type {\n",
       "        vertical-align: middle;\n",
       "    }\n",
       "\n",
       "    .dataframe tbody tr th {\n",
       "        vertical-align: top;\n",
       "    }\n",
       "\n",
       "    .dataframe thead th {\n",
       "        text-align: right;\n",
       "    }\n",
       "</style>\n",
       "<table border=\"1\" class=\"dataframe\">\n",
       "  <thead>\n",
       "    <tr style=\"text-align: right;\">\n",
       "      <th></th>\n",
       "      <th>area</th>\n",
       "      <th>bathrooms</th>\n",
       "      <th>stories</th>\n",
       "      <th>parking</th>\n",
       "      <th>bedrooms</th>\n",
       "      <th>mainroad_yes</th>\n",
       "      <th>guestroom_yes</th>\n",
       "      <th>basement_yes</th>\n",
       "      <th>hotwaterheating_yes</th>\n",
       "      <th>airconditioning_yes</th>\n",
       "      <th>prefarea_yes</th>\n",
       "      <th>furnishingstatus_semi-furnished</th>\n",
       "      <th>furnishingstatus_unfurnished</th>\n",
       "    </tr>\n",
       "  </thead>\n",
       "  <tbody>\n",
       "    <tr>\n",
       "      <th>0</th>\n",
       "      <td>3600.0</td>\n",
       "      <td>1</td>\n",
       "      <td>2</td>\n",
       "      <td>1</td>\n",
       "      <td>6.0</td>\n",
       "      <td>1.0</td>\n",
       "      <td>0.0</td>\n",
       "      <td>0.0</td>\n",
       "      <td>0.0</td>\n",
       "      <td>0.0</td>\n",
       "      <td>0.0</td>\n",
       "      <td>0.0</td>\n",
       "      <td>1.0</td>\n",
       "    </tr>\n",
       "    <tr>\n",
       "      <th>1</th>\n",
       "      <td>4075.0</td>\n",
       "      <td>1</td>\n",
       "      <td>1</td>\n",
       "      <td>2</td>\n",
       "      <td>3.0</td>\n",
       "      <td>1.0</td>\n",
       "      <td>1.0</td>\n",
       "      <td>1.0</td>\n",
       "      <td>0.0</td>\n",
       "      <td>0.0</td>\n",
       "      <td>0.0</td>\n",
       "      <td>1.0</td>\n",
       "      <td>0.0</td>\n",
       "    </tr>\n",
       "    <tr>\n",
       "      <th>2</th>\n",
       "      <td>2787.0</td>\n",
       "      <td>1</td>\n",
       "      <td>1</td>\n",
       "      <td>0</td>\n",
       "      <td>3.0</td>\n",
       "      <td>1.0</td>\n",
       "      <td>0.0</td>\n",
       "      <td>1.0</td>\n",
       "      <td>0.0</td>\n",
       "      <td>0.0</td>\n",
       "      <td>1.0</td>\n",
       "      <td>0.0</td>\n",
       "      <td>0.0</td>\n",
       "    </tr>\n",
       "    <tr>\n",
       "      <th>3</th>\n",
       "      <td>8960.0</td>\n",
       "      <td>4</td>\n",
       "      <td>4</td>\n",
       "      <td>3</td>\n",
       "      <td>4.0</td>\n",
       "      <td>1.0</td>\n",
       "      <td>0.0</td>\n",
       "      <td>0.0</td>\n",
       "      <td>0.0</td>\n",
       "      <td>1.0</td>\n",
       "      <td>0.0</td>\n",
       "      <td>0.0</td>\n",
       "      <td>0.0</td>\n",
       "    </tr>\n",
       "    <tr>\n",
       "      <th>4</th>\n",
       "      <td>6000.0</td>\n",
       "      <td>2</td>\n",
       "      <td>4</td>\n",
       "      <td>0</td>\n",
       "      <td>4.0</td>\n",
       "      <td>1.0</td>\n",
       "      <td>0.0</td>\n",
       "      <td>0.0</td>\n",
       "      <td>0.0</td>\n",
       "      <td>1.0</td>\n",
       "      <td>0.0</td>\n",
       "      <td>0.0</td>\n",
       "      <td>1.0</td>\n",
       "    </tr>\n",
       "  </tbody>\n",
       "</table>\n",
       "</div>"
      ],
      "text/plain": [
       "     area  bathrooms  stories  parking  bedrooms  mainroad_yes  guestroom_yes  \\\n",
       "0  3600.0          1        2        1       6.0           1.0            0.0   \n",
       "1  4075.0          1        1        2       3.0           1.0            1.0   \n",
       "2  2787.0          1        1        0       3.0           1.0            0.0   \n",
       "3  8960.0          4        4        3       4.0           1.0            0.0   \n",
       "4  6000.0          2        4        0       4.0           1.0            0.0   \n",
       "\n",
       "   basement_yes  hotwaterheating_yes  airconditioning_yes  prefarea_yes  \\\n",
       "0           0.0                  0.0                  0.0           0.0   \n",
       "1           1.0                  0.0                  0.0           0.0   \n",
       "2           1.0                  0.0                  0.0           1.0   \n",
       "3           0.0                  0.0                  1.0           0.0   \n",
       "4           0.0                  0.0                  1.0           0.0   \n",
       "\n",
       "   furnishingstatus_semi-furnished  furnishingstatus_unfurnished  \n",
       "0                              0.0                           1.0  \n",
       "1                              1.0                           0.0  \n",
       "2                              0.0                           0.0  \n",
       "3                              0.0                           0.0  \n",
       "4                              0.0                           1.0  "
      ]
     },
     "execution_count": 30,
     "metadata": {},
     "output_type": "execute_result"
    }
   ],
   "source": [
    "X_train_encoded.head()"
   ]
  },
  {
   "cell_type": "code",
   "execution_count": 31,
   "metadata": {},
   "outputs": [
    {
     "data": {
      "text/html": [
       "<div>\n",
       "<style scoped>\n",
       "    .dataframe tbody tr th:only-of-type {\n",
       "        vertical-align: middle;\n",
       "    }\n",
       "\n",
       "    .dataframe tbody tr th {\n",
       "        vertical-align: top;\n",
       "    }\n",
       "\n",
       "    .dataframe thead th {\n",
       "        text-align: right;\n",
       "    }\n",
       "</style>\n",
       "<table border=\"1\" class=\"dataframe\">\n",
       "  <thead>\n",
       "    <tr style=\"text-align: right;\">\n",
       "      <th></th>\n",
       "      <th>area</th>\n",
       "      <th>bathrooms</th>\n",
       "      <th>stories</th>\n",
       "      <th>parking</th>\n",
       "      <th>bedrooms</th>\n",
       "      <th>mainroad_yes</th>\n",
       "      <th>guestroom_yes</th>\n",
       "      <th>basement_yes</th>\n",
       "      <th>hotwaterheating_yes</th>\n",
       "      <th>airconditioning_yes</th>\n",
       "      <th>prefarea_yes</th>\n",
       "      <th>furnishingstatus_semi-furnished</th>\n",
       "      <th>furnishingstatus_unfurnished</th>\n",
       "    </tr>\n",
       "  </thead>\n",
       "  <tbody>\n",
       "    <tr>\n",
       "      <th>0</th>\n",
       "      <td>3060.0</td>\n",
       "      <td>1</td>\n",
       "      <td>1</td>\n",
       "      <td>0</td>\n",
       "      <td>3.0</td>\n",
       "      <td>1.0</td>\n",
       "      <td>0.0</td>\n",
       "      <td>0.0</td>\n",
       "      <td>0.0</td>\n",
       "      <td>0.0</td>\n",
       "      <td>0.0</td>\n",
       "      <td>0.0</td>\n",
       "      <td>1.0</td>\n",
       "    </tr>\n",
       "    <tr>\n",
       "      <th>1</th>\n",
       "      <td>5200.0</td>\n",
       "      <td>1</td>\n",
       "      <td>3</td>\n",
       "      <td>0</td>\n",
       "      <td>4.0</td>\n",
       "      <td>1.0</td>\n",
       "      <td>0.0</td>\n",
       "      <td>0.0</td>\n",
       "      <td>0.0</td>\n",
       "      <td>0.0</td>\n",
       "      <td>0.0</td>\n",
       "      <td>0.0</td>\n",
       "      <td>1.0</td>\n",
       "    </tr>\n",
       "    <tr>\n",
       "      <th>2</th>\n",
       "      <td>5880.0</td>\n",
       "      <td>1</td>\n",
       "      <td>1</td>\n",
       "      <td>1</td>\n",
       "      <td>3.0</td>\n",
       "      <td>1.0</td>\n",
       "      <td>0.0</td>\n",
       "      <td>0.0</td>\n",
       "      <td>0.0</td>\n",
       "      <td>0.0</td>\n",
       "      <td>0.0</td>\n",
       "      <td>0.0</td>\n",
       "      <td>1.0</td>\n",
       "    </tr>\n",
       "    <tr>\n",
       "      <th>3</th>\n",
       "      <td>5400.0</td>\n",
       "      <td>1</td>\n",
       "      <td>1</td>\n",
       "      <td>3</td>\n",
       "      <td>3.0</td>\n",
       "      <td>1.0</td>\n",
       "      <td>0.0</td>\n",
       "      <td>0.0</td>\n",
       "      <td>0.0</td>\n",
       "      <td>0.0</td>\n",
       "      <td>0.0</td>\n",
       "      <td>1.0</td>\n",
       "      <td>0.0</td>\n",
       "    </tr>\n",
       "    <tr>\n",
       "      <th>4</th>\n",
       "      <td>4992.0</td>\n",
       "      <td>2</td>\n",
       "      <td>2</td>\n",
       "      <td>2</td>\n",
       "      <td>3.0</td>\n",
       "      <td>1.0</td>\n",
       "      <td>0.0</td>\n",
       "      <td>0.0</td>\n",
       "      <td>0.0</td>\n",
       "      <td>0.0</td>\n",
       "      <td>0.0</td>\n",
       "      <td>0.0</td>\n",
       "      <td>1.0</td>\n",
       "    </tr>\n",
       "  </tbody>\n",
       "</table>\n",
       "</div>"
      ],
      "text/plain": [
       "     area  bathrooms  stories  parking  bedrooms  mainroad_yes  guestroom_yes  \\\n",
       "0  3060.0          1        1        0       3.0           1.0            0.0   \n",
       "1  5200.0          1        3        0       4.0           1.0            0.0   \n",
       "2  5880.0          1        1        1       3.0           1.0            0.0   \n",
       "3  5400.0          1        1        3       3.0           1.0            0.0   \n",
       "4  4992.0          2        2        2       3.0           1.0            0.0   \n",
       "\n",
       "   basement_yes  hotwaterheating_yes  airconditioning_yes  prefarea_yes  \\\n",
       "0           0.0                  0.0                  0.0           0.0   \n",
       "1           0.0                  0.0                  0.0           0.0   \n",
       "2           0.0                  0.0                  0.0           0.0   \n",
       "3           0.0                  0.0                  0.0           0.0   \n",
       "4           0.0                  0.0                  0.0           0.0   \n",
       "\n",
       "   furnishingstatus_semi-furnished  furnishingstatus_unfurnished  \n",
       "0                              0.0                           1.0  \n",
       "1                              0.0                           1.0  \n",
       "2                              0.0                           1.0  \n",
       "3                              1.0                           0.0  \n",
       "4                              0.0                           1.0  "
      ]
     },
     "execution_count": 31,
     "metadata": {},
     "output_type": "execute_result"
    }
   ],
   "source": [
    "X_test_encoded.head()"
   ]
  },
  {
   "cell_type": "markdown",
   "metadata": {},
   "source": []
  },
  {
   "cell_type": "markdown",
   "metadata": {},
   "source": [
    "#### 5. Scaling\n",
    "* Let's scale all our variables to a common scale to prevent the variables with bigger scale e.g area from dominating over those with smaller scales."
   ]
  },
  {
   "cell_type": "code",
   "execution_count": 32,
   "metadata": {},
   "outputs": [],
   "source": [
    "scaler = StandardScaler()"
   ]
  },
  {
   "cell_type": "code",
   "execution_count": 33,
   "metadata": {},
   "outputs": [],
   "source": [
    "def scale_data(data):\n",
    "    scaled = scaler.fit_transform(data)\n",
    "    scaled = pd.DataFrame(scaled)\n",
    "    scaled.columns = data.columns\n",
    "    return scaled\n",
    "X_train_scaled = scale_data(X_train_encoded)\n",
    "X_test_scaled = scale_data(X_test_encoded)"
   ]
  },
  {
   "cell_type": "code",
   "execution_count": 34,
   "metadata": {},
   "outputs": [
    {
     "data": {
      "text/html": [
       "<div>\n",
       "<style scoped>\n",
       "    .dataframe tbody tr th:only-of-type {\n",
       "        vertical-align: middle;\n",
       "    }\n",
       "\n",
       "    .dataframe tbody tr th {\n",
       "        vertical-align: top;\n",
       "    }\n",
       "\n",
       "    .dataframe thead th {\n",
       "        text-align: right;\n",
       "    }\n",
       "</style>\n",
       "<table border=\"1\" class=\"dataframe\">\n",
       "  <thead>\n",
       "    <tr style=\"text-align: right;\">\n",
       "      <th></th>\n",
       "      <th>area</th>\n",
       "      <th>bathrooms</th>\n",
       "      <th>stories</th>\n",
       "      <th>parking</th>\n",
       "      <th>bedrooms</th>\n",
       "      <th>mainroad_yes</th>\n",
       "      <th>guestroom_yes</th>\n",
       "      <th>basement_yes</th>\n",
       "      <th>hotwaterheating_yes</th>\n",
       "      <th>airconditioning_yes</th>\n",
       "      <th>prefarea_yes</th>\n",
       "      <th>furnishingstatus_semi-furnished</th>\n",
       "      <th>furnishingstatus_unfurnished</th>\n",
       "    </tr>\n",
       "  </thead>\n",
       "  <tbody>\n",
       "    <tr>\n",
       "      <th>0</th>\n",
       "      <td>-0.744761</td>\n",
       "      <td>-0.591806</td>\n",
       "      <td>0.256656</td>\n",
       "      <td>0.390637</td>\n",
       "      <td>4.161548</td>\n",
       "      <td>0.41833</td>\n",
       "      <td>-0.460472</td>\n",
       "      <td>-0.745082</td>\n",
       "      <td>-0.234228</td>\n",
       "      <td>-0.684653</td>\n",
       "      <td>-0.505166</td>\n",
       "      <td>-0.869015</td>\n",
       "      <td>1.437086</td>\n",
       "    </tr>\n",
       "    <tr>\n",
       "      <th>1</th>\n",
       "      <td>-0.489091</td>\n",
       "      <td>-0.591806</td>\n",
       "      <td>-0.898297</td>\n",
       "      <td>1.562549</td>\n",
       "      <td>0.086699</td>\n",
       "      <td>0.41833</td>\n",
       "      <td>2.171685</td>\n",
       "      <td>1.342134</td>\n",
       "      <td>-0.234228</td>\n",
       "      <td>-0.684653</td>\n",
       "      <td>-0.505166</td>\n",
       "      <td>1.150728</td>\n",
       "      <td>-0.695852</td>\n",
       "    </tr>\n",
       "    <tr>\n",
       "      <th>2</th>\n",
       "      <td>-1.182361</td>\n",
       "      <td>-0.591806</td>\n",
       "      <td>-0.898297</td>\n",
       "      <td>-0.781274</td>\n",
       "      <td>0.086699</td>\n",
       "      <td>0.41833</td>\n",
       "      <td>-0.460472</td>\n",
       "      <td>1.342134</td>\n",
       "      <td>-0.234228</td>\n",
       "      <td>-0.684653</td>\n",
       "      <td>1.979547</td>\n",
       "      <td>-0.869015</td>\n",
       "      <td>-0.695852</td>\n",
       "    </tr>\n",
       "    <tr>\n",
       "      <th>3</th>\n",
       "      <td>2.140274</td>\n",
       "      <td>5.321595</td>\n",
       "      <td>2.566563</td>\n",
       "      <td>2.734460</td>\n",
       "      <td>1.444982</td>\n",
       "      <td>0.41833</td>\n",
       "      <td>-0.460472</td>\n",
       "      <td>-0.745082</td>\n",
       "      <td>-0.234228</td>\n",
       "      <td>1.460593</td>\n",
       "      <td>-0.505166</td>\n",
       "      <td>-0.869015</td>\n",
       "      <td>-0.695852</td>\n",
       "    </tr>\n",
       "    <tr>\n",
       "      <th>4</th>\n",
       "      <td>0.547046</td>\n",
       "      <td>1.379328</td>\n",
       "      <td>2.566563</td>\n",
       "      <td>-0.781274</td>\n",
       "      <td>1.444982</td>\n",
       "      <td>0.41833</td>\n",
       "      <td>-0.460472</td>\n",
       "      <td>-0.745082</td>\n",
       "      <td>-0.234228</td>\n",
       "      <td>1.460593</td>\n",
       "      <td>-0.505166</td>\n",
       "      <td>-0.869015</td>\n",
       "      <td>1.437086</td>\n",
       "    </tr>\n",
       "  </tbody>\n",
       "</table>\n",
       "</div>"
      ],
      "text/plain": [
       "       area  bathrooms   stories   parking  bedrooms  mainroad_yes  \\\n",
       "0 -0.744761  -0.591806  0.256656  0.390637  4.161548       0.41833   \n",
       "1 -0.489091  -0.591806 -0.898297  1.562549  0.086699       0.41833   \n",
       "2 -1.182361  -0.591806 -0.898297 -0.781274  0.086699       0.41833   \n",
       "3  2.140274   5.321595  2.566563  2.734460  1.444982       0.41833   \n",
       "4  0.547046   1.379328  2.566563 -0.781274  1.444982       0.41833   \n",
       "\n",
       "   guestroom_yes  basement_yes  hotwaterheating_yes  airconditioning_yes  \\\n",
       "0      -0.460472     -0.745082            -0.234228            -0.684653   \n",
       "1       2.171685      1.342134            -0.234228            -0.684653   \n",
       "2      -0.460472      1.342134            -0.234228            -0.684653   \n",
       "3      -0.460472     -0.745082            -0.234228             1.460593   \n",
       "4      -0.460472     -0.745082            -0.234228             1.460593   \n",
       "\n",
       "   prefarea_yes  furnishingstatus_semi-furnished  furnishingstatus_unfurnished  \n",
       "0     -0.505166                        -0.869015                      1.437086  \n",
       "1     -0.505166                         1.150728                     -0.695852  \n",
       "2      1.979547                        -0.869015                     -0.695852  \n",
       "3     -0.505166                        -0.869015                     -0.695852  \n",
       "4     -0.505166                        -0.869015                      1.437086  "
      ]
     },
     "execution_count": 34,
     "metadata": {},
     "output_type": "execute_result"
    }
   ],
   "source": [
    "X_train_scaled.head()"
   ]
  },
  {
   "cell_type": "code",
   "execution_count": 35,
   "metadata": {},
   "outputs": [
    {
     "data": {
      "text/html": [
       "<div>\n",
       "<style scoped>\n",
       "    .dataframe tbody tr th:only-of-type {\n",
       "        vertical-align: middle;\n",
       "    }\n",
       "\n",
       "    .dataframe tbody tr th {\n",
       "        vertical-align: top;\n",
       "    }\n",
       "\n",
       "    .dataframe thead th {\n",
       "        text-align: right;\n",
       "    }\n",
       "</style>\n",
       "<table border=\"1\" class=\"dataframe\">\n",
       "  <thead>\n",
       "    <tr style=\"text-align: right;\">\n",
       "      <th></th>\n",
       "      <th>area</th>\n",
       "      <th>bathrooms</th>\n",
       "      <th>stories</th>\n",
       "      <th>parking</th>\n",
       "      <th>bedrooms</th>\n",
       "      <th>mainroad_yes</th>\n",
       "      <th>guestroom_yes</th>\n",
       "      <th>basement_yes</th>\n",
       "      <th>hotwaterheating_yes</th>\n",
       "      <th>airconditioning_yes</th>\n",
       "      <th>prefarea_yes</th>\n",
       "      <th>furnishingstatus_semi-furnished</th>\n",
       "      <th>furnishingstatus_unfurnished</th>\n",
       "    </tr>\n",
       "  </thead>\n",
       "  <tbody>\n",
       "    <tr>\n",
       "      <th>0</th>\n",
       "      <td>-1.005938</td>\n",
       "      <td>-0.505179</td>\n",
       "      <td>-1.048695</td>\n",
       "      <td>-0.843848</td>\n",
       "      <td>-0.064458</td>\n",
       "      <td>0.390095</td>\n",
       "      <td>-0.49705</td>\n",
       "      <td>-0.657596</td>\n",
       "      <td>-0.138675</td>\n",
       "      <td>-0.64291</td>\n",
       "      <td>-0.702109</td>\n",
       "      <td>-0.762948</td>\n",
       "      <td>1.365601</td>\n",
       "    </tr>\n",
       "    <tr>\n",
       "      <th>1</th>\n",
       "      <td>0.145062</td>\n",
       "      <td>-0.505179</td>\n",
       "      <td>1.267173</td>\n",
       "      <td>-0.843848</td>\n",
       "      <td>1.302061</td>\n",
       "      <td>0.390095</td>\n",
       "      <td>-0.49705</td>\n",
       "      <td>-0.657596</td>\n",
       "      <td>-0.138675</td>\n",
       "      <td>-0.64291</td>\n",
       "      <td>-0.702109</td>\n",
       "      <td>-0.762948</td>\n",
       "      <td>1.365601</td>\n",
       "    </tr>\n",
       "    <tr>\n",
       "      <th>2</th>\n",
       "      <td>0.510801</td>\n",
       "      <td>-0.505179</td>\n",
       "      <td>-1.048695</td>\n",
       "      <td>0.302920</td>\n",
       "      <td>-0.064458</td>\n",
       "      <td>0.390095</td>\n",
       "      <td>-0.49705</td>\n",
       "      <td>-0.657596</td>\n",
       "      <td>-0.138675</td>\n",
       "      <td>-0.64291</td>\n",
       "      <td>-0.702109</td>\n",
       "      <td>-0.762948</td>\n",
       "      <td>1.365601</td>\n",
       "    </tr>\n",
       "    <tr>\n",
       "      <th>3</th>\n",
       "      <td>0.252633</td>\n",
       "      <td>-0.505179</td>\n",
       "      <td>-1.048695</td>\n",
       "      <td>2.596454</td>\n",
       "      <td>-0.064458</td>\n",
       "      <td>0.390095</td>\n",
       "      <td>-0.49705</td>\n",
       "      <td>-0.657596</td>\n",
       "      <td>-0.138675</td>\n",
       "      <td>-0.64291</td>\n",
       "      <td>-0.702109</td>\n",
       "      <td>1.310705</td>\n",
       "      <td>-0.732279</td>\n",
       "    </tr>\n",
       "    <tr>\n",
       "      <th>4</th>\n",
       "      <td>0.033189</td>\n",
       "      <td>1.636781</td>\n",
       "      <td>0.109239</td>\n",
       "      <td>1.449687</td>\n",
       "      <td>-0.064458</td>\n",
       "      <td>0.390095</td>\n",
       "      <td>-0.49705</td>\n",
       "      <td>-0.657596</td>\n",
       "      <td>-0.138675</td>\n",
       "      <td>-0.64291</td>\n",
       "      <td>-0.702109</td>\n",
       "      <td>-0.762948</td>\n",
       "      <td>1.365601</td>\n",
       "    </tr>\n",
       "  </tbody>\n",
       "</table>\n",
       "</div>"
      ],
      "text/plain": [
       "       area  bathrooms   stories   parking  bedrooms  mainroad_yes  \\\n",
       "0 -1.005938  -0.505179 -1.048695 -0.843848 -0.064458      0.390095   \n",
       "1  0.145062  -0.505179  1.267173 -0.843848  1.302061      0.390095   \n",
       "2  0.510801  -0.505179 -1.048695  0.302920 -0.064458      0.390095   \n",
       "3  0.252633  -0.505179 -1.048695  2.596454 -0.064458      0.390095   \n",
       "4  0.033189   1.636781  0.109239  1.449687 -0.064458      0.390095   \n",
       "\n",
       "   guestroom_yes  basement_yes  hotwaterheating_yes  airconditioning_yes  \\\n",
       "0       -0.49705     -0.657596            -0.138675             -0.64291   \n",
       "1       -0.49705     -0.657596            -0.138675             -0.64291   \n",
       "2       -0.49705     -0.657596            -0.138675             -0.64291   \n",
       "3       -0.49705     -0.657596            -0.138675             -0.64291   \n",
       "4       -0.49705     -0.657596            -0.138675             -0.64291   \n",
       "\n",
       "   prefarea_yes  furnishingstatus_semi-furnished  furnishingstatus_unfurnished  \n",
       "0     -0.702109                        -0.762948                      1.365601  \n",
       "1     -0.702109                        -0.762948                      1.365601  \n",
       "2     -0.702109                        -0.762948                      1.365601  \n",
       "3     -0.702109                         1.310705                     -0.732279  \n",
       "4     -0.702109                        -0.762948                      1.365601  "
      ]
     },
     "execution_count": 35,
     "metadata": {},
     "output_type": "execute_result"
    }
   ],
   "source": [
    "X_test_scaled.head()"
   ]
  },
  {
   "cell_type": "code",
   "execution_count": null,
   "metadata": {},
   "outputs": [],
   "source": []
  },
  {
   "cell_type": "markdown",
   "metadata": {},
   "source": [
    "### 4. Feature Selection\n",
    "* Now lets select the most important features."
   ]
  },
  {
   "cell_type": "markdown",
   "metadata": {},
   "source": [
    "#### 1. Correlation\n",
    "* Check for correlation between the predictor variable.\n",
    "* Since this is a regression problem we want to check for multicollinearity."
   ]
  },
  {
   "cell_type": "code",
   "execution_count": 37,
   "metadata": {},
   "outputs": [
    {
     "data": {
      "image/png": "[encoded data removed]",
      "text/plain": [
       "<Figure size 2500x2000 with 2 Axes>"
      ]
     },
     "metadata": {},
     "output_type": "display_data"
    }
   ],
   "source": [
    "plt.figure(figsize=(25,20))\n",
    "sns.heatmap(X_train_scaled.corr(), annot=True, vmin=-1, vmax=1, center=0)\n",
    "plt.title(\"Correlation\")\n",
    "plt.show()"
   ]
  },
  {
   "cell_type": "markdown",
   "metadata": {},
   "source": [
    "**There seems to be a few predictor variables with strong correlation, let's investigate this a little bit more**"
   ]
  },
  {
   "cell_type": "markdown",
   "metadata": {},
   "source": [
    "#### Using Variance Inflation Factor\n",
    "* Variance inflation factor (VIF) is a statistical measure that assesses the extent to which the variance of the estimated regression coefficient is inflated due to multicollinearity in a multiple regression model.\n",
    "* A high VIF value indicates that the independent variable is highly correlated with other independent variables in the model and that its contribution to the model may not be unique. \n",
    "* A VIF value greater than 5 or 10 is usually considered problematic and suggests that the independent variable should be removed from the model to avoid multicollinearity issues."
   ]
  },
  {
   "cell_type": "code",
   "execution_count": 77,
   "metadata": {},
   "outputs": [
    {
     "name": "stdout",
     "output_type": "stream",
     "text": [
      "    VIF Factor                         Features\n",
      "0     1.377411                             area\n",
      "1     1.327149                        bathrooms\n",
      "2     1.518605                          stories\n",
      "3     1.258647                          parking\n",
      "4     1.369921                         bedrooms\n",
      "5     1.195066                     mainroad_yes\n",
      "6     1.199501                    guestroom_yes\n",
      "7     1.369006                     basement_yes\n",
      "8     1.074902              hotwaterheating_yes\n",
      "9     1.234967              airconditioning_yes\n",
      "10    1.163985                     prefarea_yes\n",
      "11    1.623739  furnishingstatus_semi-furnished\n",
      "12    1.697490     furnishingstatus_unfurnished\n"
     ]
    }
   ],
   "source": [
    "# Calculate the VIF for each independent variable\n",
    "vif = pd.DataFrame()\n",
    "vif[\"VIF Factor\"] = [variance_inflation_factor(X_train_scaled.values, i) for i in range(X_train_scaled.shape[1])]\n",
    "vif[\"Features\"] = X_train_scaled.columns\n",
    "\n",
    "# Print the VIF values for each independent variable\n",
    "print(vif)"
   ]
  },
  {
   "cell_type": "markdown",
   "metadata": {},
   "source": [
    "**Findings**: from the results of our VIF there is very minimal multicolliearity.\n",
    "* Based on VIF we should't drop any features yet.\n",
    "* However, let's also use a **RFE** to select the most relevant variables."
   ]
  },
  {
   "cell_type": "markdown",
   "metadata": {},
   "source": [
    "#### RFE"
   ]
  },
  {
   "cell_type": "code",
   "execution_count": 89,
   "metadata": {},
   "outputs": [
    {
     "name": "stdout",
     "output_type": "stream",
     "text": [
      "                                     \u001b[1mLinear Regression\u001b[0m                                      \n",
      "[ True False False False False False False False False False False False\n",
      " False] -->> 0.3765503183576068 --> 1\n",
      "[ True  True False False False False False False False False False False\n",
      " False] -->> 0.5296291642618339 --> 2\n",
      "[ True  True False False False False False False False  True False False\n",
      " False] -->> 0.5993375809693726 --> 3\n",
      "[ True  True  True False False False False False False  True False False\n",
      " False] -->> 0.6388486057509786 --> 4\n",
      "[ True  True  True False False False False False False  True  True False\n",
      " False] -->> 0.6576102255355291 --> 5\n",
      "[ True  True  True  True False False False False False  True  True False\n",
      " False] -->> 0.6663029409013284 --> 6\n",
      "[ True  True  True  True False False False False  True  True  True False\n",
      " False] -->> 0.6420906303723437 --> 7\n",
      "[ True  True  True  True False False False False  True  True  True False\n",
      "  True] -->> 0.6625342492088677 --> 8\n",
      "[ True  True  True  True False False  True False  True  True  True False\n",
      "  True] -->> 0.6665383941724945 --> 9\n",
      "[ True  True  True  True False False  True  True  True  True  True False\n",
      "  True] -->> 0.6759314518507304 --> 10\n",
      "[ True  True  True  True False  True  True  True  True  True  True False\n",
      "  True] -->> 0.6820522202197887 --> 11\n",
      "[ True  True  True  True  True  True  True  True  True  True  True False\n",
      "  True] -->> 0.6840711128763273 --> 12\n",
      "[ True  True  True  True  True  True  True  True  True  True  True  True\n",
      "  True] -->> 0.683371668099634 --> 13\n",
      "Optimum number of features: 12\n",
      "Score with 12 features: 0.684071\n"
     ]
    }
   ],
   "source": [
    "print(f\"\\033[1mLinear Regression\\033[0m\".center(100))\n",
    "high_score=0\n",
    "#Variable to store the optimum features\n",
    "\n",
    "no_columns = np.arange(1, len(X_train_scaled.columns)+1)\n",
    "best_no_features=0           \n",
    "score_list =[]\n",
    "for n in range(len(no_columns)):\n",
    "    model = LinearRegression()\n",
    "    rfe = RFE(model,n_features_to_select=no_columns[n])\n",
    "    X_train_rfe = rfe.fit_transform(X_train_scaled,y_train)\n",
    "    X_test_rfe = rfe.transform(X_test_scaled)\n",
    "    model.fit(X_train_rfe,y_train)\n",
    "    score = model.score(X_test_rfe,y_test)\n",
    "    score_list.append(score)\n",
    "    print(f\"{rfe.support_} -->> {score} --> {no_columns[n]}\")\n",
    "    if(score>high_score):\n",
    "        high_score = score\n",
    "        best_no_features = no_columns[n]\n",
    "print(\"Optimum number of features: %d\" %best_no_features)\n",
    "print(\"Score with %d features: %f\" % (best_no_features, high_score))"
   ]
  },
  {
   "cell_type": "code",
   "execution_count": 88,
   "metadata": {},
   "outputs": [
    {
     "name": "stdout",
     "output_type": "stream",
     "text": [
      "                                  \u001b[1mRandom Forest Regression\u001b[0m                                  \n",
      "[ True False False False False False False False False False False False\n",
      " False] -->> 0.37629337382462646 --> 1\n",
      "[ True  True False False False False False False False False False False\n",
      " False] -->> 0.5295098345156646 --> 2\n",
      "[ True  True False False False False False False False  True False False\n",
      " False] -->> 0.5993095899196268 --> 3\n",
      "[ True  True  True False False False False False False  True False False\n",
      " False] -->> 0.6387944410667991 --> 4\n",
      "[ True  True  True False False False False False False  True  True False\n",
      " False] -->> 0.6576278062227235 --> 5\n",
      "[ True  True  True  True False False False False False  True  True False\n",
      " False] -->> 0.6663191291126782 --> 6\n",
      "[ True  True  True  True False False False False  True  True  True False\n",
      " False] -->> 0.6422523486498757 --> 7\n",
      "[ True  True  True  True False False False False  True  True  True False\n",
      "  True] -->> 0.6626897989134838 --> 8\n",
      "[ True  True  True  True False False  True False  True  True  True False\n",
      "  True] -->> 0.6667306265871236 --> 9\n",
      "[ True  True  True  True False False  True  True  True  True  True False\n",
      "  True] -->> 0.6761136335878538 --> 10\n",
      "[ True  True  True  True False  True  True  True  True  True  True False\n",
      "  True] -->> 0.6822406139900035 --> 11\n",
      "[ True  True  True  True  True  True  True  True  True  True  True False\n",
      "  True] -->> 0.6842700589351907 --> 12\n",
      "[ True  True  True  True  True  True  True  True  True  True  True  True\n",
      "  True] -->> 0.6835578546631993 --> 13\n",
      "Optimum number of features: 12\n",
      "Score with 12 features: 0.684270\n"
     ]
    }
   ],
   "source": [
    "print(f\"\\033[1mRandom Forest Regression\\033[0m\".center(100))\n",
    "high_score=0\n",
    "#Variable to store the optimum features\n",
    "\n",
    "no_columns = np.arange(1, len(X_train_scaled.columns)+1)\n",
    "best_no_features=0           \n",
    "score_list =[]\n",
    "for n in range(len(no_columns)):\n",
    "    model = Ridge()\n",
    "    rfe = RFE(model,n_features_to_select=no_columns[n])\n",
    "    X_train_rfe = rfe.fit_transform(X_train_scaled,y_train)\n",
    "    X_test_rfe = rfe.transform(X_test_scaled)\n",
    "    model.fit(X_train_rfe,y_train)\n",
    "    score = model.score(X_test_rfe,y_test)\n",
    "    score_list.append(score)\n",
    "    print(f\"{rfe.support_} -->> {score} --> {no_columns[n]}\")\n",
    "    if(score>high_score):\n",
    "        high_score = score\n",
    "        best_no_features = no_columns[n]\n",
    "print(\"Optimum number of features: %d\" %best_no_features)\n",
    "print(\"Score with %d features: %f\" % (best_no_features, high_score))"
   ]
  },
  {
   "cell_type": "markdown",
   "metadata": {},
   "source": [
    "**The second best future according to the RFE are 12**\n",
    "* The second last column **furnishingstatus_semi-furnished** is the least important feature.\n",
    "* However, the difference between selecting the 12 best and using all the feature is very small.\n",
    "* Given the dimensionality of the dataset is relatively small, we can afford to use all the features\n",
    "* Be weary of overfitting though."
   ]
  },
  {
   "cell_type": "code",
   "execution_count": null,
   "metadata": {},
   "outputs": [],
   "source": []
  },
  {
   "cell_type": "markdown",
   "metadata": {},
   "source": [
    "### 5. Modelling"
   ]
  },
  {
   "cell_type": "code",
   "execution_count": null,
   "metadata": {},
   "outputs": [],
   "source": []
  },
  {
   "cell_type": "code",
   "execution_count": 137,
   "metadata": {},
   "outputs": [],
   "source": [
    "def train_evaluate(estimator):\n",
    "    model = estimator.fit(X_train_scaled, y_train)\n",
    "    # Training Evaluation\n",
    "    train_score = model.score(X_train_scaled, y_train)\n",
    "    train_pred = model.predict(X_train_scaled)\n",
    "    train_mae = mean_absolute_error(train_pred, y_train)\n",
    "    train_mse = mean_squared_error(train_pred, y_train)\n",
    "    \n",
    "    print(f\"Coefficients -->> {model.coef_} \\n\".upper())\n",
    "    print(f\"Intercept -->> {model.intercept_}\".upper())\n",
    "    print(\"\\n\\n\"+\"-\"*20+\"Training Scores\".upper()+\"-\"*20+\"\\n\\n\")\n",
    "    print(f\"R^2 --> {train_score}.\")\n",
    "    print(f\"Train MAE --> {train_mae}.\")\n",
    "    print(f\"Train MSE --> {train_mse}.\")\n",
    "    print(\"\\n\\n\"+\"-\"*20+\"Test Scores\".upper()+\"-\"*20+\"\\n\\n\")\n",
    "    test_score=model.score(X_test_scaled, y_test)\n",
    "    test_pred = model.predict(X_test_scaled)\n",
    "    test_mae = mean_absolute_error(test_pred, y_test)\n",
    "    test_mse = mean_squared_error(test_pred, y_test)\n",
    "    print(f\"R^2 --> {test_score}.\")\n",
    "    print(f\"Test MAE --> {test_mae}.\")\n",
    "    print(f\"Test MSE --> {test_mse}.\")"
   ]
  },
  {
   "cell_type": "code",
   "execution_count": 140,
   "metadata": {},
   "outputs": [
    {
     "name": "stdout",
     "output_type": "stream",
     "text": [
      "                                     \u001b[1mLinear Regression\u001b[0m                                      \n",
      "COEFFICIENTS -->> [[ 488124.98812636  474502.71889052  401998.72720984  237179.70544846\n",
      "    64927.12742384  129606.90519776  146491.25370238  119915.43829159\n",
      "   222850.15745316  400996.47665107  309235.89891389    8657.43656489\n",
      "  -168601.8652901 ]] \n",
      "\n",
      "INTERCEPT -->> [4712761.08747045]\n",
      "\n",
      "\n",
      "--------------------TRAINING SCORES--------------------\n",
      "\n",
      "\n",
      "R^2 --> 0.6761864802318147.\n",
      "Train MAE --> 759606.5457461146.\n",
      "Train MSE --> 1082022315292.0375.\n",
      "\n",
      "\n",
      "--------------------TEST SCORES--------------------\n",
      "\n",
      "\n",
      "R^2 --> 0.683371668099634.\n",
      "Test MAE --> 783072.5158377235.\n",
      "Test MSE --> 1109025406531.0981.\n"
     ]
    }
   ],
   "source": [
    "print(f\"\\033[1mLinear Regression\\033[0m\".center(100))\n",
    "linear_regression = LinearRegression()\n",
    "train_evaluate(linear_regression)"
   ]
  },
  {
   "cell_type": "code",
   "execution_count": 143,
   "metadata": {},
   "outputs": [
    {
     "name": "stdout",
     "output_type": "stream",
     "text": [
      "                                      \u001b[1mLasso Regression\u001b[0m                                      \n",
      "COEFFICIENTS -->> [ 488124.7701173   474502.61522601  401998.04633567  237179.30958716\n",
      "   64926.83702316  129606.30271496  146490.79711852  119914.75364852\n",
      "  222849.13559363  400995.83097731  309235.36305318    8656.55973365\n",
      " -168601.92392422] \n",
      "\n",
      "INTERCEPT -->> [4712761.08747045]\n",
      "\n",
      "\n",
      "--------------------TRAINING SCORES--------------------\n",
      "\n",
      "\n",
      "R^2 --> 0.6761864802298845.\n",
      "Train MAE --> 759606.2413242776.\n",
      "Train MSE --> 1082022315298.4874.\n",
      "\n",
      "\n",
      "--------------------TEST SCORES--------------------\n",
      "\n",
      "\n",
      "R^2 --> 0.6833719981504214.\n",
      "Test MAE --> 783072.0430230225.\n",
      "Test MSE --> 1109024250492.0713.\n"
     ]
    }
   ],
   "source": [
    "print(f\"\\033[1mLasso Regression\\033[0m\".center(100))\n",
    "randomforest = Lasso()\n",
    "train_evaluate(randomforest)"
   ]
  },
  {
   "cell_type": "markdown",
   "metadata": {},
   "source": [
    "#### Random Forest"
   ]
  },
  {
   "cell_type": "code",
   "execution_count": 144,
   "metadata": {},
   "outputs": [],
   "source": [
    "rf = RandomForestRegressor()\n",
    "model.fit(X_train_scaled, y_train)\n",
    "y_preds = model.predict(X_test_scaled)"
   ]
  },
  {
   "cell_type": "code",
   "execution_count": 147,
   "metadata": {},
   "outputs": [
    {
     "name": "stdout",
     "output_type": "stream",
     "text": [
      "RF_MAE, 783072.5158377235\n"
     ]
    }
   ],
   "source": [
    "print(f\"RF_MAE, {mean_absolute_error(y_preds, y_test)}\")"
   ]
  },
  {
   "cell_type": "markdown",
   "metadata": {},
   "source": [
    "## Make sure to perform hyperparameter tuning, then make  conclusion."
   ]
  },
  {
   "cell_type": "markdown",
   "metadata": {},
   "source": [
    "# END"
   ]
  }
 ],
 "metadata": {
  "kernelspec": {
   "display_name": "Python 3",
   "language": "python",
   "name": "python3"
  },
  "language_info": {
   "codemirror_mode": {
    "name": "ipython",
    "version": 3
   },
   "file_extension": ".py",
   "mimetype": "text/x-python",
   "name": "python",
   "nbconvert_exporter": "python",
   "pygments_lexer": "ipython3",
   "version": "3.9.13"
  }
 },
 "nbformat": 4,
 "nbformat_minor": 4
}
